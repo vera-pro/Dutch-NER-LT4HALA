{
 "cells": [
  {
   "cell_type": "code",
   "execution_count": 8,
   "metadata": {},
   "outputs": [],
   "source": [
    "prefix = '/ivi/ilps/personal/vprovat/KB/data/AITrainingset/Data/'\n",
    "\n",
    "files = ['train.txt','validation.txt','test_VOC.txt',\n",
    "        'test_RHC.txt',\n",
    "        'test_SA.txt','test_NHA.txt']"
   ]
  },
  {
   "cell_type": "code",
   "execution_count": 14,
   "metadata": {},
   "outputs": [
    {
     "name": "stdout",
     "output_type": "stream",
     "text": [
      "train.txt\n",
      "PER:  55921\n",
      "LOC:  30636\n",
      "TIME:  19809\n",
      "=======\n",
      "validation.txt\n",
      "PER:  14393\n",
      "LOC:  7427\n",
      "TIME:  4782\n",
      "=======\n",
      "test_VOC.txt\n",
      "PER:  290\n",
      "LOC:  315\n",
      "TIME:  180\n",
      "=======\n",
      "test_RHC.txt\n",
      "PER:  24\n",
      "LOC:  17\n",
      "TIME:  5\n",
      "=======\n",
      "test_SA.txt\n",
      "PER:  781\n",
      "LOC:  257\n",
      "TIME:  255\n",
      "=======\n",
      "test_NHA.txt\n",
      "PER:  352\n",
      "LOC:  252\n",
      "TIME:  109\n",
      "=======\n"
     ]
    }
   ],
   "source": [
    "for file in files:\n",
    "    content = open(prefix+file,\n",
    "               'rb').read().decode(errors='replace').strip()\n",
    "    lines = content.split('\\n')\n",
    "    \n",
    "    print(file)\n",
    "    for ent in ['B-PER','B-LOC','B-TIME']:\n",
    "        num_entities = len([line for line in lines if line.find(ent) != -1])\n",
    "        print(ent.split('-')[-1]+': ', num_entities)\n",
    "    print('=======')"
   ]
  },
  {
   "cell_type": "code",
   "execution_count": 15,
   "metadata": {},
   "outputs": [
    {
     "name": "stdout",
     "output_type": "stream",
     "text": [
      "PER:  1098\n",
      "LOC:  774\n",
      "TIME:  0\n"
     ]
    }
   ],
   "source": [
    "content = open('/ivi/ilps/personal/vprovat/KB/data/Dutch_conll/ned.testb',\n",
    "               'rb').read().decode(errors='replace').strip()\n",
    "lines = content.split('\\n')\n",
    "for ent in ['B-PER','B-LOC','B-TIME']:\n",
    "        num_entities = len([line for line in lines if line.find(ent) != -1])\n",
    "        print(ent.split('-')[-1]+': ', num_entities)"
   ]
  },
  {
   "cell_type": "code",
   "execution_count": null,
   "metadata": {},
   "outputs": [],
   "source": []
  }
 ],
 "metadata": {
  "kernelspec": {
   "display_name": "tabi",
   "language": "python",
   "name": "tabi"
  },
  "language_info": {
   "codemirror_mode": {
    "name": "ipython",
    "version": 3
   },
   "file_extension": ".py",
   "mimetype": "text/x-python",
   "name": "python",
   "nbconvert_exporter": "python",
   "pygments_lexer": "ipython3",
   "version": "3.7.5"
  }
 },
 "nbformat": 4,
 "nbformat_minor": 4
}
