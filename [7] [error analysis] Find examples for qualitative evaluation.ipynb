{
 "cells": [
  {
   "cell_type": "code",
   "execution_count": 2,
   "metadata": {},
   "outputs": [],
   "source": [
    "tests_old = 'test_NHA.txt  test_RHC.txt  test_SA.txt  test_VOC.txt'.split()\n",
    "# tests\n",
    "tests = tests_old +['ned.testb'] # for the names\n"
   ]
  },
  {
   "cell_type": "code",
   "execution_count": 3,
   "metadata": {},
   "outputs": [
    {
     "data": {
      "application/vnd.jupyter.widget-view+json": {
       "model_id": "5b8a8749b939410da1b2cc6d48e98301",
       "version_major": 2,
       "version_minor": 0
      },
      "text/plain": [
       "  0%|          | 0/8040 [00:00<?, ?it/s]"
      ]
     },
     "metadata": {},
     "output_type": "display_data"
    },
    {
     "data": {
      "application/vnd.jupyter.widget-view+json": {
       "model_id": "d9f0763eb1de495f86b77139f38621ba",
       "version_major": 2,
       "version_minor": 0
      },
      "text/plain": [
       "  0%|          | 0/2150 [00:00<?, ?it/s]"
      ]
     },
     "metadata": {},
     "output_type": "display_data"
    },
    {
     "data": {
      "application/vnd.jupyter.widget-view+json": {
       "model_id": "05777afb3fe84b7c9edd3c9f6c5b6702",
       "version_major": 2,
       "version_minor": 0
      },
      "text/plain": [
       "  0%|          | 0/27 [00:00<?, ?it/s]"
      ]
     },
     "metadata": {},
     "output_type": "display_data"
    },
    {
     "data": {
      "application/vnd.jupyter.widget-view+json": {
       "model_id": "ffe02cbd5d374538b9f629d0ccfc0fc5",
       "version_major": 2,
       "version_minor": 0
      },
      "text/plain": [
       "  0%|          | 0/1 [00:00<?, ?it/s]"
      ]
     },
     "metadata": {},
     "output_type": "display_data"
    },
    {
     "data": {
      "application/vnd.jupyter.widget-view+json": {
       "model_id": "875d6dff84854bf4bac8bf60d8782762",
       "version_major": 2,
       "version_minor": 0
      },
      "text/plain": [
       "  0%|          | 0/78 [00:00<?, ?it/s]"
      ]
     },
     "metadata": {},
     "output_type": "display_data"
    },
    {
     "data": {
      "application/vnd.jupyter.widget-view+json": {
       "model_id": "e5d8cb3751f64058ace6f2df8a782f81",
       "version_major": 2,
       "version_minor": 0
      },
      "text/plain": [
       "  0%|          | 0/91 [00:00<?, ?it/s]"
      ]
     },
     "metadata": {},
     "output_type": "display_data"
    },
    {
     "data": {
      "application/vnd.jupyter.widget-view+json": {
       "model_id": "1469e8385ad44cfa9e4ec0aa5d904fe9",
       "version_major": 2,
       "version_minor": 0
      },
      "text/plain": [
       "  0%|          | 0/5076 [00:00<?, ?it/s]"
      ]
     },
     "metadata": {},
     "output_type": "display_data"
    }
   ],
   "source": [
    "import torch\n",
    "from transformers import AutoTokenizer, AutoModelForTokenClassification, Trainer, TrainingArguments, AutoModel\n",
    "from datasets import load_dataset, load_metric, Dataset, DatasetDict\n",
    "import numpy as np\n",
    "from seqeval.metrics import f1_score, precision_score, recall_score, classification_report\n",
    "from data_utils import prepare_data, convert_to_dataset\n",
    "\n",
    "# train and val are redundant but we need the labels, sooo\n",
    "train = prepare_data('/ivi/ilps/personal/vprovat/KB/data/AITrainingset/Data/train.txt')\n",
    "val = prepare_data('/ivi/ilps/personal/vprovat/KB/data/AITrainingset/Data/validation.txt')\n",
    "tests_prepared = {test:\n",
    "     prepare_data('/ivi/ilps/personal/vprovat/KB/data/AITrainingset/Data/'+test) for test in tests_old\n",
    "                 } # NB: here it's a dictionary, used to be a list\n",
    "\n",
    "tests_prepared['ned.testb'] = prepare_data('/ivi/ilps/personal/vprovat/KB/data/Dutch_conll/ned.testb')\n"
   ]
  },
  {
   "cell_type": "code",
   "execution_count": 4,
   "metadata": {},
   "outputs": [],
   "source": [
    "label_list = sorted(list(set([token_data[1] for sentence in train for token_data in sentence if token_data])))\n",
    "\n",
    "label_list = label_list\n",
    "# print(label_list_new)\n",
    "id2label_original = {i: label for i, label in enumerate(label_list)}\n",
    "label2id = {label: i for i, label in enumerate(label_list)}\n",
    "label_map = {label: i for i, label in enumerate(label_list)}\n",
    "label_map.update({'B-ORG': label2id['O'],\n",
    "                  'B-MISC': label2id['O'], \n",
    "                  'I-ORG': label2id['O'],\n",
    "                  'I-MISC': label2id['O']})\n",
    "\n",
    "train_data = convert_to_dataset(train, label_map)\n",
    "val_data = convert_to_dataset(val, label_map)\n",
    "test_data = [convert_to_dataset(test, label_map)\n",
    "             for _, test in tests_prepared.items()]"
   ]
  },
  {
   "cell_type": "code",
   "execution_count": 5,
   "metadata": {},
   "outputs": [],
   "source": [
    "id2label = id2label_original\n",
    "dct = {\n",
    "#     \"train\": train_data,\n",
    "#     \"validation\": val_data # remove train and val for now\n",
    "}\n",
    "for i, test in enumerate(tests):\n",
    "    dct[test.split('.')[0]] = test_data[i]\n",
    "\n",
    "datasets = DatasetDict(dct)"
   ]
  },
  {
   "cell_type": "code",
   "execution_count": 6,
   "metadata": {},
   "outputs": [],
   "source": [
    "import pickle\n",
    "all_wrong_preds=pickle.load(open('all_wrong_preds.p','rb'))"
   ]
  },
  {
   "cell_type": "code",
   "execution_count": 7,
   "metadata": {},
   "outputs": [],
   "source": [
    "# all_wrong_preds"
   ]
  },
  {
   "cell_type": "code",
   "execution_count": 8,
   "metadata": {},
   "outputs": [],
   "source": [
    "# tests_prepared['test_RHC.txt']"
   ]
  },
  {
   "cell_type": "code",
   "execution_count": 9,
   "metadata": {},
   "outputs": [],
   "source": [
    "def confused_per_and_loc(true_label, pred_label):\n",
    "    return set([true_label.split('-')[-1],pred_label.split('-')[-1]]) == set(['PER','LOC'])"
   ]
  },
  {
   "cell_type": "code",
   "execution_count": 10,
   "metadata": {},
   "outputs": [],
   "source": [
    "# wrong_pred = all_wrong_preds['GysBERT']['test_RHC.txt'][0]"
   ]
  },
  {
   "cell_type": "code",
   "execution_count": 11,
   "metadata": {},
   "outputs": [],
   "source": [
    "# match_preds(wrong_pred)"
   ]
  },
  {
   "cell_type": "code",
   "execution_count": 12,
   "metadata": {},
   "outputs": [],
   "source": [
    "model_names = {'GysBERT': \"/ivi/ilps/personal/vprovat/KB/models/GysBERT-NER-v2\",\n",
    "              'BERTje': \"/ivi/ilps/personal/vprovat/KB/models/BERTje-NER-v2\",\n",
    "              'BERT-multi-cased': \"/ivi/ilps/personal/vprovat/KB/models/BERT-multi-cased-NER-v2\",\n",
    "              'WikiNEuRal': \"Babelscape/wikineural-multilingual-ner\"}"
   ]
  },
  {
   "cell_type": "code",
   "execution_count": 13,
   "metadata": {},
   "outputs": [],
   "source": [
    "def tokenize_and_align_labels(examples):\n",
    "    tokenized_inputs = tokenizer(\n",
    "        examples[\"tokens\"], truncation=True, is_split_into_words=True, padding=True, return_tensors='pt'\n",
    "    )\n",
    "    labels = []\n",
    "    for i, label in enumerate(examples[\"ner_tags\"]):\n",
    "        word_ids = tokenized_inputs.word_ids(batch_index=i)\n",
    "        previous_word_idx = None\n",
    "        label_ids = []\n",
    "        for word_idx in word_ids:\n",
    "            if word_idx is None:\n",
    "                label_ids.append(-100)\n",
    "            elif word_idx != previous_word_idx:\n",
    "                label_ids.append(label[word_idx])\n",
    "            else:\n",
    "                label_ids.append(-100)\n",
    "            previous_word_idx = word_idx\n",
    "        labels.append(label_ids)\n",
    "    tokenized_inputs[\"labels\"] = labels\n",
    "    return tokenized_inputs"
   ]
  },
  {
   "cell_type": "code",
   "execution_count": 14,
   "metadata": {},
   "outputs": [],
   "source": [
    "def get_tokenized_datasets(model_name):\n",
    "    global tokenizer\n",
    "    tokenizer = AutoTokenizer.from_pretrained(model_name, model_max_length=512)\n",
    "    global model\n",
    "    model = AutoModelForTokenClassification.from_pretrained(model_name)\n",
    "    tokenized_datasets = datasets.map(tokenize_and_align_labels, batched=True)\n",
    "    \n",
    "    return tokenized_datasets"
   ]
  },
  {
   "cell_type": "code",
   "execution_count": 15,
   "metadata": {},
   "outputs": [
    {
     "data": {
      "application/vnd.jupyter.widget-view+json": {
       "model_id": "",
       "version_major": 2,
       "version_minor": 0
      },
      "text/plain": [
       "Map:   0%|          | 0/51 [00:00<?, ? examples/s]"
      ]
     },
     "metadata": {},
     "output_type": "display_data"
    },
    {
     "data": {
      "application/vnd.jupyter.widget-view+json": {
       "model_id": "",
       "version_major": 2,
       "version_minor": 0
      },
      "text/plain": [
       "Map:   0%|          | 0/3 [00:00<?, ? examples/s]"
      ]
     },
     "metadata": {},
     "output_type": "display_data"
    },
    {
     "data": {
      "application/vnd.jupyter.widget-view+json": {
       "model_id": "",
       "version_major": 2,
       "version_minor": 0
      },
      "text/plain": [
       "Map:   0%|          | 0/114 [00:00<?, ? examples/s]"
      ]
     },
     "metadata": {},
     "output_type": "display_data"
    },
    {
     "data": {
      "application/vnd.jupyter.widget-view+json": {
       "model_id": "",
       "version_major": 2,
       "version_minor": 0
      },
      "text/plain": [
       "Map:   0%|          | 0/111 [00:00<?, ? examples/s]"
      ]
     },
     "metadata": {},
     "output_type": "display_data"
    },
    {
     "data": {
      "application/vnd.jupyter.widget-view+json": {
       "model_id": "",
       "version_major": 2,
       "version_minor": 0
      },
      "text/plain": [
       "Map:   0%|          | 0/5076 [00:00<?, ? examples/s]"
      ]
     },
     "metadata": {},
     "output_type": "display_data"
    },
    {
     "data": {
      "application/vnd.jupyter.widget-view+json": {
       "model_id": "",
       "version_major": 2,
       "version_minor": 0
      },
      "text/plain": [
       "Map:   0%|          | 0/51 [00:00<?, ? examples/s]"
      ]
     },
     "metadata": {},
     "output_type": "display_data"
    },
    {
     "data": {
      "application/vnd.jupyter.widget-view+json": {
       "model_id": "",
       "version_major": 2,
       "version_minor": 0
      },
      "text/plain": [
       "Map:   0%|          | 0/3 [00:00<?, ? examples/s]"
      ]
     },
     "metadata": {},
     "output_type": "display_data"
    },
    {
     "data": {
      "application/vnd.jupyter.widget-view+json": {
       "model_id": "",
       "version_major": 2,
       "version_minor": 0
      },
      "text/plain": [
       "Map:   0%|          | 0/114 [00:00<?, ? examples/s]"
      ]
     },
     "metadata": {},
     "output_type": "display_data"
    },
    {
     "data": {
      "application/vnd.jupyter.widget-view+json": {
       "model_id": "",
       "version_major": 2,
       "version_minor": 0
      },
      "text/plain": [
       "Map:   0%|          | 0/111 [00:00<?, ? examples/s]"
      ]
     },
     "metadata": {},
     "output_type": "display_data"
    },
    {
     "data": {
      "application/vnd.jupyter.widget-view+json": {
       "model_id": "",
       "version_major": 2,
       "version_minor": 0
      },
      "text/plain": [
       "Map:   0%|          | 0/5076 [00:00<?, ? examples/s]"
      ]
     },
     "metadata": {},
     "output_type": "display_data"
    },
    {
     "data": {
      "application/vnd.jupyter.widget-view+json": {
       "model_id": "",
       "version_major": 2,
       "version_minor": 0
      },
      "text/plain": [
       "Map:   0%|          | 0/51 [00:00<?, ? examples/s]"
      ]
     },
     "metadata": {},
     "output_type": "display_data"
    },
    {
     "data": {
      "application/vnd.jupyter.widget-view+json": {
       "model_id": "",
       "version_major": 2,
       "version_minor": 0
      },
      "text/plain": [
       "Map:   0%|          | 0/3 [00:00<?, ? examples/s]"
      ]
     },
     "metadata": {},
     "output_type": "display_data"
    },
    {
     "data": {
      "application/vnd.jupyter.widget-view+json": {
       "model_id": "",
       "version_major": 2,
       "version_minor": 0
      },
      "text/plain": [
       "Map:   0%|          | 0/114 [00:00<?, ? examples/s]"
      ]
     },
     "metadata": {},
     "output_type": "display_data"
    },
    {
     "data": {
      "application/vnd.jupyter.widget-view+json": {
       "model_id": "",
       "version_major": 2,
       "version_minor": 0
      },
      "text/plain": [
       "Map:   0%|          | 0/111 [00:00<?, ? examples/s]"
      ]
     },
     "metadata": {},
     "output_type": "display_data"
    },
    {
     "data": {
      "application/vnd.jupyter.widget-view+json": {
       "model_id": "",
       "version_major": 2,
       "version_minor": 0
      },
      "text/plain": [
       "Map:   0%|          | 0/5076 [00:00<?, ? examples/s]"
      ]
     },
     "metadata": {},
     "output_type": "display_data"
    },
    {
     "data": {
      "application/vnd.jupyter.widget-view+json": {
       "model_id": "",
       "version_major": 2,
       "version_minor": 0
      },
      "text/plain": [
       "Map:   0%|          | 0/51 [00:00<?, ? examples/s]"
      ]
     },
     "metadata": {},
     "output_type": "display_data"
    },
    {
     "data": {
      "application/vnd.jupyter.widget-view+json": {
       "model_id": "",
       "version_major": 2,
       "version_minor": 0
      },
      "text/plain": [
       "Map:   0%|          | 0/3 [00:00<?, ? examples/s]"
      ]
     },
     "metadata": {},
     "output_type": "display_data"
    },
    {
     "data": {
      "application/vnd.jupyter.widget-view+json": {
       "model_id": "",
       "version_major": 2,
       "version_minor": 0
      },
      "text/plain": [
       "Map:   0%|          | 0/114 [00:00<?, ? examples/s]"
      ]
     },
     "metadata": {},
     "output_type": "display_data"
    },
    {
     "data": {
      "application/vnd.jupyter.widget-view+json": {
       "model_id": "",
       "version_major": 2,
       "version_minor": 0
      },
      "text/plain": [
       "Map:   0%|          | 0/111 [00:00<?, ? examples/s]"
      ]
     },
     "metadata": {},
     "output_type": "display_data"
    },
    {
     "data": {
      "application/vnd.jupyter.widget-view+json": {
       "model_id": "",
       "version_major": 2,
       "version_minor": 0
      },
      "text/plain": [
       "Map:   0%|          | 0/5076 [00:00<?, ? examples/s]"
      ]
     },
     "metadata": {},
     "output_type": "display_data"
    }
   ],
   "source": [
    "tokenized_datasets = {model_name: get_tokenized_datasets(model_path)\n",
    "                     for model_name, model_path in model_names.items()}"
   ]
  },
  {
   "cell_type": "code",
   "execution_count": null,
   "metadata": {},
   "outputs": [],
   "source": []
  },
  {
   "cell_type": "code",
   "execution_count": 16,
   "metadata": {},
   "outputs": [],
   "source": [
    "# NB: right now we're only interested in the PER vs LOC confusion\n",
    "def match_entities(tokens, pred_labels, true_labels): # finds entities where predictions were wrong\n",
    "    if len(tokens) != len(pred_labels): # long text was split into subsections\n",
    "        print('OOPS! {0} != {1}'.format(len(tokens),len(pred_labels)))\n",
    "#         print(tokens)\n",
    "#         print(pred_labels)\n",
    "        \n",
    "    entities = []\n",
    "    cur_tokens = []\n",
    "    cur_true_labels = []\n",
    "    cur_pred_labels = []\n",
    "    cur_start = -1\n",
    "    for i, token in enumerate(tokens):\n",
    "#         if pred_labels[i] != true_labels[i]:\n",
    "        if confused_per_and_loc(pred_labels[i],true_labels[i]):\n",
    "            if not cur_tokens: # entity begins\n",
    "                cur_start = i\n",
    "            cur_tokens.append(token)\n",
    "            cur_true_labels.append(true_labels[i])\n",
    "            cur_pred_labels.append(pred_labels[i])\n",
    "        else:\n",
    "            if cur_tokens:\n",
    "                entities.append((cur_start,\n",
    "                                 cur_tokens,\n",
    "                                cur_pred_labels,\n",
    "                                cur_true_labels))\n",
    "            cur_tokens = []\n",
    "            cur_true_labels = []\n",
    "            cur_pred_labels = []\n",
    "            cur_start = -1\n",
    "            \n",
    "    if cur_tokens:\n",
    "        entities.append((cur_start,\n",
    "                         cur_tokens,\n",
    "                                cur_pred_labels,\n",
    "                                cur_true_labels))\n",
    "    return entities"
   ]
  },
  {
   "cell_type": "code",
   "execution_count": 17,
   "metadata": {},
   "outputs": [],
   "source": [
    "def match_preds(wrong_pred, model_name='GysBERT', test_name='test_RHC'):\n",
    "    ind, pred_labels, true_labels = wrong_pred\n",
    "        \n",
    "    tokens = tokenized_datasets[model_name][test_name]['tokens'][ind] # check this just in case\n",
    "#     tokenizer = AutoTokenizer.from_pretrained(model_names[model_name], model_max_length=512)\n",
    "#     sentence = tokenizer.decode(tokenized_datasets[model_name][test_name]['input_ids'][ind])\n",
    "    # todo update this\n",
    "    try:\n",
    "        return tokens,match_entities(tokens, pred_labels, true_labels)\n",
    "    except:\n",
    "        print('smth wrong, index ',ind)"
   ]
  },
  {
   "cell_type": "code",
   "execution_count": 18,
   "metadata": {},
   "outputs": [],
   "source": [
    "#  toks = tokenized_datasets[MODEL]['test_NHA']['tokens'][22]"
   ]
  },
  {
   "cell_type": "code",
   "execution_count": 19,
   "metadata": {},
   "outputs": [],
   "source": [
    "# preds = all_wrong_preds[MODEL][TEST][22][1]"
   ]
  },
  {
   "cell_type": "code",
   "execution_count": 20,
   "metadata": {},
   "outputs": [],
   "source": [
    "from tqdm.auto import tqdm"
   ]
  },
  {
   "cell_type": "code",
   "execution_count": 21,
   "metadata": {},
   "outputs": [
    {
     "data": {
      "application/vnd.jupyter.widget-view+json": {
       "model_id": "6da296a27b8b4f779dc2330c60c4399f",
       "version_major": 2,
       "version_minor": 0
      },
      "text/plain": [
       "  0%|          | 0/39 [00:00<?, ?it/s]"
      ]
     },
     "metadata": {},
     "output_type": "display_data"
    },
    {
     "name": "stdout",
     "output_type": "stream",
     "text": [
      "KUT! 84 != 82\n",
      "smth wrong, index  30\n",
      "KUT\n",
      "KUT! 418 != 406\n",
      "smth wrong, index  49\n",
      "KUT\n"
     ]
    },
    {
     "data": {
      "application/vnd.jupyter.widget-view+json": {
       "model_id": "4d3a52bc10dd414496a84d7cb292ffff",
       "version_major": 2,
       "version_minor": 0
      },
      "text/plain": [
       "  0%|          | 0/3 [00:00<?, ?it/s]"
      ]
     },
     "metadata": {},
     "output_type": "display_data"
    },
    {
     "data": {
      "application/vnd.jupyter.widget-view+json": {
       "model_id": "38d6ccbe314148c2bf41396556054ed6",
       "version_major": 2,
       "version_minor": 0
      },
      "text/plain": [
       "  0%|          | 0/78 [00:00<?, ?it/s]"
      ]
     },
     "metadata": {},
     "output_type": "display_data"
    },
    {
     "name": "stdout",
     "output_type": "stream",
     "text": [
      "KUT! 468 != 388\n",
      "smth wrong, index  45\n",
      "KUT\n",
      "KUT! 408 != 378\n",
      "smth wrong, index  66\n",
      "KUT\n",
      "KUT! 342 != 338\n",
      "smth wrong, index  93\n",
      "KUT\n"
     ]
    },
    {
     "data": {
      "application/vnd.jupyter.widget-view+json": {
       "model_id": "b11241ce569d4c6eaa8be11637db86a3",
       "version_major": 2,
       "version_minor": 0
      },
      "text/plain": [
       "  0%|          | 0/86 [00:00<?, ?it/s]"
      ]
     },
     "metadata": {},
     "output_type": "display_data"
    },
    {
     "name": "stdout",
     "output_type": "stream",
     "text": [
      "KUT! 373 != 347\n",
      "smth wrong, index  15\n",
      "KUT\n",
      "KUT! 229 != 228\n",
      "smth wrong, index  33\n",
      "KUT\n",
      "KUT! 201 != 200\n",
      "smth wrong, index  77\n",
      "KUT\n"
     ]
    },
    {
     "data": {
      "application/vnd.jupyter.widget-view+json": {
       "model_id": "3a5d1402a3e744ceab6ad09a7900065c",
       "version_major": 2,
       "version_minor": 0
      },
      "text/plain": [
       "  0%|          | 0/840 [00:00<?, ?it/s]"
      ]
     },
     "metadata": {},
     "output_type": "display_data"
    },
    {
     "name": "stdout",
     "output_type": "stream",
     "text": [
      "KUT! 409 != 376\n",
      "smth wrong, index  2007\n",
      "KUT\n",
      "KUT! 28 != 27\n",
      "smth wrong, index  2434\n",
      "KUT\n"
     ]
    },
    {
     "data": {
      "application/vnd.jupyter.widget-view+json": {
       "model_id": "c1bd9f1e24ab442e961b7eb90de6df53",
       "version_major": 2,
       "version_minor": 0
      },
      "text/plain": [
       "  0%|          | 0/40 [00:00<?, ?it/s]"
      ]
     },
     "metadata": {},
     "output_type": "display_data"
    },
    {
     "name": "stdout",
     "output_type": "stream",
     "text": [
      "KUT! 314 != 291\n",
      "smth wrong, index  14\n",
      "KUT\n",
      "KUT! 84 != 82\n",
      "smth wrong, index  30\n",
      "KUT\n",
      "KUT! 418 != 328\n",
      "smth wrong, index  49\n",
      "KUT\n"
     ]
    },
    {
     "data": {
      "application/vnd.jupyter.widget-view+json": {
       "model_id": "1d90c5c7406a4eb2b6b9d177cdae303d",
       "version_major": 2,
       "version_minor": 0
      },
      "text/plain": [
       "  0%|          | 0/3 [00:00<?, ?it/s]"
      ]
     },
     "metadata": {},
     "output_type": "display_data"
    },
    {
     "data": {
      "application/vnd.jupyter.widget-view+json": {
       "model_id": "0f7ca2a044ce44688f8a957b4133e275",
       "version_major": 2,
       "version_minor": 0
      },
      "text/plain": [
       "  0%|          | 0/74 [00:00<?, ?it/s]"
      ]
     },
     "metadata": {},
     "output_type": "display_data"
    },
    {
     "name": "stdout",
     "output_type": "stream",
     "text": [
      "KUT! 336 != 290\n",
      "smth wrong, index  42\n",
      "KUT\n",
      "KUT! 468 != 292\n",
      "smth wrong, index  45\n",
      "KUT\n",
      "KUT! 302 != 293\n",
      "smth wrong, index  47\n",
      "KUT\n",
      "KUT! 276 != 274\n",
      "smth wrong, index  59\n",
      "KUT\n",
      "KUT! 345 != 271\n",
      "smth wrong, index  61\n",
      "KUT\n",
      "KUT! 408 != 299\n",
      "smth wrong, index  66\n",
      "KUT\n",
      "KUT! 274 != 273\n",
      "smth wrong, index  69\n",
      "KUT\n",
      "KUT! 356 != 304\n",
      "smth wrong, index  78\n",
      "KUT\n",
      "KUT! 271 != 267\n",
      "smth wrong, index  83\n",
      "KUT\n",
      "KUT! 326 != 273\n",
      "smth wrong, index  88\n",
      "KUT\n",
      "KUT! 326 != 273\n",
      "smth wrong, index  91\n",
      "KUT\n",
      "KUT! 288 != 263\n",
      "smth wrong, index  92\n",
      "KUT\n",
      "KUT! 342 != 269\n",
      "smth wrong, index  93\n",
      "KUT\n",
      "KUT! 350 != 278\n",
      "smth wrong, index  95\n",
      "KUT\n",
      "KUT! 393 != 335\n",
      "smth wrong, index  100\n",
      "KUT\n"
     ]
    },
    {
     "data": {
      "application/vnd.jupyter.widget-view+json": {
       "model_id": "6d7c7a6548ae4071a6ba1562898121cb",
       "version_major": 2,
       "version_minor": 0
      },
      "text/plain": [
       "  0%|          | 0/83 [00:00<?, ?it/s]"
      ]
     },
     "metadata": {},
     "output_type": "display_data"
    },
    {
     "name": "stdout",
     "output_type": "stream",
     "text": [
      "KUT! 264 != 262\n",
      "smth wrong, index  9\n",
      "KUT\n",
      "KUT! 373 != 277\n",
      "smth wrong, index  15\n",
      "KUT\n",
      "KUT! 229 != 228\n",
      "smth wrong, index  33\n",
      "KUT\n",
      "KUT! 263 != 255\n",
      "smth wrong, index  42\n",
      "KUT\n",
      "KUT! 267 != 253\n",
      "smth wrong, index  91\n",
      "KUT\n",
      "KUT! 284 != 236\n",
      "smth wrong, index  107\n",
      "KUT\n"
     ]
    },
    {
     "data": {
      "application/vnd.jupyter.widget-view+json": {
       "model_id": "4eccb4531ff143b29f21be5400598598",
       "version_major": 2,
       "version_minor": 0
      },
      "text/plain": [
       "  0%|          | 0/695 [00:00<?, ?it/s]"
      ]
     },
     "metadata": {},
     "output_type": "display_data"
    },
    {
     "name": "stdout",
     "output_type": "stream",
     "text": [
      "KUT! 409 != 389\n",
      "smth wrong, index  2007\n",
      "KUT\n",
      "KUT! 28 != 27\n",
      "smth wrong, index  2434\n",
      "KUT\n",
      "KUT! 22 != 21\n",
      "smth wrong, index  4739\n",
      "KUT\n"
     ]
    },
    {
     "data": {
      "application/vnd.jupyter.widget-view+json": {
       "model_id": "12df7c55674c428fa70755f7be31c223",
       "version_major": 2,
       "version_minor": 0
      },
      "text/plain": [
       "  0%|          | 0/40 [00:00<?, ?it/s]"
      ]
     },
     "metadata": {},
     "output_type": "display_data"
    },
    {
     "name": "stdout",
     "output_type": "stream",
     "text": [
      "KUT! 241 != 220\n",
      "smth wrong, index  2\n",
      "KUT\n",
      "KUT! 231 != 209\n",
      "smth wrong, index  5\n",
      "KUT\n",
      "KUT! 229 != 223\n",
      "smth wrong, index  7\n",
      "KUT\n",
      "KUT! 314 != 205\n",
      "smth wrong, index  14\n",
      "KUT\n",
      "KUT! 257 != 216\n",
      "smth wrong, index  21\n",
      "KUT\n",
      "KUT! 213 != 202\n",
      "smth wrong, index  25\n",
      "KUT\n",
      "KUT! 84 != 82\n",
      "smth wrong, index  30\n",
      "KUT\n",
      "KUT! 274 != 242\n",
      "smth wrong, index  34\n",
      "KUT\n",
      "KUT! 285 != 214\n",
      "smth wrong, index  38\n",
      "KUT\n",
      "KUT! 242 != 199\n",
      "smth wrong, index  40\n",
      "KUT\n",
      "KUT! 226 != 215\n",
      "smth wrong, index  41\n",
      "KUT\n",
      "KUT! 260 != 213\n",
      "smth wrong, index  43\n",
      "KUT\n",
      "KUT! 216 != 212\n",
      "smth wrong, index  45\n",
      "KUT\n",
      "KUT! 238 != 212\n",
      "smth wrong, index  46\n",
      "KUT\n",
      "KUT! 418 != 208\n",
      "smth wrong, index  49\n",
      "KUT\n"
     ]
    },
    {
     "data": {
      "application/vnd.jupyter.widget-view+json": {
       "model_id": "3b6b76de7df24003ab4273d6b8eb589d",
       "version_major": 2,
       "version_minor": 0
      },
      "text/plain": [
       "  0%|          | 0/3 [00:00<?, ?it/s]"
      ]
     },
     "metadata": {},
     "output_type": "display_data"
    },
    {
     "name": "stdout",
     "output_type": "stream",
     "text": [
      "KUT! 253 != 244\n",
      "smth wrong, index  0\n",
      "KUT\n"
     ]
    },
    {
     "data": {
      "application/vnd.jupyter.widget-view+json": {
       "model_id": "1ef0e4d751d8427089b7a909f326fb97",
       "version_major": 2,
       "version_minor": 0
      },
      "text/plain": [
       "  0%|          | 0/71 [00:00<?, ?it/s]"
      ]
     },
     "metadata": {},
     "output_type": "display_data"
    },
    {
     "name": "stdout",
     "output_type": "stream",
     "text": [
      "KUT! 238 != 216\n",
      "smth wrong, index  0\n",
      "KUT\n",
      "KUT! 229 != 208\n",
      "smth wrong, index  1\n",
      "KUT\n",
      "KUT! 211 != 196\n",
      "smth wrong, index  11\n",
      "KUT\n",
      "KUT! 201 != 196\n",
      "smth wrong, index  33\n",
      "KUT\n",
      "KUT! 216 != 198\n",
      "smth wrong, index  36\n",
      "KUT\n",
      "KUT! 240 != 202\n",
      "smth wrong, index  37\n",
      "KUT\n",
      "KUT! 254 != 231\n",
      "smth wrong, index  39\n",
      "KUT\n",
      "KUT! 336 != 216\n",
      "smth wrong, index  42\n",
      "KUT\n",
      "KUT! 468 != 227\n",
      "smth wrong, index  45\n",
      "KUT\n",
      "KUT! 240 != 213\n",
      "smth wrong, index  46\n",
      "KUT\n",
      "KUT! 302 != 228\n",
      "smth wrong, index  47\n",
      "KUT\n",
      "KUT! 276 != 222\n",
      "smth wrong, index  59\n",
      "KUT\n",
      "KUT! 345 != 235\n",
      "smth wrong, index  61\n",
      "KUT\n",
      "KUT! 259 != 212\n",
      "smth wrong, index  63\n",
      "KUT\n",
      "KUT! 408 != 224\n",
      "smth wrong, index  66\n",
      "KUT\n",
      "KUT! 257 != 210\n",
      "smth wrong, index  68\n",
      "KUT\n",
      "KUT! 274 != 207\n",
      "smth wrong, index  69\n",
      "KUT\n",
      "KUT! 230 != 216\n",
      "smth wrong, index  70\n",
      "KUT\n",
      "KUT! 247 != 210\n",
      "smth wrong, index  73\n",
      "KUT\n",
      "KUT! 260 != 225\n",
      "smth wrong, index  75\n",
      "KUT\n",
      "KUT! 356 != 202\n",
      "smth wrong, index  78\n",
      "KUT\n",
      "KUT! 271 != 215\n",
      "smth wrong, index  83\n",
      "KUT\n",
      "KUT! 233 != 221\n",
      "smth wrong, index  85\n",
      "KUT\n",
      "KUT! 326 != 205\n",
      "smth wrong, index  88\n",
      "KUT\n",
      "KUT! 326 != 219\n",
      "smth wrong, index  91\n",
      "KUT\n",
      "KUT! 288 != 200\n",
      "smth wrong, index  92\n",
      "KUT\n",
      "KUT! 342 != 216\n",
      "smth wrong, index  93\n",
      "KUT\n",
      "KUT! 350 != 219\n",
      "smth wrong, index  95\n",
      "KUT\n",
      "KUT! 393 != 220\n",
      "smth wrong, index  100\n",
      "KUT\n",
      "KUT! 260 != 229\n",
      "smth wrong, index  101\n",
      "KUT\n",
      "KUT! 249 != 225\n",
      "smth wrong, index  102\n",
      "KUT\n"
     ]
    },
    {
     "data": {
      "application/vnd.jupyter.widget-view+json": {
       "model_id": "1751493cfc5041ec952e104b987b3508",
       "version_major": 2,
       "version_minor": 0
      },
      "text/plain": [
       "  0%|          | 0/82 [00:00<?, ?it/s]"
      ]
     },
     "metadata": {},
     "output_type": "display_data"
    },
    {
     "name": "stdout",
     "output_type": "stream",
     "text": [
      "KUT! 264 != 215\n",
      "smth wrong, index  9\n",
      "KUT\n",
      "KUT! 373 != 205\n",
      "smth wrong, index  15\n",
      "KUT\n",
      "KUT! 227 != 215\n",
      "smth wrong, index  20\n",
      "KUT\n",
      "KUT! 216 != 200\n",
      "smth wrong, index  28\n",
      "KUT\n",
      "KUT! 229 != 228\n",
      "smth wrong, index  33\n",
      "KUT\n",
      "KUT! 263 != 211\n",
      "smth wrong, index  42\n",
      "KUT\n",
      "KUT! 221 != 210\n",
      "smth wrong, index  52\n",
      "KUT\n",
      "KUT! 221 != 217\n",
      "smth wrong, index  57\n",
      "KUT\n",
      "KUT! 204 != 199\n",
      "smth wrong, index  62\n",
      "KUT\n",
      "KUT! 201 != 200\n",
      "smth wrong, index  66\n",
      "KUT\n",
      "KUT! 209 != 204\n",
      "smth wrong, index  69\n",
      "KUT\n",
      "KUT! 270 != 218\n",
      "smth wrong, index  81\n",
      "KUT\n",
      "KUT! 237 != 190\n",
      "smth wrong, index  87\n",
      "KUT\n",
      "KUT! 172 != 168\n",
      "smth wrong, index  88\n",
      "KUT\n",
      "KUT! 267 != 203\n",
      "smth wrong, index  91\n",
      "KUT\n",
      "KUT! 230 != 213\n",
      "smth wrong, index  102\n",
      "KUT\n",
      "KUT! 201 != 184\n",
      "smth wrong, index  103\n",
      "KUT\n",
      "KUT! 188 != 177\n",
      "smth wrong, index  105\n",
      "KUT\n",
      "KUT! 284 != 199\n",
      "smth wrong, index  107\n",
      "KUT\n",
      "KUT! 198 != 182\n",
      "smth wrong, index  108\n",
      "KUT\n",
      "KUT! 238 != 202\n",
      "smth wrong, index  109\n",
      "KUT\n"
     ]
    },
    {
     "data": {
      "application/vnd.jupyter.widget-view+json": {
       "model_id": "5d55395628c840c0af63ea04a4a7a141",
       "version_major": 2,
       "version_minor": 0
      },
      "text/plain": [
       "  0%|          | 0/1095 [00:00<?, ?it/s]"
      ]
     },
     "metadata": {},
     "output_type": "display_data"
    },
    {
     "name": "stdout",
     "output_type": "stream",
     "text": [
      "KUT! 409 != 371\n",
      "smth wrong, index  2007\n",
      "KUT\n",
      "KUT! 28 != 27\n",
      "smth wrong, index  2434\n",
      "KUT\n",
      "KUT! 22 != 21\n",
      "smth wrong, index  4739\n",
      "KUT\n"
     ]
    },
    {
     "data": {
      "application/vnd.jupyter.widget-view+json": {
       "model_id": "d00658ff4f5c476f86d1f5a80c1e24cc",
       "version_major": 2,
       "version_minor": 0
      },
      "text/plain": [
       "  0%|          | 0/50 [00:00<?, ?it/s]"
      ]
     },
     "metadata": {},
     "output_type": "display_data"
    },
    {
     "name": "stdout",
     "output_type": "stream",
     "text": [
      "KUT! 325 != 304\n",
      "smth wrong, index  3\n",
      "KUT\n",
      "KUT! 351 != 292\n",
      "smth wrong, index  12\n",
      "KUT\n",
      "KUT! 314 != 270\n",
      "smth wrong, index  14\n",
      "KUT\n",
      "KUT! 84 != 82\n",
      "smth wrong, index  30\n",
      "KUT\n",
      "KUT! 418 != 287\n",
      "smth wrong, index  49\n",
      "KUT\n"
     ]
    },
    {
     "data": {
      "application/vnd.jupyter.widget-view+json": {
       "model_id": "28c727ea287b4824818190cad8944b1f",
       "version_major": 2,
       "version_minor": 0
      },
      "text/plain": [
       "  0%|          | 0/3 [00:00<?, ?it/s]"
      ]
     },
     "metadata": {},
     "output_type": "display_data"
    },
    {
     "data": {
      "application/vnd.jupyter.widget-view+json": {
       "model_id": "be137e3453a341f8ab1963027a4573d0",
       "version_major": 2,
       "version_minor": 0
      },
      "text/plain": [
       "  0%|          | 0/111 [00:00<?, ?it/s]"
      ]
     },
     "metadata": {},
     "output_type": "display_data"
    },
    {
     "name": "stdout",
     "output_type": "stream",
     "text": [
      "KUT! 293 != 248\n",
      "smth wrong, index  10\n",
      "KUT\n",
      "KUT! 336 != 303\n",
      "smth wrong, index  42\n",
      "KUT\n",
      "KUT! 468 != 318\n",
      "smth wrong, index  45\n",
      "KUT\n",
      "KUT! 345 != 305\n",
      "smth wrong, index  61\n",
      "KUT\n",
      "KUT! 408 != 323\n",
      "smth wrong, index  66\n",
      "KUT\n",
      "KUT! 356 != 294\n",
      "smth wrong, index  78\n",
      "KUT\n",
      "KUT! 326 != 289\n",
      "smth wrong, index  88\n",
      "KUT\n",
      "KUT! 326 != 286\n",
      "smth wrong, index  91\n",
      "KUT\n",
      "KUT! 288 != 262\n",
      "smth wrong, index  92\n",
      "KUT\n",
      "KUT! 342 != 287\n",
      "smth wrong, index  93\n",
      "KUT\n",
      "KUT! 350 != 288\n",
      "smth wrong, index  95\n",
      "KUT\n",
      "KUT! 393 != 325\n",
      "smth wrong, index  100\n",
      "KUT\n"
     ]
    },
    {
     "data": {
      "application/vnd.jupyter.widget-view+json": {
       "model_id": "9419e5dda51442f485db97f46cf28678",
       "version_major": 2,
       "version_minor": 0
      },
      "text/plain": [
       "  0%|          | 0/111 [00:00<?, ?it/s]"
      ]
     },
     "metadata": {},
     "output_type": "display_data"
    },
    {
     "name": "stdout",
     "output_type": "stream",
     "text": [
      "KUT! 373 != 294\n",
      "smth wrong, index  15\n",
      "KUT\n",
      "KUT! 229 != 228\n",
      "smth wrong, index  33\n",
      "KUT\n",
      "KUT! 201 != 200\n",
      "smth wrong, index  77\n",
      "KUT\n",
      "KUT! 267 != 265\n",
      "smth wrong, index  91\n",
      "KUT\n",
      "KUT! 448 != 248\n",
      "smth wrong, index  106\n",
      "KUT\n",
      "KUT! 284 != 262\n",
      "smth wrong, index  107\n",
      "KUT\n"
     ]
    },
    {
     "data": {
      "application/vnd.jupyter.widget-view+json": {
       "model_id": "b7a0491ad9624943a5de028929c3864b",
       "version_major": 2,
       "version_minor": 0
      },
      "text/plain": [
       "  0%|          | 0/2976 [00:00<?, ?it/s]"
      ]
     },
     "metadata": {},
     "output_type": "display_data"
    },
    {
     "name": "stdout",
     "output_type": "stream",
     "text": [
      "KUT! 409 != 400\n",
      "smth wrong, index  2007\n",
      "KUT\n",
      "KUT! 28 != 27\n",
      "smth wrong, index  2434\n",
      "KUT\n",
      "KUT! 12 != 11\n",
      "smth wrong, index  3108\n",
      "KUT\n"
     ]
    }
   ],
   "source": [
    "# MODEL = 'GysBERT'\n",
    "# TEST = 'test_NHA.txt'\n",
    "\n",
    "records = []\n",
    "\n",
    "for MODEL in model_names:\n",
    "#     print('@@@@@@@')\n",
    "#     print(MODEL)\n",
    "#     print('@@@@@@@')\n",
    "    for TEST in tests:\n",
    "#         print(TEST)\n",
    "        for i, wrong_pred in enumerate(tqdm(all_wrong_preds[MODEL][TEST])):\n",
    "            try:\n",
    "                tokens, preds = match_preds(wrong_pred, MODEL, TEST.split('.')[0])\n",
    "            except:\n",
    "                print('OOPS')\n",
    "                continue\n",
    "            if not preds:\n",
    "                continue\n",
    "            sentence = ' '.join(tokens)\n",
    "        #     print(sentence)\n",
    "#             print('====Sentence number {0}==='.format(i))\n",
    "            for pred in preds:\n",
    "                start, mention, pred_labels, true_labels = pred\n",
    "#                 print(' '.join(tokens[:start]))\n",
    "#                 print('+')\n",
    "#                 print(' '.join(tokens[start:]))\n",
    "#                 print('Start, mention, predicted, true')\n",
    "#                 print(pred)\n",
    "\n",
    "#                 print('______')\n",
    "                \n",
    "                records.append({'model_name': MODEL,\n",
    "                               'test_set': TEST,\n",
    "                                'prediction_number': i,\n",
    "                                'sentence_number': all_wrong_preds[MODEL][TEST][i][0],\n",
    "                                'left_context': ' '.join(tokens[:start]),\n",
    "                                'right_context': ' '.join(tokens[start:]),\n",
    "                                'mention_tokens': mention,\n",
    "                                'predicted_labels': pred_labels,\n",
    "                                'true_labels': true_labels\n",
    "                               })"
   ]
  },
  {
   "cell_type": "code",
   "execution_count": 22,
   "metadata": {},
   "outputs": [],
   "source": [
    "import pandas as pd\n",
    "\n",
    "df = pd.DataFrame.from_records(records)\n",
    "df.to_csv('error_analysis_df.tsv',sep='\\t')"
   ]
  },
  {
   "cell_type": "code",
   "execution_count": 23,
   "metadata": {},
   "outputs": [
    {
     "data": {
      "text/html": [
       "<div>\n",
       "<style scoped>\n",
       "    .dataframe tbody tr th:only-of-type {\n",
       "        vertical-align: middle;\n",
       "    }\n",
       "\n",
       "    .dataframe tbody tr th {\n",
       "        vertical-align: top;\n",
       "    }\n",
       "\n",
       "    .dataframe thead th {\n",
       "        text-align: right;\n",
       "    }\n",
       "</style>\n",
       "<table border=\"1\" class=\"dataframe\">\n",
       "  <thead>\n",
       "    <tr style=\"text-align: right;\">\n",
       "      <th></th>\n",
       "      <th>model_name</th>\n",
       "      <th>test_set</th>\n",
       "      <th>prediction_number</th>\n",
       "      <th>sentence_number</th>\n",
       "      <th>left_context</th>\n",
       "      <th>right_context</th>\n",
       "      <th>mention_tokens</th>\n",
       "      <th>predicted_labels</th>\n",
       "      <th>true_labels</th>\n",
       "    </tr>\n",
       "  </thead>\n",
       "  <tbody>\n",
       "    <tr>\n",
       "      <th>394</th>\n",
       "      <td>WikiNEuRal</td>\n",
       "      <td>ned.testb</td>\n",
       "      <td>2276</td>\n",
       "      <td>3863</td>\n",
       "      <td>(</td>\n",
       "      <td>FR )</td>\n",
       "      <td>[FR]</td>\n",
       "      <td>[B-LOC]</td>\n",
       "      <td>[B-PER]</td>\n",
       "    </tr>\n",
       "  </tbody>\n",
       "</table>\n",
       "</div>"
      ],
      "text/plain": [
       "     model_name   test_set  prediction_number  sentence_number left_context  \\\n",
       "394  WikiNEuRal  ned.testb               2276             3863            (   \n",
       "\n",
       "    right_context mention_tokens predicted_labels true_labels  \n",
       "394          FR )           [FR]          [B-LOC]     [B-PER]  "
      ]
     },
     "execution_count": 23,
     "metadata": {},
     "output_type": "execute_result"
    }
   ],
   "source": [
    "df.sample()"
   ]
  },
  {
   "cell_type": "code",
   "execution_count": 24,
   "metadata": {},
   "outputs": [
    {
     "data": {
      "application/vnd.jupyter.widget-view+json": {
       "model_id": "97ff822bf66941779befed3eba9398b8",
       "version_major": 2,
       "version_minor": 0
      },
      "text/plain": [
       "  0%|          | 0/39 [00:00<?, ?it/s]"
      ]
     },
     "metadata": {},
     "output_type": "display_data"
    },
    {
     "name": "stdout",
     "output_type": "stream",
     "text": [
      "KUT! 84 != 82\n",
      "smth wrong, index  30\n",
      "KUT\n",
      "KUT! 418 != 406\n",
      "smth wrong, index  49\n",
      "KUT\n"
     ]
    },
    {
     "data": {
      "application/vnd.jupyter.widget-view+json": {
       "model_id": "d3b6766d685d432f908a64d5e043b4e4",
       "version_major": 2,
       "version_minor": 0
      },
      "text/plain": [
       "  0%|          | 0/3 [00:00<?, ?it/s]"
      ]
     },
     "metadata": {},
     "output_type": "display_data"
    },
    {
     "data": {
      "application/vnd.jupyter.widget-view+json": {
       "model_id": "1fe44cf991c1415eaaf86ad8dde25d85",
       "version_major": 2,
       "version_minor": 0
      },
      "text/plain": [
       "  0%|          | 0/78 [00:00<?, ?it/s]"
      ]
     },
     "metadata": {},
     "output_type": "display_data"
    },
    {
     "name": "stdout",
     "output_type": "stream",
     "text": [
      "KUT! 468 != 388\n",
      "smth wrong, index  45\n",
      "KUT\n",
      "KUT! 408 != 378\n",
      "smth wrong, index  66\n",
      "KUT\n",
      "KUT! 342 != 338\n",
      "smth wrong, index  93\n",
      "KUT\n"
     ]
    },
    {
     "data": {
      "application/vnd.jupyter.widget-view+json": {
       "model_id": "fde4999acc5748a7bd2344c02d912df7",
       "version_major": 2,
       "version_minor": 0
      },
      "text/plain": [
       "  0%|          | 0/86 [00:00<?, ?it/s]"
      ]
     },
     "metadata": {},
     "output_type": "display_data"
    },
    {
     "name": "stdout",
     "output_type": "stream",
     "text": [
      "KUT! 373 != 347\n",
      "smth wrong, index  15\n",
      "KUT\n",
      "KUT! 229 != 228\n",
      "smth wrong, index  33\n",
      "KUT\n",
      "KUT! 201 != 200\n",
      "smth wrong, index  77\n",
      "KUT\n"
     ]
    },
    {
     "data": {
      "application/vnd.jupyter.widget-view+json": {
       "model_id": "c6663efa74fe435e933260653b761290",
       "version_major": 2,
       "version_minor": 0
      },
      "text/plain": [
       "  0%|          | 0/840 [00:00<?, ?it/s]"
      ]
     },
     "metadata": {},
     "output_type": "display_data"
    },
    {
     "name": "stdout",
     "output_type": "stream",
     "text": [
      "KUT! 409 != 376\n",
      "smth wrong, index  2007\n",
      "KUT\n",
      "KUT! 28 != 27\n",
      "smth wrong, index  2434\n",
      "KUT\n"
     ]
    },
    {
     "data": {
      "application/vnd.jupyter.widget-view+json": {
       "model_id": "b103be6c37d04658970f58a64f22c7ba",
       "version_major": 2,
       "version_minor": 0
      },
      "text/plain": [
       "  0%|          | 0/40 [00:00<?, ?it/s]"
      ]
     },
     "metadata": {},
     "output_type": "display_data"
    },
    {
     "name": "stdout",
     "output_type": "stream",
     "text": [
      "KUT! 314 != 291\n",
      "smth wrong, index  14\n",
      "KUT\n",
      "KUT! 84 != 82\n",
      "smth wrong, index  30\n",
      "KUT\n",
      "KUT! 418 != 328\n",
      "smth wrong, index  49\n",
      "KUT\n"
     ]
    },
    {
     "data": {
      "application/vnd.jupyter.widget-view+json": {
       "model_id": "ab40d0b469524ea9bb939627446628ff",
       "version_major": 2,
       "version_minor": 0
      },
      "text/plain": [
       "  0%|          | 0/3 [00:00<?, ?it/s]"
      ]
     },
     "metadata": {},
     "output_type": "display_data"
    },
    {
     "data": {
      "application/vnd.jupyter.widget-view+json": {
       "model_id": "1a00da203cc7487a8db937177f4b813d",
       "version_major": 2,
       "version_minor": 0
      },
      "text/plain": [
       "  0%|          | 0/74 [00:00<?, ?it/s]"
      ]
     },
     "metadata": {},
     "output_type": "display_data"
    },
    {
     "name": "stdout",
     "output_type": "stream",
     "text": [
      "KUT! 336 != 290\n",
      "smth wrong, index  42\n",
      "KUT\n",
      "KUT! 468 != 292\n",
      "smth wrong, index  45\n",
      "KUT\n",
      "KUT! 302 != 293\n",
      "smth wrong, index  47\n",
      "KUT\n",
      "KUT! 276 != 274\n",
      "smth wrong, index  59\n",
      "KUT\n",
      "KUT! 345 != 271\n",
      "smth wrong, index  61\n",
      "KUT\n",
      "KUT! 408 != 299\n",
      "smth wrong, index  66\n",
      "KUT\n",
      "KUT! 274 != 273\n",
      "smth wrong, index  69\n",
      "KUT\n",
      "KUT! 356 != 304\n",
      "smth wrong, index  78\n",
      "KUT\n",
      "KUT! 271 != 267\n",
      "smth wrong, index  83\n",
      "KUT\n",
      "KUT! 326 != 273\n",
      "smth wrong, index  88\n",
      "KUT\n",
      "KUT! 326 != 273\n",
      "smth wrong, index  91\n",
      "KUT\n",
      "KUT! 288 != 263\n",
      "smth wrong, index  92\n",
      "KUT\n",
      "KUT! 342 != 269\n",
      "smth wrong, index  93\n",
      "KUT\n",
      "KUT! 350 != 278\n",
      "smth wrong, index  95\n",
      "KUT\n",
      "KUT! 393 != 335\n",
      "smth wrong, index  100\n",
      "KUT\n"
     ]
    },
    {
     "data": {
      "application/vnd.jupyter.widget-view+json": {
       "model_id": "31f58b498d9741e7b0aee8c309fc1f32",
       "version_major": 2,
       "version_minor": 0
      },
      "text/plain": [
       "  0%|          | 0/83 [00:00<?, ?it/s]"
      ]
     },
     "metadata": {},
     "output_type": "display_data"
    },
    {
     "name": "stdout",
     "output_type": "stream",
     "text": [
      "KUT! 264 != 262\n",
      "smth wrong, index  9\n",
      "KUT\n",
      "KUT! 373 != 277\n",
      "smth wrong, index  15\n",
      "KUT\n",
      "KUT! 229 != 228\n",
      "smth wrong, index  33\n",
      "KUT\n",
      "KUT! 263 != 255\n",
      "smth wrong, index  42\n",
      "KUT\n",
      "KUT! 267 != 253\n",
      "smth wrong, index  91\n",
      "KUT\n",
      "KUT! 284 != 236\n",
      "smth wrong, index  107\n",
      "KUT\n"
     ]
    },
    {
     "data": {
      "application/vnd.jupyter.widget-view+json": {
       "model_id": "352ee153f93d477a939cd56b56a2025c",
       "version_major": 2,
       "version_minor": 0
      },
      "text/plain": [
       "  0%|          | 0/695 [00:00<?, ?it/s]"
      ]
     },
     "metadata": {},
     "output_type": "display_data"
    },
    {
     "name": "stdout",
     "output_type": "stream",
     "text": [
      "KUT! 409 != 389\n",
      "smth wrong, index  2007\n",
      "KUT\n",
      "KUT! 28 != 27\n",
      "smth wrong, index  2434\n",
      "KUT\n",
      "KUT! 22 != 21\n",
      "smth wrong, index  4739\n",
      "KUT\n"
     ]
    },
    {
     "data": {
      "application/vnd.jupyter.widget-view+json": {
       "model_id": "37b9c5f1e8714c00b049b57974c955ce",
       "version_major": 2,
       "version_minor": 0
      },
      "text/plain": [
       "  0%|          | 0/40 [00:00<?, ?it/s]"
      ]
     },
     "metadata": {},
     "output_type": "display_data"
    },
    {
     "name": "stdout",
     "output_type": "stream",
     "text": [
      "KUT! 241 != 220\n",
      "smth wrong, index  2\n",
      "KUT\n",
      "KUT! 231 != 209\n",
      "smth wrong, index  5\n",
      "KUT\n",
      "KUT! 229 != 223\n",
      "smth wrong, index  7\n",
      "KUT\n",
      "KUT! 314 != 205\n",
      "smth wrong, index  14\n",
      "KUT\n",
      "KUT! 257 != 216\n",
      "smth wrong, index  21\n",
      "KUT\n",
      "KUT! 213 != 202\n",
      "smth wrong, index  25\n",
      "KUT\n",
      "KUT! 84 != 82\n",
      "smth wrong, index  30\n",
      "KUT\n",
      "KUT! 274 != 242\n",
      "smth wrong, index  34\n",
      "KUT\n",
      "KUT! 285 != 214\n",
      "smth wrong, index  38\n",
      "KUT\n",
      "KUT! 242 != 199\n",
      "smth wrong, index  40\n",
      "KUT\n",
      "KUT! 226 != 215\n",
      "smth wrong, index  41\n",
      "KUT\n",
      "KUT! 260 != 213\n",
      "smth wrong, index  43\n",
      "KUT\n",
      "KUT! 216 != 212\n",
      "smth wrong, index  45\n",
      "KUT\n",
      "KUT! 238 != 212\n",
      "smth wrong, index  46\n",
      "KUT\n",
      "KUT! 418 != 208\n",
      "smth wrong, index  49\n",
      "KUT\n"
     ]
    },
    {
     "data": {
      "application/vnd.jupyter.widget-view+json": {
       "model_id": "5cf9c795a3844d9391c0f2b4e2c1ae16",
       "version_major": 2,
       "version_minor": 0
      },
      "text/plain": [
       "  0%|          | 0/3 [00:00<?, ?it/s]"
      ]
     },
     "metadata": {},
     "output_type": "display_data"
    },
    {
     "name": "stdout",
     "output_type": "stream",
     "text": [
      "KUT! 253 != 244\n",
      "smth wrong, index  0\n",
      "KUT\n"
     ]
    },
    {
     "data": {
      "application/vnd.jupyter.widget-view+json": {
       "model_id": "7957807e91104ed792f2cee7e4ccf9cb",
       "version_major": 2,
       "version_minor": 0
      },
      "text/plain": [
       "  0%|          | 0/71 [00:00<?, ?it/s]"
      ]
     },
     "metadata": {},
     "output_type": "display_data"
    },
    {
     "name": "stdout",
     "output_type": "stream",
     "text": [
      "KUT! 238 != 216\n",
      "smth wrong, index  0\n",
      "KUT\n",
      "KUT! 229 != 208\n",
      "smth wrong, index  1\n",
      "KUT\n",
      "KUT! 211 != 196\n",
      "smth wrong, index  11\n",
      "KUT\n",
      "KUT! 201 != 196\n",
      "smth wrong, index  33\n",
      "KUT\n",
      "KUT! 216 != 198\n",
      "smth wrong, index  36\n",
      "KUT\n",
      "KUT! 240 != 202\n",
      "smth wrong, index  37\n",
      "KUT\n",
      "KUT! 254 != 231\n",
      "smth wrong, index  39\n",
      "KUT\n",
      "KUT! 336 != 216\n",
      "smth wrong, index  42\n",
      "KUT\n",
      "KUT! 468 != 227\n",
      "smth wrong, index  45\n",
      "KUT\n",
      "KUT! 240 != 213\n",
      "smth wrong, index  46\n",
      "KUT\n",
      "KUT! 302 != 228\n",
      "smth wrong, index  47\n",
      "KUT\n",
      "KUT! 276 != 222\n",
      "smth wrong, index  59\n",
      "KUT\n",
      "KUT! 345 != 235\n",
      "smth wrong, index  61\n",
      "KUT\n",
      "KUT! 259 != 212\n",
      "smth wrong, index  63\n",
      "KUT\n",
      "KUT! 408 != 224\n",
      "smth wrong, index  66\n",
      "KUT\n",
      "KUT! 257 != 210\n",
      "smth wrong, index  68\n",
      "KUT\n",
      "KUT! 274 != 207\n",
      "smth wrong, index  69\n",
      "KUT\n",
      "KUT! 230 != 216\n",
      "smth wrong, index  70\n",
      "KUT\n",
      "KUT! 247 != 210\n",
      "smth wrong, index  73\n",
      "KUT\n",
      "KUT! 260 != 225\n",
      "smth wrong, index  75\n",
      "KUT\n",
      "KUT! 356 != 202\n",
      "smth wrong, index  78\n",
      "KUT\n",
      "KUT! 271 != 215\n",
      "smth wrong, index  83\n",
      "KUT\n",
      "KUT! 233 != 221\n",
      "smth wrong, index  85\n",
      "KUT\n",
      "KUT! 326 != 205\n",
      "smth wrong, index  88\n",
      "KUT\n",
      "KUT! 326 != 219\n",
      "smth wrong, index  91\n",
      "KUT\n",
      "KUT! 288 != 200\n",
      "smth wrong, index  92\n",
      "KUT\n",
      "KUT! 342 != 216\n",
      "smth wrong, index  93\n",
      "KUT\n",
      "KUT! 350 != 219\n",
      "smth wrong, index  95\n",
      "KUT\n",
      "KUT! 393 != 220\n",
      "smth wrong, index  100\n",
      "KUT\n",
      "KUT! 260 != 229\n",
      "smth wrong, index  101\n",
      "KUT\n",
      "KUT! 249 != 225\n",
      "smth wrong, index  102\n",
      "KUT\n"
     ]
    },
    {
     "data": {
      "application/vnd.jupyter.widget-view+json": {
       "model_id": "1f474de6d7094f16b9c0b1b1d20bc985",
       "version_major": 2,
       "version_minor": 0
      },
      "text/plain": [
       "  0%|          | 0/82 [00:00<?, ?it/s]"
      ]
     },
     "metadata": {},
     "output_type": "display_data"
    },
    {
     "name": "stdout",
     "output_type": "stream",
     "text": [
      "KUT! 264 != 215\n",
      "smth wrong, index  9\n",
      "KUT\n",
      "KUT! 373 != 205\n",
      "smth wrong, index  15\n",
      "KUT\n",
      "KUT! 227 != 215\n",
      "smth wrong, index  20\n",
      "KUT\n",
      "KUT! 216 != 200\n",
      "smth wrong, index  28\n",
      "KUT\n",
      "KUT! 229 != 228\n",
      "smth wrong, index  33\n",
      "KUT\n",
      "KUT! 263 != 211\n",
      "smth wrong, index  42\n",
      "KUT\n",
      "KUT! 221 != 210\n",
      "smth wrong, index  52\n",
      "KUT\n",
      "KUT! 221 != 217\n",
      "smth wrong, index  57\n",
      "KUT\n",
      "KUT! 204 != 199\n",
      "smth wrong, index  62\n",
      "KUT\n",
      "KUT! 201 != 200\n",
      "smth wrong, index  66\n",
      "KUT\n",
      "KUT! 209 != 204\n",
      "smth wrong, index  69\n",
      "KUT\n",
      "KUT! 270 != 218\n",
      "smth wrong, index  81\n",
      "KUT\n",
      "KUT! 237 != 190\n",
      "smth wrong, index  87\n",
      "KUT\n",
      "KUT! 172 != 168\n",
      "smth wrong, index  88\n",
      "KUT\n",
      "KUT! 267 != 203\n",
      "smth wrong, index  91\n",
      "KUT\n",
      "KUT! 230 != 213\n",
      "smth wrong, index  102\n",
      "KUT\n",
      "KUT! 201 != 184\n",
      "smth wrong, index  103\n",
      "KUT\n",
      "KUT! 188 != 177\n",
      "smth wrong, index  105\n",
      "KUT\n",
      "KUT! 284 != 199\n",
      "smth wrong, index  107\n",
      "KUT\n",
      "KUT! 198 != 182\n",
      "smth wrong, index  108\n",
      "KUT\n",
      "KUT! 238 != 202\n",
      "smth wrong, index  109\n",
      "KUT\n"
     ]
    },
    {
     "data": {
      "application/vnd.jupyter.widget-view+json": {
       "model_id": "d8da21bf7fa84578ae9e70214d3bef0b",
       "version_major": 2,
       "version_minor": 0
      },
      "text/plain": [
       "  0%|          | 0/1095 [00:00<?, ?it/s]"
      ]
     },
     "metadata": {},
     "output_type": "display_data"
    },
    {
     "name": "stdout",
     "output_type": "stream",
     "text": [
      "KUT! 409 != 371\n",
      "smth wrong, index  2007\n",
      "KUT\n",
      "KUT! 28 != 27\n",
      "smth wrong, index  2434\n",
      "KUT\n",
      "KUT! 22 != 21\n",
      "smth wrong, index  4739\n",
      "KUT\n"
     ]
    },
    {
     "data": {
      "application/vnd.jupyter.widget-view+json": {
       "model_id": "f7c00dbaddab4106bd07fde1b236bc1e",
       "version_major": 2,
       "version_minor": 0
      },
      "text/plain": [
       "  0%|          | 0/50 [00:00<?, ?it/s]"
      ]
     },
     "metadata": {},
     "output_type": "display_data"
    },
    {
     "name": "stdout",
     "output_type": "stream",
     "text": [
      "KUT! 325 != 304\n",
      "smth wrong, index  3\n",
      "KUT\n",
      "KUT! 351 != 292\n",
      "smth wrong, index  12\n",
      "KUT\n",
      "KUT! 314 != 270\n",
      "smth wrong, index  14\n",
      "KUT\n",
      "KUT! 84 != 82\n",
      "smth wrong, index  30\n",
      "KUT\n",
      "KUT! 418 != 287\n",
      "smth wrong, index  49\n",
      "KUT\n"
     ]
    },
    {
     "data": {
      "application/vnd.jupyter.widget-view+json": {
       "model_id": "59ad7442051147ce8a07ca14d2cf82c0",
       "version_major": 2,
       "version_minor": 0
      },
      "text/plain": [
       "  0%|          | 0/3 [00:00<?, ?it/s]"
      ]
     },
     "metadata": {},
     "output_type": "display_data"
    },
    {
     "data": {
      "application/vnd.jupyter.widget-view+json": {
       "model_id": "d626c42036604f31bc97139c1a6a7023",
       "version_major": 2,
       "version_minor": 0
      },
      "text/plain": [
       "  0%|          | 0/111 [00:00<?, ?it/s]"
      ]
     },
     "metadata": {},
     "output_type": "display_data"
    },
    {
     "name": "stdout",
     "output_type": "stream",
     "text": [
      "KUT! 293 != 248\n",
      "smth wrong, index  10\n",
      "KUT\n",
      "KUT! 336 != 303\n",
      "smth wrong, index  42\n",
      "KUT\n",
      "KUT! 468 != 318\n",
      "smth wrong, index  45\n",
      "KUT\n",
      "KUT! 345 != 305\n",
      "smth wrong, index  61\n",
      "KUT\n",
      "KUT! 408 != 323\n",
      "smth wrong, index  66\n",
      "KUT\n",
      "KUT! 356 != 294\n",
      "smth wrong, index  78\n",
      "KUT\n",
      "KUT! 326 != 289\n",
      "smth wrong, index  88\n",
      "KUT\n",
      "KUT! 326 != 286\n",
      "smth wrong, index  91\n",
      "KUT\n",
      "KUT! 288 != 262\n",
      "smth wrong, index  92\n",
      "KUT\n",
      "KUT! 342 != 287\n",
      "smth wrong, index  93\n",
      "KUT\n",
      "KUT! 350 != 288\n",
      "smth wrong, index  95\n",
      "KUT\n",
      "KUT! 393 != 325\n",
      "smth wrong, index  100\n",
      "KUT\n"
     ]
    },
    {
     "data": {
      "application/vnd.jupyter.widget-view+json": {
       "model_id": "8d41e29b3e7b4dd88c891d6156bf6247",
       "version_major": 2,
       "version_minor": 0
      },
      "text/plain": [
       "  0%|          | 0/111 [00:00<?, ?it/s]"
      ]
     },
     "metadata": {},
     "output_type": "display_data"
    },
    {
     "name": "stdout",
     "output_type": "stream",
     "text": [
      "KUT! 373 != 294\n",
      "smth wrong, index  15\n",
      "KUT\n",
      "KUT! 229 != 228\n",
      "smth wrong, index  33\n",
      "KUT\n",
      "KUT! 201 != 200\n",
      "smth wrong, index  77\n",
      "KUT\n",
      "KUT! 267 != 265\n",
      "smth wrong, index  91\n",
      "KUT\n",
      "KUT! 448 != 248\n",
      "smth wrong, index  106\n",
      "KUT\n",
      "KUT! 284 != 262\n",
      "smth wrong, index  107\n",
      "KUT\n"
     ]
    },
    {
     "data": {
      "application/vnd.jupyter.widget-view+json": {
       "model_id": "01192f6ae1a24f488bcdc9ccb57c3003",
       "version_major": 2,
       "version_minor": 0
      },
      "text/plain": [
       "  0%|          | 0/2976 [00:00<?, ?it/s]"
      ]
     },
     "metadata": {},
     "output_type": "display_data"
    },
    {
     "name": "stdout",
     "output_type": "stream",
     "text": [
      "KUT! 409 != 400\n",
      "smth wrong, index  2007\n",
      "KUT\n",
      "KUT! 28 != 27\n",
      "smth wrong, index  2434\n",
      "KUT\n",
      "KUT! 12 != 11\n",
      "smth wrong, index  3108\n",
      "KUT\n"
     ]
    }
   ],
   "source": [
    "records_per_loc = []\n",
    "\n",
    "for MODEL in model_names:\n",
    "#     print('@@@@@@@')\n",
    "#     print(MODEL)\n",
    "#     print('@@@@@@@')\n",
    "    for TEST in tests:\n",
    "#         print(TEST)\n",
    "        for i, wrong_pred in enumerate(tqdm(all_wrong_preds[MODEL][TEST])):\n",
    "            try:\n",
    "                tokens, preds = match_preds(wrong_pred, MODEL, TEST.split('.')[0])\n",
    "            except:\n",
    "                print('OOPS')\n",
    "                continue\n",
    "            if not preds:\n",
    "                continue\n",
    "            sentence = ' '.join(tokens)\n",
    "        #     print(sentence)\n",
    "#             print('====Sentence number {0}==='.format(i))\n",
    "            for pred in preds:\n",
    "                start, mention, pred_labels, true_labels = pred\n",
    "#                 print(' '.join(tokens[:start]))\n",
    "#                 print('+')\n",
    "#                 print(' '.join(tokens[start:]))\n",
    "#                 print('Start, mention, predicted, true')\n",
    "#                 print(pred)\n",
    "\n",
    "#                 print('______')\n",
    "                \n",
    "                records_per_loc.append({'model_name': MODEL,\n",
    "                               'test_set': TEST,\n",
    "                                'prediction_number': i,\n",
    "                                'sentence_number': all_wrong_preds[MODEL][TEST][i][0],\n",
    "                                'left_context': ' '.join(tokens[:start]),\n",
    "                                'right_context': ' '.join(tokens[start:]),\n",
    "                                'mention_tokens': mention,\n",
    "                                'predicted_labels': pred_labels,\n",
    "                                'true_labels': true_labels\n",
    "                               })"
   ]
  },
  {
   "cell_type": "code",
   "execution_count": 25,
   "metadata": {},
   "outputs": [],
   "source": [
    "df_per_loc = pd.DataFrame.from_records(records_per_loc)\n",
    "df_per_loc.to_csv('error_analysis_df_per_loc.tsv',sep='\\t')"
   ]
  },
  {
   "cell_type": "code",
   "execution_count": 26,
   "metadata": {},
   "outputs": [
    {
     "data": {
      "text/html": [
       "<div>\n",
       "<style scoped>\n",
       "    .dataframe tbody tr th:only-of-type {\n",
       "        vertical-align: middle;\n",
       "    }\n",
       "\n",
       "    .dataframe tbody tr th {\n",
       "        vertical-align: top;\n",
       "    }\n",
       "\n",
       "    .dataframe thead th {\n",
       "        text-align: right;\n",
       "    }\n",
       "</style>\n",
       "<table border=\"1\" class=\"dataframe\">\n",
       "  <thead>\n",
       "    <tr style=\"text-align: right;\">\n",
       "      <th></th>\n",
       "      <th>model_name</th>\n",
       "      <th>test_set</th>\n",
       "      <th>prediction_number</th>\n",
       "      <th>sentence_number</th>\n",
       "      <th>left_context</th>\n",
       "      <th>right_context</th>\n",
       "      <th>mention_tokens</th>\n",
       "      <th>predicted_labels</th>\n",
       "      <th>true_labels</th>\n",
       "    </tr>\n",
       "  </thead>\n",
       "  <tbody>\n",
       "    <tr>\n",
       "      <th>0</th>\n",
       "      <td>GysBERT</td>\n",
       "      <td>test_NHA.txt</td>\n",
       "      <td>4</td>\n",
       "      <td>7</td>\n",
       "      <td>en daar voor, de Vrouwe koperesse, by dezen te...</td>\n",
       "      <td>Zandpoort, ten dage en plaatse voor meld, in t...</td>\n",
       "      <td>[Zandpoort,]</td>\n",
       "      <td>[B-LOC]</td>\n",
       "      <td>[I-PER]</td>\n",
       "    </tr>\n",
       "    <tr>\n",
       "      <th>1</th>\n",
       "      <td>GysBERT</td>\n",
       "      <td>test_NHA.txt</td>\n",
       "      <td>19</td>\n",
       "      <td>27</td>\n",
       "      <td>ker, inde frankenstraat Wyk 3 Numero 782 en Ad...</td>\n",
       "      <td>A J S Muurman 38, beide te Haarlem voornoemd w...</td>\n",
       "      <td>[A]</td>\n",
       "      <td>[I-LOC]</td>\n",
       "      <td>[B-PER]</td>\n",
       "    </tr>\n",
       "    <tr>\n",
       "      <th>2</th>\n",
       "      <td>GysBERT</td>\n",
       "      <td>test_NHA.txt</td>\n",
       "      <td>23</td>\n",
       "      <td>32</td>\n",
       "      <td>enz van �1.60 38' 61} 2.21 Geregistreerd te Ha...</td>\n",
       "      <td>Margaretha Fredrika Mab�, eenig na gelaten kin...</td>\n",
       "      <td>[Margaretha, Fredrika, Mab�,]</td>\n",
       "      <td>[B-PER, I-PER, I-PER]</td>\n",
       "      <td>[B-LOC, B-LOC, I-LOC]</td>\n",
       "    </tr>\n",
       "    <tr>\n",
       "      <th>3</th>\n",
       "      <td>GysBERT</td>\n",
       "      <td>test_NHA.txt</td>\n",
       "      <td>23</td>\n",
       "      <td>32</td>\n",
       "      <td>enz van �1.60 38' 61} 2.21 Geregistreerd te Ha...</td>\n",
       "      <td>Nicolaas Mab�, in leven No . taris, geresideer...</td>\n",
       "      <td>[Nicolaas, Mab�,]</td>\n",
       "      <td>[B-PER, I-PER]</td>\n",
       "      <td>[B-LOC, I-LOC]</td>\n",
       "    </tr>\n",
       "    <tr>\n",
       "      <th>4</th>\n",
       "      <td>GysBERT</td>\n",
       "      <td>test_NHA.txt</td>\n",
       "      <td>24</td>\n",
       "      <td>34</td>\n",
       "      <td>Per Transport . . . 179�47 �ken ter somma van ...</td>\n",
       "      <td>Pieter van Lee, in tegenwoordig heid van getui...</td>\n",
       "      <td>[Pieter, van, Lee,]</td>\n",
       "      <td>[B-PER, I-PER, I-PER]</td>\n",
       "      <td>[B-LOC, I-LOC, I-LOC]</td>\n",
       "    </tr>\n",
       "    <tr>\n",
       "      <th>...</th>\n",
       "      <td>...</td>\n",
       "      <td>...</td>\n",
       "      <td>...</td>\n",
       "      <td>...</td>\n",
       "      <td>...</td>\n",
       "      <td>...</td>\n",
       "      <td>...</td>\n",
       "      <td>...</td>\n",
       "      <td>...</td>\n",
       "    </tr>\n",
       "    <tr>\n",
       "      <th>395</th>\n",
       "      <td>WikiNEuRal</td>\n",
       "      <td>ned.testb</td>\n",
       "      <td>2290</td>\n",
       "      <td>3891</td>\n",
       "      <td>(</td>\n",
       "      <td>FR )</td>\n",
       "      <td>[FR]</td>\n",
       "      <td>[B-LOC]</td>\n",
       "      <td>[B-PER]</td>\n",
       "    </tr>\n",
       "    <tr>\n",
       "      <th>396</th>\n",
       "      <td>WikiNEuRal</td>\n",
       "      <td>ned.testb</td>\n",
       "      <td>2537</td>\n",
       "      <td>4321</td>\n",
       "      <td>Ooit was</td>\n",
       "      <td>Compton welvarend en blank .</td>\n",
       "      <td>[Compton]</td>\n",
       "      <td>[B-PER]</td>\n",
       "      <td>[B-LOC]</td>\n",
       "    </tr>\n",
       "    <tr>\n",
       "      <th>397</th>\n",
       "      <td>WikiNEuRal</td>\n",
       "      <td>ned.testb</td>\n",
       "      <td>2542</td>\n",
       "      <td>4329</td>\n",
       "      <td>Maar dat veranderde definitief na de bloedige ...</td>\n",
       "      <td>Watts uitbraken en oversloegen op Compton .</td>\n",
       "      <td>[Watts]</td>\n",
       "      <td>[B-LOC]</td>\n",
       "      <td>[B-PER]</td>\n",
       "    </tr>\n",
       "    <tr>\n",
       "      <th>398</th>\n",
       "      <td>WikiNEuRal</td>\n",
       "      <td>ned.testb</td>\n",
       "      <td>2557</td>\n",
       "      <td>4356</td>\n",
       "      <td>\" De blanken gebruiken de latino's om</td>\n",
       "      <td>Compton terug te winnen en de zwarten eronder ...</td>\n",
       "      <td>[Compton]</td>\n",
       "      <td>[B-PER]</td>\n",
       "      <td>[B-LOC]</td>\n",
       "    </tr>\n",
       "    <tr>\n",
       "      <th>399</th>\n",
       "      <td>WikiNEuRal</td>\n",
       "      <td>ned.testb</td>\n",
       "      <td>2670</td>\n",
       "      <td>4562</td>\n",
       "      <td>(</td>\n",
       "      <td>FL )</td>\n",
       "      <td>[FL]</td>\n",
       "      <td>[B-LOC]</td>\n",
       "      <td>[B-PER]</td>\n",
       "    </tr>\n",
       "  </tbody>\n",
       "</table>\n",
       "<p>400 rows × 9 columns</p>\n",
       "</div>"
      ],
      "text/plain": [
       "     model_name      test_set  prediction_number  sentence_number  \\\n",
       "0       GysBERT  test_NHA.txt                  4                7   \n",
       "1       GysBERT  test_NHA.txt                 19               27   \n",
       "2       GysBERT  test_NHA.txt                 23               32   \n",
       "3       GysBERT  test_NHA.txt                 23               32   \n",
       "4       GysBERT  test_NHA.txt                 24               34   \n",
       "..          ...           ...                ...              ...   \n",
       "395  WikiNEuRal     ned.testb               2290             3891   \n",
       "396  WikiNEuRal     ned.testb               2537             4321   \n",
       "397  WikiNEuRal     ned.testb               2542             4329   \n",
       "398  WikiNEuRal     ned.testb               2557             4356   \n",
       "399  WikiNEuRal     ned.testb               2670             4562   \n",
       "\n",
       "                                          left_context  \\\n",
       "0    en daar voor, de Vrouwe koperesse, by dezen te...   \n",
       "1    ker, inde frankenstraat Wyk 3 Numero 782 en Ad...   \n",
       "2    enz van �1.60 38' 61} 2.21 Geregistreerd te Ha...   \n",
       "3    enz van �1.60 38' 61} 2.21 Geregistreerd te Ha...   \n",
       "4    Per Transport . . . 179�47 �ken ter somma van ...   \n",
       "..                                                 ...   \n",
       "395                                                  (   \n",
       "396                                           Ooit was   \n",
       "397  Maar dat veranderde definitief na de bloedige ...   \n",
       "398              \" De blanken gebruiken de latino's om   \n",
       "399                                                  (   \n",
       "\n",
       "                                         right_context  \\\n",
       "0    Zandpoort, ten dage en plaatse voor meld, in t...   \n",
       "1    A J S Muurman 38, beide te Haarlem voornoemd w...   \n",
       "2    Margaretha Fredrika Mab�, eenig na gelaten kin...   \n",
       "3    Nicolaas Mab�, in leven No . taris, geresideer...   \n",
       "4    Pieter van Lee, in tegenwoordig heid van getui...   \n",
       "..                                                 ...   \n",
       "395                                               FR )   \n",
       "396                       Compton welvarend en blank .   \n",
       "397        Watts uitbraken en oversloegen op Compton .   \n",
       "398  Compton terug te winnen en de zwarten eronder ...   \n",
       "399                                               FL )   \n",
       "\n",
       "                    mention_tokens       predicted_labels  \\\n",
       "0                     [Zandpoort,]                [B-LOC]   \n",
       "1                              [A]                [I-LOC]   \n",
       "2    [Margaretha, Fredrika, Mab�,]  [B-PER, I-PER, I-PER]   \n",
       "3                [Nicolaas, Mab�,]         [B-PER, I-PER]   \n",
       "4              [Pieter, van, Lee,]  [B-PER, I-PER, I-PER]   \n",
       "..                             ...                    ...   \n",
       "395                           [FR]                [B-LOC]   \n",
       "396                      [Compton]                [B-PER]   \n",
       "397                        [Watts]                [B-LOC]   \n",
       "398                      [Compton]                [B-PER]   \n",
       "399                           [FL]                [B-LOC]   \n",
       "\n",
       "               true_labels  \n",
       "0                  [I-PER]  \n",
       "1                  [B-PER]  \n",
       "2    [B-LOC, B-LOC, I-LOC]  \n",
       "3           [B-LOC, I-LOC]  \n",
       "4    [B-LOC, I-LOC, I-LOC]  \n",
       "..                     ...  \n",
       "395                [B-PER]  \n",
       "396                [B-LOC]  \n",
       "397                [B-PER]  \n",
       "398                [B-LOC]  \n",
       "399                [B-PER]  \n",
       "\n",
       "[400 rows x 9 columns]"
      ]
     },
     "execution_count": 26,
     "metadata": {},
     "output_type": "execute_result"
    }
   ],
   "source": [
    "df_per_loc"
   ]
  },
  {
   "cell_type": "code",
   "execution_count": 27,
   "metadata": {},
   "outputs": [
    {
     "data": {
      "text/html": [
       "<div>\n",
       "<style scoped>\n",
       "    .dataframe tbody tr th:only-of-type {\n",
       "        vertical-align: middle;\n",
       "    }\n",
       "\n",
       "    .dataframe tbody tr th {\n",
       "        vertical-align: top;\n",
       "    }\n",
       "\n",
       "    .dataframe thead th {\n",
       "        text-align: right;\n",
       "    }\n",
       "</style>\n",
       "<table border=\"1\" class=\"dataframe\">\n",
       "  <thead>\n",
       "    <tr style=\"text-align: right;\">\n",
       "      <th></th>\n",
       "      <th>model_name</th>\n",
       "      <th>test_set</th>\n",
       "      <th>prediction_number</th>\n",
       "      <th>sentence_number</th>\n",
       "      <th>left_context</th>\n",
       "      <th>right_context</th>\n",
       "      <th>mention_tokens</th>\n",
       "      <th>predicted_labels</th>\n",
       "      <th>true_labels</th>\n",
       "    </tr>\n",
       "  </thead>\n",
       "  <tbody>\n",
       "    <tr>\n",
       "      <th>40</th>\n",
       "      <td>GysBERT</td>\n",
       "      <td>test_VOC.txt</td>\n",
       "      <td>82</td>\n",
       "      <td>107</td>\n",
       "      <td>Dinsdach adij 22en Novembr Anno 1650 presentib...</td>\n",
       "      <td>Evergem manslach te doceren, ende alsoo den se...</td>\n",
       "      <td>[Evergem]</td>\n",
       "      <td>[B-LOC]</td>\n",
       "      <td>[I-PER]</td>\n",
       "    </tr>\n",
       "    <tr>\n",
       "      <th>13</th>\n",
       "      <td>GysBERT</td>\n",
       "      <td>test_SA.txt</td>\n",
       "      <td>25</td>\n",
       "      <td>38</td>\n",
       "      <td>van de voorschreeve somma van een hon� dert da...</td>\n",
       "      <td>H: M: Hoet Emond Vandr : Voort Junior HV Heel ...</td>\n",
       "      <td>[H:, M:, Hoet]</td>\n",
       "      <td>[B-PER, I-PER, I-PER]</td>\n",
       "      <td>[B-LOC, I-LOC, I-LOC]</td>\n",
       "    </tr>\n",
       "    <tr>\n",
       "      <th>172</th>\n",
       "      <td>BERT-multi-cased</td>\n",
       "      <td>test_SA.txt</td>\n",
       "      <td>5</td>\n",
       "      <td>7</td>\n",
       "      <td>Belovende sy Compt. voor goet vast ende van wa...</td>\n",
       "      <td>Breemen out ont. 28 Jaren, uijtgevaren geweest...</td>\n",
       "      <td>[Breemen]</td>\n",
       "      <td>[I-PER]</td>\n",
       "      <td>[B-LOC]</td>\n",
       "    </tr>\n",
       "    <tr>\n",
       "      <th>245</th>\n",
       "      <td>BERT-multi-cased</td>\n",
       "      <td>ned.testb</td>\n",
       "      <td>640</td>\n",
       "      <td>2625</td>\n",
       "      <td></td>\n",
       "      <td>Olano ( Spa ) -- 13 .</td>\n",
       "      <td>[Olano]</td>\n",
       "      <td>[B-LOC]</td>\n",
       "      <td>[B-PER]</td>\n",
       "    </tr>\n",
       "    <tr>\n",
       "      <th>397</th>\n",
       "      <td>WikiNEuRal</td>\n",
       "      <td>ned.testb</td>\n",
       "      <td>2542</td>\n",
       "      <td>4329</td>\n",
       "      <td>Maar dat veranderde definitief na de bloedige ...</td>\n",
       "      <td>Watts uitbraken en oversloegen op Compton .</td>\n",
       "      <td>[Watts]</td>\n",
       "      <td>[B-LOC]</td>\n",
       "      <td>[B-PER]</td>\n",
       "    </tr>\n",
       "    <tr>\n",
       "      <th>279</th>\n",
       "      <td>WikiNEuRal</td>\n",
       "      <td>test_NHA.txt</td>\n",
       "      <td>27</td>\n",
       "      <td>28</td>\n",
       "      <td>�nen deze stad, in Publieke Veiling ge, �bragt...</td>\n",
       "      <td>Nicolaas van Loon, ten Zuiden, Hendrik Lans, e...</td>\n",
       "      <td>[Nicolaas, van, Loon,]</td>\n",
       "      <td>[B-LOC, I-LOC, I-LOC]</td>\n",
       "      <td>[B-PER, I-PER, I-PER]</td>\n",
       "    </tr>\n",
       "    <tr>\n",
       "      <th>209</th>\n",
       "      <td>BERT-multi-cased</td>\n",
       "      <td>ned.testb</td>\n",
       "      <td>252</td>\n",
       "      <td>1066</td>\n",
       "      <td>Egypte heeft voorgesteld dat Isra�l en de Pale...</td>\n",
       "      <td>Jeruzalem met elkaar delen zonder de eenheid v...</td>\n",
       "      <td>[Jeruzalem]</td>\n",
       "      <td>[B-PER]</td>\n",
       "      <td>[B-LOC]</td>\n",
       "    </tr>\n",
       "    <tr>\n",
       "      <th>36</th>\n",
       "      <td>GysBERT</td>\n",
       "      <td>test_VOC.txt</td>\n",
       "      <td>77</td>\n",
       "      <td>101</td>\n",
       "      <td>153 153 Van Mocha onder dato 15 Aug 1734 weder...</td>\n",
       "      <td>Turbetty deese daegen zyn niets gepasseert ont...</td>\n",
       "      <td>[Turbetty]</td>\n",
       "      <td>[B-LOC]</td>\n",
       "      <td>[I-PER]</td>\n",
       "    </tr>\n",
       "    <tr>\n",
       "      <th>278</th>\n",
       "      <td>WikiNEuRal</td>\n",
       "      <td>test_NHA.txt</td>\n",
       "      <td>25</td>\n",
       "      <td>26</td>\n",
       "      <td>Voorts gedurende den Dat voor deze Plaatsverva...</td>\n",
       "      <td>den Helder vrouw Trijntje Domper op hare quitt...</td>\n",
       "      <td>[den, Helder]</td>\n",
       "      <td>[I-PER, I-PER]</td>\n",
       "      <td>[B-LOC, I-LOC]</td>\n",
       "    </tr>\n",
       "    <tr>\n",
       "      <th>178</th>\n",
       "      <td>BERT-multi-cased</td>\n",
       "      <td>test_SA.txt</td>\n",
       "      <td>25</td>\n",
       "      <td>40</td>\n",
       "      <td>oc� tober des Jaars 1744 van Batavia aan de se...</td>\n",
       "      <td>Maccasser weduwe Carel</td>\n",
       "      <td>[Maccasser]</td>\n",
       "      <td>[B-LOC]</td>\n",
       "      <td>[I-PER]</td>\n",
       "    </tr>\n",
       "  </tbody>\n",
       "</table>\n",
       "</div>"
      ],
      "text/plain": [
       "           model_name      test_set  prediction_number  sentence_number  \\\n",
       "40            GysBERT  test_VOC.txt                 82              107   \n",
       "13            GysBERT   test_SA.txt                 25               38   \n",
       "172  BERT-multi-cased   test_SA.txt                  5                7   \n",
       "245  BERT-multi-cased     ned.testb                640             2625   \n",
       "397        WikiNEuRal     ned.testb               2542             4329   \n",
       "279        WikiNEuRal  test_NHA.txt                 27               28   \n",
       "209  BERT-multi-cased     ned.testb                252             1066   \n",
       "36            GysBERT  test_VOC.txt                 77              101   \n",
       "278        WikiNEuRal  test_NHA.txt                 25               26   \n",
       "178  BERT-multi-cased   test_SA.txt                 25               40   \n",
       "\n",
       "                                          left_context  \\\n",
       "40   Dinsdach adij 22en Novembr Anno 1650 presentib...   \n",
       "13   van de voorschreeve somma van een hon� dert da...   \n",
       "172  Belovende sy Compt. voor goet vast ende van wa...   \n",
       "245                                                      \n",
       "397  Maar dat veranderde definitief na de bloedige ...   \n",
       "279  �nen deze stad, in Publieke Veiling ge, �bragt...   \n",
       "209  Egypte heeft voorgesteld dat Isra�l en de Pale...   \n",
       "36   153 153 Van Mocha onder dato 15 Aug 1734 weder...   \n",
       "278  Voorts gedurende den Dat voor deze Plaatsverva...   \n",
       "178  oc� tober des Jaars 1744 van Batavia aan de se...   \n",
       "\n",
       "                                         right_context  \\\n",
       "40   Evergem manslach te doceren, ende alsoo den se...   \n",
       "13   H: M: Hoet Emond Vandr : Voort Junior HV Heel ...   \n",
       "172  Breemen out ont. 28 Jaren, uijtgevaren geweest...   \n",
       "245                              Olano ( Spa ) -- 13 .   \n",
       "397        Watts uitbraken en oversloegen op Compton .   \n",
       "279  Nicolaas van Loon, ten Zuiden, Hendrik Lans, e...   \n",
       "209  Jeruzalem met elkaar delen zonder de eenheid v...   \n",
       "36   Turbetty deese daegen zyn niets gepasseert ont...   \n",
       "278  den Helder vrouw Trijntje Domper op hare quitt...   \n",
       "178                             Maccasser weduwe Carel   \n",
       "\n",
       "             mention_tokens       predicted_labels            true_labels  \n",
       "40                [Evergem]                [B-LOC]                [I-PER]  \n",
       "13           [H:, M:, Hoet]  [B-PER, I-PER, I-PER]  [B-LOC, I-LOC, I-LOC]  \n",
       "172               [Breemen]                [I-PER]                [B-LOC]  \n",
       "245                 [Olano]                [B-LOC]                [B-PER]  \n",
       "397                 [Watts]                [B-LOC]                [B-PER]  \n",
       "279  [Nicolaas, van, Loon,]  [B-LOC, I-LOC, I-LOC]  [B-PER, I-PER, I-PER]  \n",
       "209             [Jeruzalem]                [B-PER]                [B-LOC]  \n",
       "36               [Turbetty]                [B-LOC]                [I-PER]  \n",
       "278           [den, Helder]         [I-PER, I-PER]         [B-LOC, I-LOC]  \n",
       "178             [Maccasser]                [B-LOC]                [I-PER]  "
      ]
     },
     "execution_count": 27,
     "metadata": {},
     "output_type": "execute_result"
    }
   ],
   "source": [
    "df_per_loc.sample(10)"
   ]
  },
  {
   "cell_type": "code",
   "execution_count": null,
   "metadata": {},
   "outputs": [],
   "source": [
    "interesting_row_numbers = [\n",
    "    106, 273,118,199,176,285,394,2,49,79,\n",
    "]"
   ]
  }
 ],
 "metadata": {
  "kernelspec": {
   "display_name": "tabi",
   "language": "python",
   "name": "tabi"
  },
  "language_info": {
   "codemirror_mode": {
    "name": "ipython",
    "version": 3
   },
   "file_extension": ".py",
   "mimetype": "text/x-python",
   "name": "python",
   "nbconvert_exporter": "python",
   "pygments_lexer": "ipython3",
   "version": "3.7.5"
  }
 },
 "nbformat": 4,
 "nbformat_minor": 4
}
