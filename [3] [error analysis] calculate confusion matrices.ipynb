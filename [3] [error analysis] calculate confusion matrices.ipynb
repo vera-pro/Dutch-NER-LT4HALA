{
 "cells": [
  {
   "cell_type": "code",
   "execution_count": 1,
   "metadata": {},
   "outputs": [],
   "source": [
    "tests_old = 'test_NHA.txt  test_RHC.txt  test_SA.txt  test_VOC.txt'.split()\n",
    "# tests"
   ]
  },
  {
   "cell_type": "code",
   "execution_count": 2,
   "metadata": {},
   "outputs": [],
   "source": [
    "tests = tests_old +['ned.testb'] # for the names"
   ]
  },
  {
   "cell_type": "code",
   "execution_count": 3,
   "metadata": {},
   "outputs": [
    {
     "data": {
      "application/vnd.jupyter.widget-view+json": {
       "model_id": "6c1fc0b58f68432a9154a6016a1939ae",
       "version_major": 2,
       "version_minor": 0
      },
      "text/plain": [
       "  0%|          | 0/8040 [00:00<?, ?it/s]"
      ]
     },
     "metadata": {},
     "output_type": "display_data"
    },
    {
     "data": {
      "application/vnd.jupyter.widget-view+json": {
       "model_id": "aa146a2461a44990a354c995c755f4e2",
       "version_major": 2,
       "version_minor": 0
      },
      "text/plain": [
       "  0%|          | 0/2150 [00:00<?, ?it/s]"
      ]
     },
     "metadata": {},
     "output_type": "display_data"
    },
    {
     "data": {
      "application/vnd.jupyter.widget-view+json": {
       "model_id": "cdc8e90a207a459bb793890c13b660a0",
       "version_major": 2,
       "version_minor": 0
      },
      "text/plain": [
       "  0%|          | 0/27 [00:00<?, ?it/s]"
      ]
     },
     "metadata": {},
     "output_type": "display_data"
    },
    {
     "data": {
      "application/vnd.jupyter.widget-view+json": {
       "model_id": "69dc4821dff74c239aa5d02fe6aba050",
       "version_major": 2,
       "version_minor": 0
      },
      "text/plain": [
       "  0%|          | 0/1 [00:00<?, ?it/s]"
      ]
     },
     "metadata": {},
     "output_type": "display_data"
    },
    {
     "data": {
      "application/vnd.jupyter.widget-view+json": {
       "model_id": "f6d6b0293a934723be41f352007e656a",
       "version_major": 2,
       "version_minor": 0
      },
      "text/plain": [
       "  0%|          | 0/78 [00:00<?, ?it/s]"
      ]
     },
     "metadata": {},
     "output_type": "display_data"
    },
    {
     "data": {
      "application/vnd.jupyter.widget-view+json": {
       "model_id": "1b99df7a6bd94e298d74511cad681485",
       "version_major": 2,
       "version_minor": 0
      },
      "text/plain": [
       "  0%|          | 0/91 [00:00<?, ?it/s]"
      ]
     },
     "metadata": {},
     "output_type": "display_data"
    },
    {
     "data": {
      "application/vnd.jupyter.widget-view+json": {
       "model_id": "f92a949e2b7646eabf8217de19238b3f",
       "version_major": 2,
       "version_minor": 0
      },
      "text/plain": [
       "  0%|          | 0/5076 [00:00<?, ?it/s]"
      ]
     },
     "metadata": {},
     "output_type": "display_data"
    }
   ],
   "source": [
    "import torch\n",
    "from transformers import AutoTokenizer, AutoModelForTokenClassification, Trainer, TrainingArguments, AutoModel\n",
    "from datasets import load_dataset, load_metric, Dataset, DatasetDict\n",
    "import numpy as np\n",
    "from seqeval.metrics import f1_score, precision_score, recall_score, classification_report\n",
    "from data_utils import prepare_data, convert_to_dataset\n",
    "\n",
    "# train and val are redundant but we need the labels, sooo\n",
    "train = prepare_data('/ivi/ilps/personal/vprovat/KB/data/AITrainingset/Data/train.txt')\n",
    "val = prepare_data('/ivi/ilps/personal/vprovat/KB/data/AITrainingset/Data/validation.txt')\n",
    "\n",
    "tests_prepared = [\n",
    "     prepare_data('/ivi/ilps/personal/vprovat/KB/data/AITrainingset/Data/'+test) for test in tests_old\n",
    "]\n",
    "\n",
    "tests_prepared += [\n",
    "     prepare_data('/ivi/ilps/personal/vprovat/KB/data/Dutch_conll/ned.testb')\n",
    "]"
   ]
  },
  {
   "cell_type": "code",
   "execution_count": 4,
   "metadata": {},
   "outputs": [],
   "source": [
    "label_list = sorted(list(set([token_data[1] for sentence in train for token_data in sentence if token_data])))\n",
    "\n",
    "label_list = label_list\n",
    "# print(label_list_new)\n",
    "id2label_original = {i: label for i, label in enumerate(label_list)}\n",
    "label2id = {label: i for i, label in enumerate(label_list)}\n",
    "label_map = {label: i for i, label in enumerate(label_list)}\n",
    "label_map.update({'B-ORG': label2id['O'],\n",
    "                  'B-MISC': label2id['O'], \n",
    "                  'I-ORG': label2id['O'],\n",
    "                  'I-MISC': label2id['O']})\n",
    "\n",
    "train_data = convert_to_dataset(train, label_map)\n",
    "val_data = convert_to_dataset(val, label_map)\n",
    "test_data = [convert_to_dataset(test, label_map)\n",
    "             for test in tests_prepared]"
   ]
  },
  {
   "cell_type": "code",
   "execution_count": 5,
   "metadata": {},
   "outputs": [
    {
     "data": {
      "text/plain": [
       "['B-LOC', 'B-PER', 'B-TIME', 'I-LOC', 'I-PER', 'I-TIME', 'O']"
      ]
     },
     "execution_count": 5,
     "metadata": {},
     "output_type": "execute_result"
    }
   ],
   "source": [
    "label_list"
   ]
  },
  {
   "cell_type": "code",
   "execution_count": 6,
   "metadata": {},
   "outputs": [],
   "source": [
    "id2label = id2label_original"
   ]
  },
  {
   "cell_type": "code",
   "execution_count": 7,
   "metadata": {},
   "outputs": [],
   "source": [
    "dct = {\n",
    "    \"train\": train_data,\n",
    "    \"validation\": val_data}\n",
    "for i, test in enumerate(tests):\n",
    "    dct[test.split('.')[0]] = test_data[i]\n",
    "\n",
    "datasets = DatasetDict(dct)"
   ]
  },
  {
   "cell_type": "code",
   "execution_count": 8,
   "metadata": {},
   "outputs": [],
   "source": [
    "def get_predictions(model_name, dataset_name):\n",
    "    global tokenizer\n",
    "    tokenizer = AutoTokenizer.from_pretrained(model_name, model_max_length=512)\n",
    "    global model\n",
    "    model = AutoModelForTokenClassification.from_pretrained(model_name)\n",
    "    tokenized_datasets = datasets.map(tokenize_and_align_labels, batched=True)\n",
    "    \n",
    "    global id2label\n",
    "    id2label = model.config.id2label\n",
    "#     global label2id\n",
    "#     label2id = model.config.label2id\n",
    "    \n",
    "    trainer = Trainer(\n",
    "        model=model,\n",
    "        train_dataset=tokenized_datasets[\"train\"],\n",
    "        eval_dataset=tokenized_datasets[\"validation\"],\n",
    "        data_collator=data_collator,\n",
    "        tokenizer=tokenizer,\n",
    "        compute_metrics=compute_metrics\n",
    "    )\n",
    "    \n",
    "\n",
    "    preds = trainer.predict(tokenized_datasets[dataset_name])\n",
    "    return preds"
   ]
  },
  {
   "cell_type": "code",
   "execution_count": 9,
   "metadata": {},
   "outputs": [],
   "source": [
    "def clean_predictions(preds):\n",
    "    predictions = np.argmax(preds.predictions, axis=2)\n",
    "    labels = preds.label_ids\n",
    "\n",
    "    # Remove ignored index (special tokens)\n",
    "    true_predictions = [\n",
    "        [id2label[p] for (p, l) in zip(prediction, label) if l != -100]\n",
    "        for prediction, label in zip(predictions, labels)\n",
    "    ]\n",
    "    true_labels = [\n",
    "        [id2label_original[l] for (p, l) in zip(prediction, label) if l != -100]\n",
    "        for prediction, label in zip(predictions, labels)\n",
    "    ]\n",
    "    \n",
    "    return true_predictions, true_labels"
   ]
  },
  {
   "cell_type": "code",
   "execution_count": 10,
   "metadata": {},
   "outputs": [],
   "source": [
    "def extract_wrong_predictions(preds): # experimental, will be improved\n",
    "    true_predictions, true_labels = clean_predictions(preds)\n",
    "    \n",
    "    res = []\n",
    "    for i in range(len(true_predictions)):\n",
    "        if true_predictions[i] != true_labels[i]:\n",
    "            res.append((i, true_predictions[i],true_labels[i]))\n",
    "    return res\n"
   ]
  },
  {
   "cell_type": "code",
   "execution_count": 11,
   "metadata": {},
   "outputs": [],
   "source": [
    "from sklearn.metrics import confusion_matrix\n",
    "def get_predictions(model_name, dataset_name):\n",
    "    global tokenizer\n",
    "    tokenizer = AutoTokenizer.from_pretrained(model_name, model_max_length=512)\n",
    "    global model\n",
    "    model = AutoModelForTokenClassification.from_pretrained(model_name)\n",
    "    tokenized_datasets = datasets.map(tokenize_and_align_labels, batched=True)\n",
    "    \n",
    "    global id2label\n",
    "    id2label = model.config.id2label\n",
    "#     global label2id\n",
    "#     label2id = model.config.label2id\n",
    "    \n",
    "    trainer = Trainer(\n",
    "        model=model,\n",
    "        train_dataset=tokenized_datasets[\"train\"],\n",
    "        eval_dataset=tokenized_datasets[\"validation\"],\n",
    "        data_collator=data_collator,\n",
    "        tokenizer=tokenizer,\n",
    "        compute_metrics=compute_metrics\n",
    "    )\n",
    "    \n",
    "\n",
    "    preds = trainer.predict(tokenized_datasets[dataset_name])\n",
    "    return preds\n",
    "    \n",
    "#     matrix = confusion_matrix(preds.label_ids, preds.predictions, label_list)\n",
    "#     return matrix"
   ]
  },
  {
   "cell_type": "code",
   "execution_count": 12,
   "metadata": {},
   "outputs": [],
   "source": [
    "def compute_metrics(eval_prediction):\n",
    "    true_predictions, true_labels = clean_predictions(eval_prediction)\n",
    "    return {\n",
    "        \"precision\": precision_score(true_labels, true_predictions),\n",
    "        \"recall\": recall_score(true_labels, true_predictions),\n",
    "        \"f1\": f1_score(true_labels, true_predictions),\n",
    "        \"classification_report\": classification_report(true_labels, true_predictions),\n",
    "    }\n",
    "\n",
    "\n",
    "def tokenize_and_align_labels(examples):\n",
    "    tokenized_inputs = tokenizer(\n",
    "        examples[\"tokens\"], truncation=True, is_split_into_words=True, padding=True, return_tensors='pt'\n",
    "    )\n",
    "    labels = []\n",
    "    for i, label in enumerate(examples[\"ner_tags\"]):\n",
    "        word_ids = tokenized_inputs.word_ids(batch_index=i)\n",
    "        previous_word_idx = None\n",
    "        label_ids = []\n",
    "        for word_idx in word_ids:\n",
    "            if word_idx is None:\n",
    "                label_ids.append(-100)\n",
    "            elif word_idx != previous_word_idx:\n",
    "                label_ids.append(label[word_idx])\n",
    "            else:\n",
    "                label_ids.append(-100)\n",
    "            previous_word_idx = word_idx\n",
    "        labels.append(label_ids)\n",
    "    tokenized_inputs[\"labels\"] = labels\n",
    "    return tokenized_inputs\n",
    "\n",
    "def data_collator(data):\n",
    "    input_ids = [torch.tensor(item[\"input_ids\"]) for item in data]\n",
    "    attention_mask = [torch.tensor(item[\"attention_mask\"]) for item in data]\n",
    "    labels = [torch.tensor(item[\"labels\"]) for item in data]\n",
    "\n",
    "    input_ids = torch.nn.utils.rnn.pad_sequence(input_ids, batch_first=True, padding_value=tokenizer.pad_token_id)\n",
    "    attention_mask = torch.nn.utils.rnn.pad_sequence(attention_mask, batch_first=True, padding_value=0)\n",
    "    labels = torch.nn.utils.rnn.pad_sequence(labels, batch_first=True, padding_value=-100)\n",
    "\n",
    "\n",
    "    return {\n",
    "        \"input_ids\": input_ids,\n",
    "        \"attention_mask\": attention_mask,\n",
    "        \"labels\": labels,\n",
    "    }\n"
   ]
  },
  {
   "cell_type": "code",
   "execution_count": 13,
   "metadata": {},
   "outputs": [],
   "source": [
    "model_names = {'GysBERT': \"/ivi/ilps/personal/vprovat/KB/models/GysBERT-NER-v2\",\n",
    "              'BERTje': \"/ivi/ilps/personal/vprovat/KB/models/BERTje-NER-v2\",\n",
    "              'BERT-multi-cased': \"/ivi/ilps/personal/vprovat/KB/models/BERT-multi-cased-NER-v2\",\n",
    "              'WikiNEuRal': \"Babelscape/wikineural-multilingual-ner\"}"
   ]
  },
  {
   "cell_type": "code",
   "execution_count": 14,
   "metadata": {},
   "outputs": [
    {
     "data": {
      "text/plain": [
       "DatasetDict({\n",
       "    train: Dataset({\n",
       "        features: ['tokens', 'ner_tags'],\n",
       "        num_rows: 11104\n",
       "    })\n",
       "    validation: Dataset({\n",
       "        features: ['tokens', 'ner_tags'],\n",
       "        num_rows: 2761\n",
       "    })\n",
       "    test_NHA: Dataset({\n",
       "        features: ['tokens', 'ner_tags'],\n",
       "        num_rows: 51\n",
       "    })\n",
       "    test_RHC: Dataset({\n",
       "        features: ['tokens', 'ner_tags'],\n",
       "        num_rows: 3\n",
       "    })\n",
       "    test_SA: Dataset({\n",
       "        features: ['tokens', 'ner_tags'],\n",
       "        num_rows: 114\n",
       "    })\n",
       "    test_VOC: Dataset({\n",
       "        features: ['tokens', 'ner_tags'],\n",
       "        num_rows: 111\n",
       "    })\n",
       "    ned: Dataset({\n",
       "        features: ['tokens', 'ner_tags'],\n",
       "        num_rows: 5076\n",
       "    })\n",
       "})"
      ]
     },
     "execution_count": 14,
     "metadata": {},
     "output_type": "execute_result"
    }
   ],
   "source": [
    "datasets"
   ]
  },
  {
   "cell_type": "code",
   "execution_count": 15,
   "metadata": {},
   "outputs": [
    {
     "data": {
      "application/vnd.jupyter.widget-view+json": {
       "model_id": "bf4a74dc6e2345899acbde038e08766f",
       "version_major": 2,
       "version_minor": 0
      },
      "text/plain": [
       "Map:   0%|          | 0/11104 [00:00<?, ? examples/s]"
      ]
     },
     "metadata": {},
     "output_type": "display_data"
    },
    {
     "ename": "KeyboardInterrupt",
     "evalue": "",
     "output_type": "error",
     "traceback": [
      "\u001b[0;31m---------------------------------------------------------------------------\u001b[0m",
      "\u001b[0;31mKeyboardInterrupt\u001b[0m                         Traceback (most recent call last)",
      "\u001b[0;32m<ipython-input-15-285a42017173>\u001b[0m in \u001b[0;36m<module>\u001b[0;34m\u001b[0m\n\u001b[1;32m      4\u001b[0m     \u001b[0mcur_preds\u001b[0m \u001b[0;34m=\u001b[0m \u001b[0;34m{\u001b[0m\u001b[0;34m}\u001b[0m\u001b[0;34m\u001b[0m\u001b[0;34m\u001b[0m\u001b[0m\n\u001b[1;32m      5\u001b[0m     \u001b[0;32mfor\u001b[0m \u001b[0mtest\u001b[0m \u001b[0;32min\u001b[0m \u001b[0mtests\u001b[0m\u001b[0;34m+\u001b[0m\u001b[0;34m[\u001b[0m\u001b[0;34m'ned.testb'\u001b[0m\u001b[0;34m]\u001b[0m\u001b[0;34m:\u001b[0m\u001b[0;34m\u001b[0m\u001b[0;34m\u001b[0m\u001b[0m\n\u001b[0;32m----> 6\u001b[0;31m         \u001b[0mcur_preds\u001b[0m\u001b[0;34m[\u001b[0m\u001b[0mtest\u001b[0m\u001b[0;34m]\u001b[0m \u001b[0;34m=\u001b[0m \u001b[0mget_predictions\u001b[0m\u001b[0;34m(\u001b[0m\u001b[0mpath\u001b[0m\u001b[0;34m,\u001b[0m \u001b[0mtest\u001b[0m\u001b[0;34m.\u001b[0m\u001b[0msplit\u001b[0m\u001b[0;34m(\u001b[0m\u001b[0;34m'.'\u001b[0m\u001b[0;34m)\u001b[0m\u001b[0;34m[\u001b[0m\u001b[0;36m0\u001b[0m\u001b[0;34m]\u001b[0m\u001b[0;34m)\u001b[0m\u001b[0;34m\u001b[0m\u001b[0;34m\u001b[0m\u001b[0m\n\u001b[0m\u001b[1;32m      7\u001b[0m     \u001b[0mall_preds\u001b[0m\u001b[0;34m[\u001b[0m\u001b[0mname\u001b[0m\u001b[0;34m]\u001b[0m \u001b[0;34m=\u001b[0m \u001b[0mcur_preds\u001b[0m\u001b[0;34m\u001b[0m\u001b[0;34m\u001b[0m\u001b[0m\n",
      "\u001b[0;32m<ipython-input-11-300ba56a5b71>\u001b[0m in \u001b[0;36mget_predictions\u001b[0;34m(model_name, dataset_name)\u001b[0m\n\u001b[1;32m      5\u001b[0m     \u001b[0;32mglobal\u001b[0m \u001b[0mmodel\u001b[0m\u001b[0;34m\u001b[0m\u001b[0;34m\u001b[0m\u001b[0m\n\u001b[1;32m      6\u001b[0m     \u001b[0mmodel\u001b[0m \u001b[0;34m=\u001b[0m \u001b[0mAutoModelForTokenClassification\u001b[0m\u001b[0;34m.\u001b[0m\u001b[0mfrom_pretrained\u001b[0m\u001b[0;34m(\u001b[0m\u001b[0mmodel_name\u001b[0m\u001b[0;34m)\u001b[0m\u001b[0;34m\u001b[0m\u001b[0;34m\u001b[0m\u001b[0m\n\u001b[0;32m----> 7\u001b[0;31m     \u001b[0mtokenized_datasets\u001b[0m \u001b[0;34m=\u001b[0m \u001b[0mdatasets\u001b[0m\u001b[0;34m.\u001b[0m\u001b[0mmap\u001b[0m\u001b[0;34m(\u001b[0m\u001b[0mtokenize_and_align_labels\u001b[0m\u001b[0;34m,\u001b[0m \u001b[0mbatched\u001b[0m\u001b[0;34m=\u001b[0m\u001b[0;32mTrue\u001b[0m\u001b[0;34m)\u001b[0m\u001b[0;34m\u001b[0m\u001b[0;34m\u001b[0m\u001b[0m\n\u001b[0m\u001b[1;32m      8\u001b[0m \u001b[0;34m\u001b[0m\u001b[0m\n\u001b[1;32m      9\u001b[0m     \u001b[0;32mglobal\u001b[0m \u001b[0mid2label\u001b[0m\u001b[0;34m\u001b[0m\u001b[0;34m\u001b[0m\u001b[0m\n",
      "\u001b[0;32m~/anaconda3/lib/python3.7/site-packages/datasets/dataset_dict.py\u001b[0m in \u001b[0;36mmap\u001b[0;34m(self, function, with_indices, with_rank, input_columns, batched, batch_size, drop_last_batch, remove_columns, keep_in_memory, load_from_cache_file, cache_file_names, writer_batch_size, features, disable_nullable, fn_kwargs, num_proc, desc)\u001b[0m\n\u001b[1;32m    869\u001b[0m                     \u001b[0mdesc\u001b[0m\u001b[0;34m=\u001b[0m\u001b[0mdesc\u001b[0m\u001b[0;34m,\u001b[0m\u001b[0;34m\u001b[0m\u001b[0;34m\u001b[0m\u001b[0m\n\u001b[1;32m    870\u001b[0m                 )\n\u001b[0;32m--> 871\u001b[0;31m                 \u001b[0;32mfor\u001b[0m \u001b[0mk\u001b[0m\u001b[0;34m,\u001b[0m \u001b[0mdataset\u001b[0m \u001b[0;32min\u001b[0m \u001b[0mself\u001b[0m\u001b[0;34m.\u001b[0m\u001b[0mitems\u001b[0m\u001b[0;34m(\u001b[0m\u001b[0;34m)\u001b[0m\u001b[0;34m\u001b[0m\u001b[0;34m\u001b[0m\u001b[0m\n\u001b[0m\u001b[1;32m    872\u001b[0m             }\n\u001b[1;32m    873\u001b[0m         )\n",
      "\u001b[0;32m~/anaconda3/lib/python3.7/site-packages/datasets/dataset_dict.py\u001b[0m in \u001b[0;36m<dictcomp>\u001b[0;34m(.0)\u001b[0m\n\u001b[1;32m    869\u001b[0m                     \u001b[0mdesc\u001b[0m\u001b[0;34m=\u001b[0m\u001b[0mdesc\u001b[0m\u001b[0;34m,\u001b[0m\u001b[0;34m\u001b[0m\u001b[0;34m\u001b[0m\u001b[0m\n\u001b[1;32m    870\u001b[0m                 )\n\u001b[0;32m--> 871\u001b[0;31m                 \u001b[0;32mfor\u001b[0m \u001b[0mk\u001b[0m\u001b[0;34m,\u001b[0m \u001b[0mdataset\u001b[0m \u001b[0;32min\u001b[0m \u001b[0mself\u001b[0m\u001b[0;34m.\u001b[0m\u001b[0mitems\u001b[0m\u001b[0;34m(\u001b[0m\u001b[0;34m)\u001b[0m\u001b[0;34m\u001b[0m\u001b[0;34m\u001b[0m\u001b[0m\n\u001b[0m\u001b[1;32m    872\u001b[0m             }\n\u001b[1;32m    873\u001b[0m         )\n",
      "\u001b[0;32m~/anaconda3/lib/python3.7/site-packages/datasets/arrow_dataset.py\u001b[0m in \u001b[0;36mwrapper\u001b[0;34m(*args, **kwargs)\u001b[0m\n\u001b[1;32m    578\u001b[0m             \u001b[0mself\u001b[0m\u001b[0;34m:\u001b[0m \u001b[0;34m\"Dataset\"\u001b[0m \u001b[0;34m=\u001b[0m \u001b[0mkwargs\u001b[0m\u001b[0;34m.\u001b[0m\u001b[0mpop\u001b[0m\u001b[0;34m(\u001b[0m\u001b[0;34m\"self\"\u001b[0m\u001b[0;34m)\u001b[0m\u001b[0;34m\u001b[0m\u001b[0;34m\u001b[0m\u001b[0m\n\u001b[1;32m    579\u001b[0m         \u001b[0;31m# apply actual function\u001b[0m\u001b[0;34m\u001b[0m\u001b[0;34m\u001b[0m\u001b[0;34m\u001b[0m\u001b[0m\n\u001b[0;32m--> 580\u001b[0;31m         \u001b[0mout\u001b[0m\u001b[0;34m:\u001b[0m \u001b[0mUnion\u001b[0m\u001b[0;34m[\u001b[0m\u001b[0;34m\"Dataset\"\u001b[0m\u001b[0;34m,\u001b[0m \u001b[0;34m\"DatasetDict\"\u001b[0m\u001b[0;34m]\u001b[0m \u001b[0;34m=\u001b[0m \u001b[0mfunc\u001b[0m\u001b[0;34m(\u001b[0m\u001b[0mself\u001b[0m\u001b[0;34m,\u001b[0m \u001b[0;34m*\u001b[0m\u001b[0margs\u001b[0m\u001b[0;34m,\u001b[0m \u001b[0;34m**\u001b[0m\u001b[0mkwargs\u001b[0m\u001b[0;34m)\u001b[0m\u001b[0;34m\u001b[0m\u001b[0;34m\u001b[0m\u001b[0m\n\u001b[0m\u001b[1;32m    581\u001b[0m         \u001b[0mdatasets\u001b[0m\u001b[0;34m:\u001b[0m \u001b[0mList\u001b[0m\u001b[0;34m[\u001b[0m\u001b[0;34m\"Dataset\"\u001b[0m\u001b[0;34m]\u001b[0m \u001b[0;34m=\u001b[0m \u001b[0mlist\u001b[0m\u001b[0;34m(\u001b[0m\u001b[0mout\u001b[0m\u001b[0;34m.\u001b[0m\u001b[0mvalues\u001b[0m\u001b[0;34m(\u001b[0m\u001b[0;34m)\u001b[0m\u001b[0;34m)\u001b[0m \u001b[0;32mif\u001b[0m \u001b[0misinstance\u001b[0m\u001b[0;34m(\u001b[0m\u001b[0mout\u001b[0m\u001b[0;34m,\u001b[0m \u001b[0mdict\u001b[0m\u001b[0;34m)\u001b[0m \u001b[0;32melse\u001b[0m \u001b[0;34m[\u001b[0m\u001b[0mout\u001b[0m\u001b[0;34m]\u001b[0m\u001b[0;34m\u001b[0m\u001b[0;34m\u001b[0m\u001b[0m\n\u001b[1;32m    582\u001b[0m         \u001b[0;32mfor\u001b[0m \u001b[0mdataset\u001b[0m \u001b[0;32min\u001b[0m \u001b[0mdatasets\u001b[0m\u001b[0;34m:\u001b[0m\u001b[0;34m\u001b[0m\u001b[0;34m\u001b[0m\u001b[0m\n",
      "\u001b[0;32m~/anaconda3/lib/python3.7/site-packages/datasets/arrow_dataset.py\u001b[0m in \u001b[0;36mwrapper\u001b[0;34m(*args, **kwargs)\u001b[0m\n\u001b[1;32m    543\u001b[0m         }\n\u001b[1;32m    544\u001b[0m         \u001b[0;31m# apply actual function\u001b[0m\u001b[0;34m\u001b[0m\u001b[0;34m\u001b[0m\u001b[0;34m\u001b[0m\u001b[0m\n\u001b[0;32m--> 545\u001b[0;31m         \u001b[0mout\u001b[0m\u001b[0;34m:\u001b[0m \u001b[0mUnion\u001b[0m\u001b[0;34m[\u001b[0m\u001b[0;34m\"Dataset\"\u001b[0m\u001b[0;34m,\u001b[0m \u001b[0;34m\"DatasetDict\"\u001b[0m\u001b[0;34m]\u001b[0m \u001b[0;34m=\u001b[0m \u001b[0mfunc\u001b[0m\u001b[0;34m(\u001b[0m\u001b[0mself\u001b[0m\u001b[0;34m,\u001b[0m \u001b[0;34m*\u001b[0m\u001b[0margs\u001b[0m\u001b[0;34m,\u001b[0m \u001b[0;34m**\u001b[0m\u001b[0mkwargs\u001b[0m\u001b[0;34m)\u001b[0m\u001b[0;34m\u001b[0m\u001b[0;34m\u001b[0m\u001b[0m\n\u001b[0m\u001b[1;32m    546\u001b[0m         \u001b[0mdatasets\u001b[0m\u001b[0;34m:\u001b[0m \u001b[0mList\u001b[0m\u001b[0;34m[\u001b[0m\u001b[0;34m\"Dataset\"\u001b[0m\u001b[0;34m]\u001b[0m \u001b[0;34m=\u001b[0m \u001b[0mlist\u001b[0m\u001b[0;34m(\u001b[0m\u001b[0mout\u001b[0m\u001b[0;34m.\u001b[0m\u001b[0mvalues\u001b[0m\u001b[0;34m(\u001b[0m\u001b[0;34m)\u001b[0m\u001b[0;34m)\u001b[0m \u001b[0;32mif\u001b[0m \u001b[0misinstance\u001b[0m\u001b[0;34m(\u001b[0m\u001b[0mout\u001b[0m\u001b[0;34m,\u001b[0m \u001b[0mdict\u001b[0m\u001b[0;34m)\u001b[0m \u001b[0;32melse\u001b[0m \u001b[0;34m[\u001b[0m\u001b[0mout\u001b[0m\u001b[0;34m]\u001b[0m\u001b[0;34m\u001b[0m\u001b[0;34m\u001b[0m\u001b[0m\n\u001b[1;32m    547\u001b[0m         \u001b[0;31m# re-apply format to the output\u001b[0m\u001b[0;34m\u001b[0m\u001b[0;34m\u001b[0m\u001b[0;34m\u001b[0m\u001b[0m\n",
      "\u001b[0;32m~/anaconda3/lib/python3.7/site-packages/datasets/arrow_dataset.py\u001b[0m in \u001b[0;36mmap\u001b[0;34m(self, function, with_indices, with_rank, input_columns, batched, batch_size, drop_last_batch, remove_columns, keep_in_memory, load_from_cache_file, cache_file_name, writer_batch_size, features, disable_nullable, fn_kwargs, num_proc, suffix_template, new_fingerprint, desc)\u001b[0m\n\u001b[1;32m   3085\u001b[0m                     \u001b[0mdesc\u001b[0m\u001b[0;34m=\u001b[0m\u001b[0mdesc\u001b[0m \u001b[0;32mor\u001b[0m \u001b[0;34m\"Map\"\u001b[0m\u001b[0;34m,\u001b[0m\u001b[0;34m\u001b[0m\u001b[0;34m\u001b[0m\u001b[0m\n\u001b[1;32m   3086\u001b[0m                 ) as pbar:\n\u001b[0;32m-> 3087\u001b[0;31m                     \u001b[0;32mfor\u001b[0m \u001b[0mrank\u001b[0m\u001b[0;34m,\u001b[0m \u001b[0mdone\u001b[0m\u001b[0;34m,\u001b[0m \u001b[0mcontent\u001b[0m \u001b[0;32min\u001b[0m \u001b[0mDataset\u001b[0m\u001b[0;34m.\u001b[0m\u001b[0m_map_single\u001b[0m\u001b[0;34m(\u001b[0m\u001b[0;34m**\u001b[0m\u001b[0mdataset_kwargs\u001b[0m\u001b[0;34m)\u001b[0m\u001b[0;34m:\u001b[0m\u001b[0;34m\u001b[0m\u001b[0;34m\u001b[0m\u001b[0m\n\u001b[0m\u001b[1;32m   3088\u001b[0m                         \u001b[0;32mif\u001b[0m \u001b[0mdone\u001b[0m\u001b[0;34m:\u001b[0m\u001b[0;34m\u001b[0m\u001b[0;34m\u001b[0m\u001b[0m\n\u001b[1;32m   3089\u001b[0m                             \u001b[0mshards_done\u001b[0m \u001b[0;34m+=\u001b[0m \u001b[0;36m1\u001b[0m\u001b[0;34m\u001b[0m\u001b[0;34m\u001b[0m\u001b[0m\n",
      "\u001b[0;32m~/anaconda3/lib/python3.7/site-packages/datasets/arrow_dataset.py\u001b[0m in \u001b[0;36m_map_single\u001b[0;34m(shard, function, with_indices, with_rank, input_columns, batched, batch_size, drop_last_batch, remove_columns, keep_in_memory, cache_file_name, writer_batch_size, features, disable_nullable, fn_kwargs, new_fingerprint, rank, offset)\u001b[0m\n\u001b[1;32m   3465\u001b[0m                                 \u001b[0mindices\u001b[0m\u001b[0;34m,\u001b[0m\u001b[0;34m\u001b[0m\u001b[0;34m\u001b[0m\u001b[0m\n\u001b[1;32m   3466\u001b[0m                                 \u001b[0mcheck_same_num_examples\u001b[0m\u001b[0;34m=\u001b[0m\u001b[0mlen\u001b[0m\u001b[0;34m(\u001b[0m\u001b[0mshard\u001b[0m\u001b[0;34m.\u001b[0m\u001b[0mlist_indexes\u001b[0m\u001b[0;34m(\u001b[0m\u001b[0;34m)\u001b[0m\u001b[0;34m)\u001b[0m \u001b[0;34m>\u001b[0m \u001b[0;36m0\u001b[0m\u001b[0;34m,\u001b[0m\u001b[0;34m\u001b[0m\u001b[0;34m\u001b[0m\u001b[0m\n\u001b[0;32m-> 3467\u001b[0;31m                                 \u001b[0moffset\u001b[0m\u001b[0;34m=\u001b[0m\u001b[0moffset\u001b[0m\u001b[0;34m,\u001b[0m\u001b[0;34m\u001b[0m\u001b[0;34m\u001b[0m\u001b[0m\n\u001b[0m\u001b[1;32m   3468\u001b[0m                             )\n\u001b[1;32m   3469\u001b[0m                         \u001b[0;32mexcept\u001b[0m \u001b[0mNumExamplesMismatchError\u001b[0m\u001b[0;34m:\u001b[0m\u001b[0;34m\u001b[0m\u001b[0;34m\u001b[0m\u001b[0m\n",
      "\u001b[0;32m~/anaconda3/lib/python3.7/site-packages/datasets/arrow_dataset.py\u001b[0m in \u001b[0;36mapply_function_on_filtered_inputs\u001b[0;34m(pa_inputs, indices, check_same_num_examples, offset)\u001b[0m\n\u001b[1;32m   3342\u001b[0m             \u001b[0;32mif\u001b[0m \u001b[0mwith_rank\u001b[0m\u001b[0;34m:\u001b[0m\u001b[0;34m\u001b[0m\u001b[0;34m\u001b[0m\u001b[0m\n\u001b[1;32m   3343\u001b[0m                 \u001b[0madditional_args\u001b[0m \u001b[0;34m+=\u001b[0m \u001b[0;34m(\u001b[0m\u001b[0mrank\u001b[0m\u001b[0;34m,\u001b[0m\u001b[0;34m)\u001b[0m\u001b[0;34m\u001b[0m\u001b[0;34m\u001b[0m\u001b[0m\n\u001b[0;32m-> 3344\u001b[0;31m             \u001b[0mprocessed_inputs\u001b[0m \u001b[0;34m=\u001b[0m \u001b[0mfunction\u001b[0m\u001b[0;34m(\u001b[0m\u001b[0;34m*\u001b[0m\u001b[0mfn_args\u001b[0m\u001b[0;34m,\u001b[0m \u001b[0;34m*\u001b[0m\u001b[0madditional_args\u001b[0m\u001b[0;34m,\u001b[0m \u001b[0;34m**\u001b[0m\u001b[0mfn_kwargs\u001b[0m\u001b[0;34m)\u001b[0m\u001b[0;34m\u001b[0m\u001b[0;34m\u001b[0m\u001b[0m\n\u001b[0m\u001b[1;32m   3345\u001b[0m             \u001b[0;32mif\u001b[0m \u001b[0misinstance\u001b[0m\u001b[0;34m(\u001b[0m\u001b[0mprocessed_inputs\u001b[0m\u001b[0;34m,\u001b[0m \u001b[0mLazyDict\u001b[0m\u001b[0;34m)\u001b[0m\u001b[0;34m:\u001b[0m\u001b[0;34m\u001b[0m\u001b[0;34m\u001b[0m\u001b[0m\n\u001b[1;32m   3346\u001b[0m                 processed_inputs = {\n",
      "\u001b[0;32m<ipython-input-12-fbc24c73a751>\u001b[0m in \u001b[0;36mtokenize_and_align_labels\u001b[0;34m(examples)\u001b[0m\n\u001b[1;32m     11\u001b[0m \u001b[0;32mdef\u001b[0m \u001b[0mtokenize_and_align_labels\u001b[0m\u001b[0;34m(\u001b[0m\u001b[0mexamples\u001b[0m\u001b[0;34m)\u001b[0m\u001b[0;34m:\u001b[0m\u001b[0;34m\u001b[0m\u001b[0;34m\u001b[0m\u001b[0m\n\u001b[1;32m     12\u001b[0m     tokenized_inputs = tokenizer(\n\u001b[0;32m---> 13\u001b[0;31m         \u001b[0mexamples\u001b[0m\u001b[0;34m[\u001b[0m\u001b[0;34m\"tokens\"\u001b[0m\u001b[0;34m]\u001b[0m\u001b[0;34m,\u001b[0m \u001b[0mtruncation\u001b[0m\u001b[0;34m=\u001b[0m\u001b[0;32mTrue\u001b[0m\u001b[0;34m,\u001b[0m \u001b[0mis_split_into_words\u001b[0m\u001b[0;34m=\u001b[0m\u001b[0;32mTrue\u001b[0m\u001b[0;34m,\u001b[0m \u001b[0mpadding\u001b[0m\u001b[0;34m=\u001b[0m\u001b[0;32mTrue\u001b[0m\u001b[0;34m,\u001b[0m \u001b[0mreturn_tensors\u001b[0m\u001b[0;34m=\u001b[0m\u001b[0;34m'pt'\u001b[0m\u001b[0;34m\u001b[0m\u001b[0;34m\u001b[0m\u001b[0m\n\u001b[0m\u001b[1;32m     14\u001b[0m     )\n\u001b[1;32m     15\u001b[0m     \u001b[0mlabels\u001b[0m \u001b[0;34m=\u001b[0m \u001b[0;34m[\u001b[0m\u001b[0;34m]\u001b[0m\u001b[0;34m\u001b[0m\u001b[0;34m\u001b[0m\u001b[0m\n",
      "\u001b[0;32m~/anaconda3/lib/python3.7/site-packages/datasets/formatting/formatting.py\u001b[0m in \u001b[0;36m__getitem__\u001b[0;34m(self, key)\u001b[0m\n\u001b[1;32m    270\u001b[0m         \u001b[0mvalue\u001b[0m \u001b[0;34m=\u001b[0m \u001b[0mself\u001b[0m\u001b[0;34m.\u001b[0m\u001b[0mdata\u001b[0m\u001b[0;34m[\u001b[0m\u001b[0mkey\u001b[0m\u001b[0;34m]\u001b[0m\u001b[0;34m\u001b[0m\u001b[0;34m\u001b[0m\u001b[0m\n\u001b[1;32m    271\u001b[0m         \u001b[0;32mif\u001b[0m \u001b[0mkey\u001b[0m \u001b[0;32min\u001b[0m \u001b[0mself\u001b[0m\u001b[0;34m.\u001b[0m\u001b[0mkeys_to_format\u001b[0m\u001b[0;34m:\u001b[0m\u001b[0;34m\u001b[0m\u001b[0;34m\u001b[0m\u001b[0m\n\u001b[0;32m--> 272\u001b[0;31m             \u001b[0mvalue\u001b[0m \u001b[0;34m=\u001b[0m \u001b[0mself\u001b[0m\u001b[0;34m.\u001b[0m\u001b[0mformat\u001b[0m\u001b[0;34m(\u001b[0m\u001b[0mkey\u001b[0m\u001b[0;34m)\u001b[0m\u001b[0;34m\u001b[0m\u001b[0;34m\u001b[0m\u001b[0m\n\u001b[0m\u001b[1;32m    273\u001b[0m             \u001b[0mself\u001b[0m\u001b[0;34m.\u001b[0m\u001b[0mdata\u001b[0m\u001b[0;34m[\u001b[0m\u001b[0mkey\u001b[0m\u001b[0;34m]\u001b[0m \u001b[0;34m=\u001b[0m \u001b[0mvalue\u001b[0m\u001b[0;34m\u001b[0m\u001b[0;34m\u001b[0m\u001b[0m\n\u001b[1;32m    274\u001b[0m             \u001b[0mself\u001b[0m\u001b[0;34m.\u001b[0m\u001b[0mkeys_to_format\u001b[0m\u001b[0;34m.\u001b[0m\u001b[0mremove\u001b[0m\u001b[0;34m(\u001b[0m\u001b[0mkey\u001b[0m\u001b[0;34m)\u001b[0m\u001b[0;34m\u001b[0m\u001b[0;34m\u001b[0m\u001b[0m\n",
      "\u001b[0;32m~/anaconda3/lib/python3.7/site-packages/datasets/formatting/formatting.py\u001b[0m in \u001b[0;36mformat\u001b[0;34m(self, key)\u001b[0m\n\u001b[1;32m    373\u001b[0m \u001b[0;32mclass\u001b[0m \u001b[0mLazyBatch\u001b[0m\u001b[0;34m(\u001b[0m\u001b[0mLazyDict\u001b[0m\u001b[0;34m)\u001b[0m\u001b[0;34m:\u001b[0m\u001b[0;34m\u001b[0m\u001b[0;34m\u001b[0m\u001b[0m\n\u001b[1;32m    374\u001b[0m     \u001b[0;32mdef\u001b[0m \u001b[0mformat\u001b[0m\u001b[0;34m(\u001b[0m\u001b[0mself\u001b[0m\u001b[0;34m,\u001b[0m \u001b[0mkey\u001b[0m\u001b[0;34m)\u001b[0m\u001b[0;34m:\u001b[0m\u001b[0;34m\u001b[0m\u001b[0;34m\u001b[0m\u001b[0m\n\u001b[0;32m--> 375\u001b[0;31m         \u001b[0;32mreturn\u001b[0m \u001b[0mself\u001b[0m\u001b[0;34m.\u001b[0m\u001b[0mformatter\u001b[0m\u001b[0;34m.\u001b[0m\u001b[0mformat_column\u001b[0m\u001b[0;34m(\u001b[0m\u001b[0mself\u001b[0m\u001b[0;34m.\u001b[0m\u001b[0mpa_table\u001b[0m\u001b[0;34m.\u001b[0m\u001b[0mselect\u001b[0m\u001b[0;34m(\u001b[0m\u001b[0;34m[\u001b[0m\u001b[0mkey\u001b[0m\u001b[0;34m]\u001b[0m\u001b[0;34m)\u001b[0m\u001b[0;34m)\u001b[0m\u001b[0;34m\u001b[0m\u001b[0;34m\u001b[0m\u001b[0m\n\u001b[0m\u001b[1;32m    376\u001b[0m \u001b[0;34m\u001b[0m\u001b[0m\n\u001b[1;32m    377\u001b[0m \u001b[0;34m\u001b[0m\u001b[0m\n",
      "\u001b[0;32m~/anaconda3/lib/python3.7/site-packages/datasets/formatting/formatting.py\u001b[0m in \u001b[0;36mformat_column\u001b[0;34m(self, pa_table)\u001b[0m\n\u001b[1;32m    439\u001b[0m \u001b[0;34m\u001b[0m\u001b[0m\n\u001b[1;32m    440\u001b[0m     \u001b[0;32mdef\u001b[0m \u001b[0mformat_column\u001b[0m\u001b[0;34m(\u001b[0m\u001b[0mself\u001b[0m\u001b[0;34m,\u001b[0m \u001b[0mpa_table\u001b[0m\u001b[0;34m:\u001b[0m \u001b[0mpa\u001b[0m\u001b[0;34m.\u001b[0m\u001b[0mTable\u001b[0m\u001b[0;34m)\u001b[0m \u001b[0;34m->\u001b[0m \u001b[0mlist\u001b[0m\u001b[0;34m:\u001b[0m\u001b[0;34m\u001b[0m\u001b[0;34m\u001b[0m\u001b[0m\n\u001b[0;32m--> 441\u001b[0;31m         \u001b[0mcolumn\u001b[0m \u001b[0;34m=\u001b[0m \u001b[0mself\u001b[0m\u001b[0;34m.\u001b[0m\u001b[0mpython_arrow_extractor\u001b[0m\u001b[0;34m(\u001b[0m\u001b[0;34m)\u001b[0m\u001b[0;34m.\u001b[0m\u001b[0mextract_column\u001b[0m\u001b[0;34m(\u001b[0m\u001b[0mpa_table\u001b[0m\u001b[0;34m)\u001b[0m\u001b[0;34m\u001b[0m\u001b[0;34m\u001b[0m\u001b[0m\n\u001b[0m\u001b[1;32m    442\u001b[0m         \u001b[0mcolumn\u001b[0m \u001b[0;34m=\u001b[0m \u001b[0mself\u001b[0m\u001b[0;34m.\u001b[0m\u001b[0mpython_features_decoder\u001b[0m\u001b[0;34m.\u001b[0m\u001b[0mdecode_column\u001b[0m\u001b[0;34m(\u001b[0m\u001b[0mcolumn\u001b[0m\u001b[0;34m,\u001b[0m \u001b[0mpa_table\u001b[0m\u001b[0;34m.\u001b[0m\u001b[0mcolumn_names\u001b[0m\u001b[0;34m[\u001b[0m\u001b[0;36m0\u001b[0m\u001b[0;34m]\u001b[0m\u001b[0;34m)\u001b[0m\u001b[0;34m\u001b[0m\u001b[0;34m\u001b[0m\u001b[0m\n\u001b[1;32m    443\u001b[0m         \u001b[0;32mreturn\u001b[0m \u001b[0mcolumn\u001b[0m\u001b[0;34m\u001b[0m\u001b[0;34m\u001b[0m\u001b[0m\n",
      "\u001b[0;32m~/anaconda3/lib/python3.7/site-packages/datasets/formatting/formatting.py\u001b[0m in \u001b[0;36mextract_column\u001b[0;34m(self, pa_table)\u001b[0m\n\u001b[1;32m    145\u001b[0m \u001b[0;34m\u001b[0m\u001b[0m\n\u001b[1;32m    146\u001b[0m     \u001b[0;32mdef\u001b[0m \u001b[0mextract_column\u001b[0m\u001b[0;34m(\u001b[0m\u001b[0mself\u001b[0m\u001b[0;34m,\u001b[0m \u001b[0mpa_table\u001b[0m\u001b[0;34m:\u001b[0m \u001b[0mpa\u001b[0m\u001b[0;34m.\u001b[0m\u001b[0mTable\u001b[0m\u001b[0;34m)\u001b[0m \u001b[0;34m->\u001b[0m \u001b[0mlist\u001b[0m\u001b[0;34m:\u001b[0m\u001b[0;34m\u001b[0m\u001b[0;34m\u001b[0m\u001b[0m\n\u001b[0;32m--> 147\u001b[0;31m         \u001b[0;32mreturn\u001b[0m \u001b[0mpa_table\u001b[0m\u001b[0;34m.\u001b[0m\u001b[0mcolumn\u001b[0m\u001b[0;34m(\u001b[0m\u001b[0;36m0\u001b[0m\u001b[0;34m)\u001b[0m\u001b[0;34m.\u001b[0m\u001b[0mto_pylist\u001b[0m\u001b[0;34m(\u001b[0m\u001b[0;34m)\u001b[0m\u001b[0;34m\u001b[0m\u001b[0;34m\u001b[0m\u001b[0m\n\u001b[0m\u001b[1;32m    148\u001b[0m \u001b[0;34m\u001b[0m\u001b[0m\n\u001b[1;32m    149\u001b[0m     \u001b[0;32mdef\u001b[0m \u001b[0mextract_batch\u001b[0m\u001b[0;34m(\u001b[0m\u001b[0mself\u001b[0m\u001b[0;34m,\u001b[0m \u001b[0mpa_table\u001b[0m\u001b[0;34m:\u001b[0m \u001b[0mpa\u001b[0m\u001b[0;34m.\u001b[0m\u001b[0mTable\u001b[0m\u001b[0;34m)\u001b[0m \u001b[0;34m->\u001b[0m \u001b[0mdict\u001b[0m\u001b[0;34m:\u001b[0m\u001b[0;34m\u001b[0m\u001b[0;34m\u001b[0m\u001b[0m\n",
      "\u001b[0;31mKeyboardInterrupt\u001b[0m: "
     ]
    }
   ],
   "source": [
    "all_preds = {}\n",
    "\n",
    "for name, path in model_names.items():\n",
    "    cur_preds = {}\n",
    "    for test in tests+['ned.testb']:\n",
    "        cur_preds[test] = get_predictions(path, test.split('.')[0])\n",
    "    all_preds[name] = cur_preds"
   ]
  },
  {
   "cell_type": "code",
   "execution_count": 42,
   "metadata": {},
   "outputs": [],
   "source": [
    "import pickle\n",
    "\n",
    "pickle.dump(all_preds, open('all_predictions.p','wb'))"
   ]
  },
  {
   "cell_type": "code",
   "execution_count": 16,
   "metadata": {},
   "outputs": [],
   "source": [
    "import pickle\n",
    "all_preds=pickle.load(open('all_predictions.p','rb'))"
   ]
  },
  {
   "cell_type": "code",
   "execution_count": 17,
   "metadata": {},
   "outputs": [],
   "source": [
    "tests_by_century = {'21': ['ned.testb'],\n",
    "                   '19': ['test_RHC.txt','test_NHA.txt'],\n",
    "                   '17-18': ['test_VOC.txt','test_SA.txt']}"
   ]
  },
  {
   "cell_type": "code",
   "execution_count": 18,
   "metadata": {},
   "outputs": [],
   "source": [
    "def flatten(stuff):\n",
    "    return [item for entry in stuff for item in entry]"
   ]
  },
  {
   "cell_type": "code",
   "execution_count": null,
   "metadata": {},
   "outputs": [],
   "source": []
  },
  {
   "cell_type": "code",
   "execution_count": 32,
   "metadata": {},
   "outputs": [],
   "source": [
    "from sklearn.metrics import ConfusionMatrixDisplay\n",
    "\n",
    "def get_confusion_matrix(model_name, century,display=True):\n",
    "    preds, labels = [], []\n",
    "    for test in tests_by_century[century]:\n",
    "        print(model_name, test)\n",
    "        cur_preds, cur_labels = clean_predictions(all_preds[model_name][test])\n",
    "        preds.extend(flatten(cur_preds))\n",
    "        labels.extend(flatten(cur_labels))\n",
    "        \n",
    "    if display:\n",
    "        return ConfusionMatrixDisplay.from_predictions(y_true=labels, \n",
    "                                                       y_pred=preds,\n",
    "                                                       labels=label_list,\n",
    "                                                      normalize='all')\n",
    "    return confusion_matrix(labels, preds, label_list)"
   ]
  },
  {
   "cell_type": "code",
   "execution_count": 33,
   "metadata": {},
   "outputs": [
    {
     "name": "stdout",
     "output_type": "stream",
     "text": [
      "WikiNEuRal ned.testb\n"
     ]
    },
    {
     "data": {
      "image/png": "[encoded data removed]",
      "text/plain": [
       "<Figure size 432x288 with 2 Axes>"
      ]
     },
     "metadata": {
      "needs_background": "light"
     },
     "output_type": "display_data"
    }
   ],
   "source": [
    "# model = AutoModelForTokenClassification.from_pretrained(model_names['WikiNEuRal']) # just to get the labels for WikiNEuRal\n",
    "# id2label = model.config.id2label\n",
    "\n",
    "matrix = get_confusion_matrix('WikiNEuRal', '21')"
   ]
  },
  {
   "cell_type": "code",
   "execution_count": 34,
   "metadata": {},
   "outputs": [
    {
     "data": {
      "text/plain": [
       "<sklearn.metrics._plot.confusion_matrix.ConfusionMatrixDisplay at 0x7f639f88a850>"
      ]
     },
     "execution_count": 34,
     "metadata": {},
     "output_type": "execute_result"
    },
    {
     "data": {
      "image/png": "[encoded data removed]",
      "text/plain": [
       "<Figure size 432x288 with 2 Axes>"
      ]
     },
     "metadata": {
      "needs_background": "light"
     },
     "output_type": "display_data"
    }
   ],
   "source": [
    "matrix.plot()"
   ]
  },
  {
   "cell_type": "code",
   "execution_count": 35,
   "metadata": {},
   "outputs": [],
   "source": [
    "# all_preds['WikiNEuRal']['ned.testb']"
   ]
  },
  {
   "cell_type": "code",
   "execution_count": 19,
   "metadata": {},
   "outputs": [
    {
     "name": "stdout",
     "output_type": "stream",
     "text": [
      "GysBERT ned.testb\n"
     ]
    },
    {
     "name": "stderr",
     "output_type": "stream",
     "text": [
      "/home/vprovat/anaconda3/lib/python3.7/site-packages/sklearn/utils/validation.py:72: FutureWarning: Pass labels=['B-LOC', 'B-PER', 'B-TIME', 'I-LOC', 'I-PER', 'I-TIME', 'O'] as keyword args. From version 1.0 (renaming of 0.25) passing these as positional arguments will result in an error\n",
      "  \"will result in an error\", FutureWarning)\n",
      "/home/vprovat/anaconda3/lib/python3.7/site-packages/sklearn/utils/validation.py:72: FutureWarning: Pass labels=['B-LOC', 'B-PER', 'B-TIME', 'I-LOC', 'I-PER', 'I-TIME', 'O'] as keyword args. From version 1.0 (renaming of 0.25) passing these as positional arguments will result in an error\n",
      "  \"will result in an error\", FutureWarning)\n"
     ]
    },
    {
     "name": "stdout",
     "output_type": "stream",
     "text": [
      "GysBERT test_RHC.txt\n",
      "GysBERT test_NHA.txt\n",
      "GysBERT test_VOC.txt\n",
      "GysBERT test_SA.txt\n"
     ]
    },
    {
     "name": "stderr",
     "output_type": "stream",
     "text": [
      "/home/vprovat/anaconda3/lib/python3.7/site-packages/sklearn/utils/validation.py:72: FutureWarning: Pass labels=['B-LOC', 'B-PER', 'B-TIME', 'I-LOC', 'I-PER', 'I-TIME', 'O'] as keyword args. From version 1.0 (renaming of 0.25) passing these as positional arguments will result in an error\n",
      "  \"will result in an error\", FutureWarning)\n"
     ]
    },
    {
     "name": "stdout",
     "output_type": "stream",
     "text": [
      "BERTje ned.testb\n"
     ]
    },
    {
     "name": "stderr",
     "output_type": "stream",
     "text": [
      "/home/vprovat/anaconda3/lib/python3.7/site-packages/sklearn/utils/validation.py:72: FutureWarning: Pass labels=['B-LOC', 'B-PER', 'B-TIME', 'I-LOC', 'I-PER', 'I-TIME', 'O'] as keyword args. From version 1.0 (renaming of 0.25) passing these as positional arguments will result in an error\n",
      "  \"will result in an error\", FutureWarning)\n",
      "/home/vprovat/anaconda3/lib/python3.7/site-packages/sklearn/utils/validation.py:72: FutureWarning: Pass labels=['B-LOC', 'B-PER', 'B-TIME', 'I-LOC', 'I-PER', 'I-TIME', 'O'] as keyword args. From version 1.0 (renaming of 0.25) passing these as positional arguments will result in an error\n",
      "  \"will result in an error\", FutureWarning)\n"
     ]
    },
    {
     "name": "stdout",
     "output_type": "stream",
     "text": [
      "BERTje test_RHC.txt\n",
      "BERTje test_NHA.txt\n",
      "BERTje test_VOC.txt\n",
      "BERTje test_SA.txt\n"
     ]
    },
    {
     "name": "stderr",
     "output_type": "stream",
     "text": [
      "/home/vprovat/anaconda3/lib/python3.7/site-packages/sklearn/utils/validation.py:72: FutureWarning: Pass labels=['B-LOC', 'B-PER', 'B-TIME', 'I-LOC', 'I-PER', 'I-TIME', 'O'] as keyword args. From version 1.0 (renaming of 0.25) passing these as positional arguments will result in an error\n",
      "  \"will result in an error\", FutureWarning)\n"
     ]
    },
    {
     "name": "stdout",
     "output_type": "stream",
     "text": [
      "BERT-multi-cased ned.testb\n"
     ]
    },
    {
     "name": "stderr",
     "output_type": "stream",
     "text": [
      "/home/vprovat/anaconda3/lib/python3.7/site-packages/sklearn/utils/validation.py:72: FutureWarning: Pass labels=['B-LOC', 'B-PER', 'B-TIME', 'I-LOC', 'I-PER', 'I-TIME', 'O'] as keyword args. From version 1.0 (renaming of 0.25) passing these as positional arguments will result in an error\n",
      "  \"will result in an error\", FutureWarning)\n",
      "/home/vprovat/anaconda3/lib/python3.7/site-packages/sklearn/utils/validation.py:72: FutureWarning: Pass labels=['B-LOC', 'B-PER', 'B-TIME', 'I-LOC', 'I-PER', 'I-TIME', 'O'] as keyword args. From version 1.0 (renaming of 0.25) passing these as positional arguments will result in an error\n",
      "  \"will result in an error\", FutureWarning)\n"
     ]
    },
    {
     "name": "stdout",
     "output_type": "stream",
     "text": [
      "BERT-multi-cased test_RHC.txt\n",
      "BERT-multi-cased test_NHA.txt\n",
      "BERT-multi-cased test_VOC.txt\n",
      "BERT-multi-cased test_SA.txt\n"
     ]
    },
    {
     "name": "stderr",
     "output_type": "stream",
     "text": [
      "/home/vprovat/anaconda3/lib/python3.7/site-packages/sklearn/utils/validation.py:72: FutureWarning: Pass labels=['B-LOC', 'B-PER', 'B-TIME', 'I-LOC', 'I-PER', 'I-TIME', 'O'] as keyword args. From version 1.0 (renaming of 0.25) passing these as positional arguments will result in an error\n",
      "  \"will result in an error\", FutureWarning)\n"
     ]
    },
    {
     "name": "stdout",
     "output_type": "stream",
     "text": [
      "WikiNEuRal ned.testb\n"
     ]
    },
    {
     "name": "stderr",
     "output_type": "stream",
     "text": [
      "/home/vprovat/anaconda3/lib/python3.7/site-packages/sklearn/utils/validation.py:72: FutureWarning: Pass labels=['B-LOC', 'B-PER', 'B-TIME', 'I-LOC', 'I-PER', 'I-TIME', 'O'] as keyword args. From version 1.0 (renaming of 0.25) passing these as positional arguments will result in an error\n",
      "  \"will result in an error\", FutureWarning)\n",
      "/home/vprovat/anaconda3/lib/python3.7/site-packages/sklearn/utils/validation.py:72: FutureWarning: Pass labels=['B-LOC', 'B-PER', 'B-TIME', 'I-LOC', 'I-PER', 'I-TIME', 'O'] as keyword args. From version 1.0 (renaming of 0.25) passing these as positional arguments will result in an error\n",
      "  \"will result in an error\", FutureWarning)\n"
     ]
    },
    {
     "name": "stdout",
     "output_type": "stream",
     "text": [
      "WikiNEuRal test_RHC.txt\n",
      "WikiNEuRal test_NHA.txt\n",
      "WikiNEuRal test_VOC.txt\n",
      "WikiNEuRal test_SA.txt\n"
     ]
    },
    {
     "name": "stderr",
     "output_type": "stream",
     "text": [
      "/home/vprovat/anaconda3/lib/python3.7/site-packages/sklearn/utils/validation.py:72: FutureWarning: Pass labels=['B-LOC', 'B-PER', 'B-TIME', 'I-LOC', 'I-PER', 'I-TIME', 'O'] as keyword args. From version 1.0 (renaming of 0.25) passing these as positional arguments will result in an error\n",
      "  \"will result in an error\", FutureWarning)\n"
     ]
    }
   ],
   "source": [
    "confusion_matrices = {}\n",
    "\n",
    "for model_name in model_names.keys():\n",
    "    matrices = {}\n",
    "    model = AutoModelForTokenClassification.from_pretrained(model_names[model_name]) # just to get the labels for WikiNEuRal\n",
    "    id2label = model.config.id2label\n",
    "    for century in tests_by_century.keys():\n",
    "        matrices[century] = get_confusion_matrix(model_name, century)\n",
    "    confusion_matrices[model_name] = matrices"
   ]
  },
  {
   "cell_type": "code",
   "execution_count": 20,
   "metadata": {},
   "outputs": [],
   "source": [
    "pickle.dump(confusion_matrices, open('confusion_matrices_per_century.p','wb'))"
   ]
  },
  {
   "cell_type": "code",
   "execution_count": 31,
   "metadata": {},
   "outputs": [
    {
     "name": "stdout",
     "output_type": "stream",
     "text": [
      "Requirement already up-to-date: scikit-learn in /home/vprovat/anaconda3/lib/python3.7/site-packages (1.0.2)\r\n",
      "Requirement already satisfied, skipping upgrade: threadpoolctl>=2.0.0 in /home/vprovat/anaconda3/lib/python3.7/site-packages (from scikit-learn) (2.2.0)\r\n",
      "Requirement already satisfied, skipping upgrade: numpy>=1.14.6 in /home/vprovat/anaconda3/lib/python3.7/site-packages (from scikit-learn) (1.21.6)\r\n",
      "Requirement already satisfied, skipping upgrade: joblib>=0.11 in /home/vprovat/anaconda3/lib/python3.7/site-packages (from scikit-learn) (1.1.0)\r\n",
      "Requirement already satisfied, skipping upgrade: scipy>=1.1.0 in /home/vprovat/anaconda3/lib/python3.7/site-packages (from scikit-learn) (1.7.3)\r\n"
     ]
    }
   ],
   "source": [
    "import sys\n",
    "\n",
    "!{sys.executable} -m pip install --upgrade scikit-learn"
   ]
  },
  {
   "cell_type": "code",
   "execution_count": 32,
   "metadata": {},
   "outputs": [
    {
     "name": "stdout",
     "output_type": "stream",
     "text": [
      "WikiNEuRal ned.testb\n"
     ]
    },
    {
     "ename": "AttributeError",
     "evalue": "type object 'ConfusionMatrixDisplay' has no attribute 'from_predictions'",
     "output_type": "error",
     "traceback": [
      "\u001b[0;31m---------------------------------------------------------------------------\u001b[0m",
      "\u001b[0;31mAttributeError\u001b[0m                            Traceback (most recent call last)",
      "\u001b[0;32m<ipython-input-32-bc0612cfcc2f>\u001b[0m in \u001b[0;36m<module>\u001b[0;34m\u001b[0m\n\u001b[0;32m----> 1\u001b[0;31m \u001b[0mmatrix\u001b[0m \u001b[0;34m=\u001b[0m \u001b[0mget_confusion_matrix\u001b[0m\u001b[0;34m(\u001b[0m\u001b[0;34m'WikiNEuRal'\u001b[0m\u001b[0;34m,\u001b[0m \u001b[0;34m'21'\u001b[0m\u001b[0;34m)\u001b[0m\u001b[0;34m\u001b[0m\u001b[0;34m\u001b[0m\u001b[0m\n\u001b[0m",
      "\u001b[0;32m<ipython-input-25-49602cc3a9c5>\u001b[0m in \u001b[0;36mget_confusion_matrix\u001b[0;34m(model_name, century, display)\u001b[0m\n\u001b[1;32m      8\u001b[0m \u001b[0;34m\u001b[0m\u001b[0m\n\u001b[1;32m      9\u001b[0m     \u001b[0;32mif\u001b[0m \u001b[0mdisplay\u001b[0m\u001b[0;34m:\u001b[0m\u001b[0;34m\u001b[0m\u001b[0;34m\u001b[0m\u001b[0m\n\u001b[0;32m---> 10\u001b[0;31m         \u001b[0;32mreturn\u001b[0m \u001b[0mConfusionMatrixDisplay\u001b[0m\u001b[0;34m.\u001b[0m\u001b[0mfrom_predictions\u001b[0m\u001b[0;34m(\u001b[0m\u001b[0mlabels\u001b[0m\u001b[0;34m,\u001b[0m \u001b[0mpreds\u001b[0m\u001b[0;34m,\u001b[0m\u001b[0mlabel_list\u001b[0m\u001b[0;34m)\u001b[0m\u001b[0;34m\u001b[0m\u001b[0;34m\u001b[0m\u001b[0m\n\u001b[0m\u001b[1;32m     11\u001b[0m     \u001b[0;32mreturn\u001b[0m \u001b[0mconfusion_matrix\u001b[0m\u001b[0;34m(\u001b[0m\u001b[0mlabels\u001b[0m\u001b[0;34m,\u001b[0m \u001b[0mpreds\u001b[0m\u001b[0;34m,\u001b[0m \u001b[0mlabel_list\u001b[0m\u001b[0;34m)\u001b[0m\u001b[0;34m\u001b[0m\u001b[0;34m\u001b[0m\u001b[0m\n",
      "\u001b[0;31mAttributeError\u001b[0m: type object 'ConfusionMatrixDisplay' has no attribute 'from_predictions'"
     ]
    }
   ],
   "source": []
  },
  {
   "cell_type": "code",
   "execution_count": 22,
   "metadata": {},
   "outputs": [
    {
     "data": {
      "text/plain": [
       "{'GysBERT': {'test_NHA.txt': PredictionOutput(predictions=array([[[-1.7144471 , -0.91488004, -1.8983848 , ..., -0.38936228,\n",
       "           -0.04927368,  6.729608  ],\n",
       "          [-1.9747726 , -1.3055818 , -2.5754752 , ..., -2.7728157 ,\n",
       "           -2.1765802 , 10.914429  ],\n",
       "          [-1.7660683 , -1.1255991 , -1.7097222 , ..., -3.1025686 ,\n",
       "           -2.4530847 , 10.897705  ],\n",
       "          ...,\n",
       "          [-1.660786  , -0.54904187, -2.4282455 , ..., -2.0376592 ,\n",
       "           -2.9392884 , 11.130917  ],\n",
       "          [-1.7057428 , -0.5525877 , -2.41975   , ..., -2.0402694 ,\n",
       "           -2.9268792 , 11.14806   ],\n",
       "          [-1.5611644 , -0.39323807, -2.4163523 , ..., -2.1203513 ,\n",
       "           -2.9960306 , 11.025956  ]],\n",
       "  \n",
       "         [[-2.0937545 , -1.128164  , -1.3632431 , ..., -1.8267123 ,\n",
       "           -0.55428565,  8.858612  ],\n",
       "          [-2.8029253 , -1.954701  , -2.446653  , ..., -2.0870085 ,\n",
       "           -1.494889  , 11.314662  ],\n",
       "          [-2.8775194 , -2.3029773 , -2.4737537 , ..., -1.990175  ,\n",
       "           -1.3248891 , 11.440889  ],\n",
       "          ...,\n",
       "          [-1.5733794 ,  0.1815145 , -2.167647  , ..., -2.0571084 ,\n",
       "           -2.8726013 , 10.394354  ],\n",
       "          [-1.4930822 ,  0.34485587, -2.077366  , ..., -2.129984  ,\n",
       "           -2.9732845 , 10.260174  ],\n",
       "          [-1.4666108 ,  0.22999755, -2.0486531 , ..., -2.1547537 ,\n",
       "           -2.925286  , 10.324543  ]],\n",
       "  \n",
       "         [[-0.5431162 ,  0.19682327, -2.4495006 , ...,  0.8117531 ,\n",
       "           -0.53362775,  5.0725017 ],\n",
       "          [-2.4411058 , -1.4766145 , -2.828966  , ..., -2.1524472 ,\n",
       "           -2.4421818 , 11.063557  ],\n",
       "          [-2.8540306 , -1.7568452 , -2.8840795 , ..., -1.595932  ,\n",
       "           -2.0483923 , 11.207832  ],\n",
       "          ...,\n",
       "          [-1.5514094 ,  2.0041666 , -3.24138   , ..., -0.17456004,\n",
       "           -4.1165276 ,  8.87761   ],\n",
       "          [-1.4174149 ,  1.5791175 , -2.8737164 , ..., -0.79843706,\n",
       "           -3.9455867 ,  9.460695  ],\n",
       "          [-1.4157495 ,  1.1747329 , -2.883953  , ..., -0.73868257,\n",
       "           -3.7948675 ,  9.735539  ]],\n",
       "  \n",
       "         ...,\n",
       "  \n",
       "         [[-1.7453439 , -0.7074188 , -0.8108361 , ..., -1.8869176 ,\n",
       "           -1.1254053 ,  8.254717  ],\n",
       "          [-2.3540905 , -1.0015476 , -2.82315   , ..., -2.0339534 ,\n",
       "           -1.8346176 , 11.098317  ],\n",
       "          [-2.2129822 , -1.4303353 , -2.2635257 , ..., -1.9526854 ,\n",
       "           -1.9989505 , 11.208963  ],\n",
       "          ...,\n",
       "          [-1.2885402 ,  1.1348581 , -1.1688844 , ..., -2.5035253 ,\n",
       "           -2.617396  ,  8.758452  ],\n",
       "          [-1.2533184 ,  1.0902864 , -1.1088296 , ..., -2.524343  ,\n",
       "           -2.6071956 ,  8.718921  ],\n",
       "          [-1.1820295 ,  1.1287564 , -1.125691  , ..., -2.5237107 ,\n",
       "           -2.6600628 ,  8.718824  ]],\n",
       "  \n",
       "         [[-1.3238066 , -0.6001841 , -2.4276693 , ..., -0.64661944,\n",
       "           -0.72005594,  7.561128  ],\n",
       "          [-1.8781663 , -1.7887326 , -2.6385772 , ..., -2.3217523 ,\n",
       "           -2.1912682 , 11.336972  ],\n",
       "          [-2.4453776 , -1.8324277 , -2.67029   , ..., -1.7820394 ,\n",
       "           -2.3017023 , 11.400289  ],\n",
       "          ...,\n",
       "          [-2.9526236 , -2.423277  , -2.9004085 , ..., -1.506098  ,\n",
       "           -1.1559151 , 10.729101  ],\n",
       "          [-2.46162   , -1.9616547 , -2.670148  , ..., -1.915555  ,\n",
       "           -2.199888  , 11.453438  ],\n",
       "          [-0.8307693 , -1.3376904 , -1.1597902 , ..., -2.8295636 ,\n",
       "           -1.7395866 ,  9.109896  ]],\n",
       "  \n",
       "         [[-1.0083215 , -0.6523544 , -2.1001709 , ..., -1.0997498 ,\n",
       "           -0.683077  ,  7.067016  ],\n",
       "          [-1.8423452 , -1.8677043 , -1.9823413 , ..., -2.7507675 ,\n",
       "           -1.9583709 , 11.452827  ],\n",
       "          [-2.5282269 , -2.0559685 , -2.6507332 , ..., -1.9451902 ,\n",
       "           -1.8154539 , 11.474405  ],\n",
       "          ...,\n",
       "          [-1.3756881 , -0.5412911 , -2.014691  , ..., -2.3030272 ,\n",
       "           -2.964555  , 10.796413  ],\n",
       "          [-0.42062214, -0.21370661, -2.0677683 , ..., -2.452938  ,\n",
       "           -3.3621352 , 10.199121  ],\n",
       "          [-0.13608854, -0.32886028, -1.7982756 , ..., -2.5851789 ,\n",
       "           -3.3476021 , 10.06737   ]]], dtype=float32), label_ids=array([[-100,    6,    6, ..., -100, -100, -100],\n",
       "         [-100,    6,    6, ..., -100, -100, -100],\n",
       "         [-100,    6,    6, ..., -100, -100, -100],\n",
       "         ...,\n",
       "         [-100,    6, -100, ..., -100, -100, -100],\n",
       "         [-100,    6,    6, ...,    6,    6, -100],\n",
       "         [-100,    6,    6, ..., -100, -100, -100]]), metrics={'test_loss': 0.10952574759721756, 'test_precision': 0.7260479041916168, 'test_recall': 0.6773743016759777, 'test_f1': 0.7008670520231214, 'test_classification_report': '              precision    recall  f1-score   support\\n\\n         LOC       0.80      0.77      0.78       252\\n         PER       0.78      0.74      0.76       355\\n        TIME       0.32      0.27      0.29       109\\n\\n   micro avg       0.73      0.68      0.70       716\\n   macro avg       0.63      0.59      0.61       716\\nweighted avg       0.72      0.68      0.70       716\\n', 'test_runtime': 1.7463, 'test_samples_per_second': 29.204, 'test_steps_per_second': 4.008}),\n",
       "  'test_RHC.txt': PredictionOutput(predictions=array([[[-0.90264374, -1.2082372 , -2.09221   , ...,  0.872755  ,\n",
       "            0.12066274,  4.4807253 ],\n",
       "          [-2.0720367 ,  1.474437  , -3.1878736 , ..., -1.377857  ,\n",
       "           -4.1520815 ,  8.968483  ],\n",
       "          [-2.3656008 , -0.63060904, -4.0704093 , ..., -0.33915094,\n",
       "           -3.1055355 ,  9.45739   ],\n",
       "          ...,\n",
       "          [-1.7932037 , -2.4647393 ,  3.642691  , ..., -0.68834686,\n",
       "            5.820383  , -1.3951489 ],\n",
       "          [-3.0394905 , -2.6656199 , -3.6425045 , ...,  0.34600586,\n",
       "            1.7241694 ,  5.48182   ],\n",
       "          [-2.242563  ,  1.4065367 , -2.2800908 , ...,  6.4123178 ,\n",
       "           -1.156575  , -0.6070672 ]],\n",
       "  \n",
       "         [[ 0.20489095, -1.6148403 , -2.1831787 , ..., -1.1698781 ,\n",
       "           -0.75438553,  5.9655433 ],\n",
       "          [-2.8027291 , -1.6263585 , -2.9749131 , ..., -1.7217927 ,\n",
       "           -2.0199    , 11.271786  ],\n",
       "          [ 0.4295676 ,  7.7264028 ,  0.5470345 , ..., -3.0283852 ,\n",
       "           -3.354616  ,  0.4169936 ],\n",
       "          ...,\n",
       "          [-1.6842958 , -1.0022871 , -2.240307  , ..., -2.1274672 ,\n",
       "           -2.7474437 , 11.033833  ],\n",
       "          [-1.5864563 , -0.987625  , -2.1542094 , ..., -2.1510034 ,\n",
       "           -2.790993  , 10.952318  ],\n",
       "          [-1.5789272 , -1.0539079 , -2.1246188 , ..., -2.1762319 ,\n",
       "           -2.7132926 , 11.015323  ]],\n",
       "  \n",
       "         [[-1.5205195 , -0.5444553 , -0.95395327, ..., -2.9456997 ,\n",
       "           -1.76869   ,  9.302853  ],\n",
       "          [-2.2188609 , -0.904148  , -0.7203512 , ..., -2.8687203 ,\n",
       "           -2.6083052 , 10.911224  ],\n",
       "          [-3.1846645 , -2.4723778 ,  0.5819998 , ..., -3.2040281 ,\n",
       "           -1.0402812 ,  9.859673  ],\n",
       "          ...,\n",
       "          [-0.6007269 ,  0.66207016, -1.388002  , ..., -1.946482  ,\n",
       "           -2.4500248 ,  8.8274    ],\n",
       "          [-0.82889956,  0.9247761 , -1.4958203 , ..., -1.9482981 ,\n",
       "           -2.6241558 ,  9.122808  ],\n",
       "          [-1.0076617 ,  1.1775558 , -1.7186315 , ..., -2.067192  ,\n",
       "           -2.9258065 ,  9.48314   ]]], dtype=float32), label_ids=array([[-100,    6,    6,    6, -100,    6,    6,    6,    6,    6,    6,\n",
       "             6,    6,    6, -100,    6,    6,    6,    6,    6,    6,    6,\n",
       "             6,    6,    6,    6,    6,    6,    6,    6,    6,    6,    6,\n",
       "             6,    1,    4,    6, -100,    6,    6,    6,    6,    6,    6,\n",
       "             6,    6,    6,    1,    4, -100, -100,    6,    6,    6, -100,\n",
       "             6, -100,    6,    6,    6,    6,    6,    6,    6,    6,    6,\n",
       "             6,    6,    6, -100, -100,    6,    6,    6,    2, -100,    5,\n",
       "             5,    5,    6,    6,    6,    6,    6,    6,    6,    2,    5,\n",
       "             5,    6,    6,    6, -100,    6,    6,    6,    6,    6,    6,\n",
       "             6,    6,    6,    6,    6,    6,    6,    6,    6,    6, -100,\n",
       "             6,    6,    6,    6,    6,    6,    6,    6,    6,    6,    0,\n",
       "          -100, -100,    6,    6,    6,    1,    4, -100,    4,    1,    6,\n",
       "             6, -100, -100,    6,    6,    6,    1,    4, -100,    6,    6,\n",
       "             6,    0, -100, -100, -100,    6,    1, -100,    4, -100,    4,\n",
       "             4, -100,    6,    6,    0, -100, -100, -100,    6,    6,    6,\n",
       "             6,    6,    6, -100,    6,    6,    6,    6,    6,    6,    6,\n",
       "             6,    6,    6,    6,    6, -100,    6,    6,    6,    1,    4,\n",
       "             4, -100,    6,    6,    6,    6,    6,    6,    1,    4, -100,\n",
       "          -100,    4, -100,    6,    6,    6,    6,    6,    6,    6,    1,\n",
       "             4, -100,    6,    6, -100,    6,    6,    6,    6,    6,    6,\n",
       "             6,    6,    0, -100,    6,    6,    6,    6,    1,    4, -100,\n",
       "             6,    6,    1, -100, -100,    1,    4, -100,    6,    6,    6,\n",
       "             6,    1,    4, -100,    6,    6, -100,    6, -100,    6,    0,\n",
       "          -100,    6,    6,    6,    6,    6, -100,    6,    6,    6,    6,\n",
       "             6,    1,    4, -100,    6,    6,    6,    6,    6,    6,    6,\n",
       "             6,    6,    6,    6,    6,    6, -100,    6,    6, -100, -100,\n",
       "             6,    6,    6,    6, -100,    6,    0,    0,    6,    6,    2,\n",
       "          -100,    5,    5,    5,    5,    5,    5,    5, -100],\n",
       "         [-100,    6,    1, -100,    4,    4,    4, -100, -100,    6,    6,\n",
       "             6, -100,    6, -100,    6,    0, -100,    6,    6,    0, -100,\n",
       "             6,    6,    0,    6,    6,    6, -100,    0,    6,    6,    6,\n",
       "             6, -100,    6,    6,    6,    6,    6,    6, -100,    6,    6,\n",
       "             6,    6,    0,    6,    6,    6,    6, -100,    6,    6,    6,\n",
       "             6,    2, -100,    5,    2,    5,    6,    6,    6,    6,    6,\n",
       "             6,    6,    6,    6,    6,    6,    6,    6,    6,    6,    6,\n",
       "             1,    4,    4,    4, -100,    6, -100,    6,    6,    0, -100,\n",
       "             6,    6, -100, -100,    6,    6,    6,    6,    6,    1,    4,\n",
       "             4, -100,    6,    6,    6,    6,    6,    6,    6,    6,    6,\n",
       "          -100,    6,    6,    6,    6,    6,    0,    3, -100,    6,    6,\n",
       "             0, -100,    6,    6,    6,    6,    6,    6,    6,    6,    6,\n",
       "             6,    6,    6,    6,    6,    6,    6,    6,    6, -100,    6,\n",
       "             6,    6,    6,    6,    6,    6,    6,    6,    6,    6,    6,\n",
       "             6,    6,    6,    6,    6,    6,    6,    6,    6,    6,    6,\n",
       "             6,    6,    6,    6,    6,    1,    4, -100,    6,    6,    1,\n",
       "             4, -100,    1,    4,    4, -100,    6,    6,    6,    0, -100,\n",
       "             6,    6,    6,    6,    1,    4, -100,    6,    1,    4, -100,\n",
       "             6, -100,    6,    6,    6,    6,    6,    6,    6,    6,    6,\n",
       "             6,    6,    6,    6,    6,    6,    6, -100,    6, -100,    6,\n",
       "             6,    6, -100,    6,    6,    6,    6,    6,    6, -100,    6,\n",
       "             6,    6,    6,    6,    6,    6,    6,    6,    6,    6,    6,\n",
       "             6,    6,    6,    6,    6,    6, -100,    6,    6,    6,    6,\n",
       "             6,    6,    6,    6,    6,    6,    6,    6,    6,    6,    6,\n",
       "             6,    6,    6, -100,    6,    6,    6,    6,    6,    6, -100,\n",
       "          -100,    6, -100, -100, -100, -100, -100, -100, -100, -100, -100,\n",
       "          -100, -100, -100, -100, -100, -100, -100, -100, -100, -100, -100,\n",
       "          -100, -100, -100, -100, -100, -100, -100, -100, -100],\n",
       "         [-100,    6,    6, -100,    6,    6,    1,    4,    4,    4,    4,\n",
       "          -100, -100,    6, -100,    6,    6,    6,    6, -100,    6,    6,\n",
       "             1,    4,    4,    6,    6,    6,    0,    6,    6,    6,    6,\n",
       "             6,    6,    6,    6, -100, -100, -100, -100, -100, -100, -100,\n",
       "          -100, -100, -100, -100, -100, -100, -100, -100, -100, -100, -100,\n",
       "          -100, -100, -100, -100, -100, -100, -100, -100, -100, -100, -100,\n",
       "          -100, -100, -100, -100, -100, -100, -100, -100, -100, -100, -100,\n",
       "          -100, -100, -100, -100, -100, -100, -100, -100, -100, -100, -100,\n",
       "          -100, -100, -100, -100, -100, -100, -100, -100, -100, -100, -100,\n",
       "          -100, -100, -100, -100, -100, -100, -100, -100, -100, -100, -100,\n",
       "          -100, -100, -100, -100, -100, -100, -100, -100, -100, -100, -100,\n",
       "          -100, -100, -100, -100, -100, -100, -100, -100, -100, -100, -100,\n",
       "          -100, -100, -100, -100, -100, -100, -100, -100, -100, -100, -100,\n",
       "          -100, -100, -100, -100, -100, -100, -100, -100, -100, -100, -100,\n",
       "          -100, -100, -100, -100, -100, -100, -100, -100, -100, -100, -100,\n",
       "          -100, -100, -100, -100, -100, -100, -100, -100, -100, -100, -100,\n",
       "          -100, -100, -100, -100, -100, -100, -100, -100, -100, -100, -100,\n",
       "          -100, -100, -100, -100, -100, -100, -100, -100, -100, -100, -100,\n",
       "          -100, -100, -100, -100, -100, -100, -100, -100, -100, -100, -100,\n",
       "          -100, -100, -100, -100, -100, -100, -100, -100, -100, -100, -100,\n",
       "          -100, -100, -100, -100, -100, -100, -100, -100, -100, -100, -100,\n",
       "          -100, -100, -100, -100, -100, -100, -100, -100, -100, -100, -100,\n",
       "          -100, -100, -100, -100, -100, -100, -100, -100, -100, -100, -100,\n",
       "          -100, -100, -100, -100, -100, -100, -100, -100, -100, -100, -100,\n",
       "          -100, -100, -100, -100, -100, -100, -100, -100, -100, -100, -100,\n",
       "          -100, -100, -100, -100, -100, -100, -100, -100, -100, -100, -100,\n",
       "          -100, -100, -100, -100, -100, -100, -100, -100, -100, -100, -100,\n",
       "          -100, -100, -100, -100, -100, -100, -100, -100, -100]]), metrics={'test_loss': 0.40760573744773865, 'test_precision': 0.6122448979591837, 'test_recall': 0.6521739130434783, 'test_f1': 0.631578947368421, 'test_classification_report': '              precision    recall  f1-score   support\\n\\n         LOC       0.88      0.82      0.85        17\\n         PER       0.46      0.54      0.50        24\\n        TIME       0.60      0.60      0.60         5\\n\\n   micro avg       0.61      0.65      0.63        46\\n   macro avg       0.65      0.66      0.65        46\\nweighted avg       0.63      0.65      0.64        46\\n', 'test_runtime': 0.0797, 'test_samples_per_second': 37.621, 'test_steps_per_second': 12.54}),\n",
       "  'test_SA.txt': PredictionOutput(predictions=array([[[-1.5999994 , -0.58770335, -2.7109907 , ...,  0.8970135 ,\n",
       "           -0.06709177,  6.185591  ],\n",
       "          [-0.77372384,  7.9900136 , -0.26751858, ..., -2.1480103 ,\n",
       "           -3.7261226 ,  1.0605239 ],\n",
       "          [-4.017899  , -1.0615016 , -3.3529851 , ...,  5.6735296 ,\n",
       "            0.37141192,  1.7877654 ],\n",
       "          ...,\n",
       "          [-1.0261195 , -0.50350976, -2.257003  , ..., -1.8622718 ,\n",
       "           -2.7604754 , 10.058231  ],\n",
       "          [-1.0320462 , -0.4729232 , -2.226311  , ..., -1.8194088 ,\n",
       "           -2.7414687 , 10.003715  ],\n",
       "          [-1.1952182 , -0.408482  , -2.3399756 , ..., -1.75857   ,\n",
       "           -2.8130333 , 10.204246  ]],\n",
       "  \n",
       "         [[-0.52699053, -0.6652111 , -2.0139306 , ..., -0.701139  ,\n",
       "           -0.5146237 ,  5.8528676 ],\n",
       "          [-2.2210507 , -1.5881152 , -2.5725577 , ..., -2.4529922 ,\n",
       "           -2.0259907 , 11.416522  ],\n",
       "          [-1.9176611 , -0.9644816 , -2.4551485 , ..., -2.1887064 ,\n",
       "           -2.376829  , 11.1847    ],\n",
       "          ...,\n",
       "          [-0.45991537, -0.8405992 , -3.2447965 , ..., -0.79212016,\n",
       "           -3.48538   ,  9.527246  ],\n",
       "          [-0.5861986 , -0.8177916 , -3.7512386 , ..., -0.2185569 ,\n",
       "           -3.5793483 ,  9.404861  ],\n",
       "          [-0.75061196, -0.50856817, -3.8745375 , ...,  0.43805218,\n",
       "           -3.5851314 ,  8.866228  ]],\n",
       "  \n",
       "         [[-1.5543128 , -0.7885101 , -0.7649949 , ..., -2.2599065 ,\n",
       "           -1.5103928 ,  8.352135  ],\n",
       "          [-1.5877589 , -2.3012052 , -2.5236452 , ..., -2.6824193 ,\n",
       "           -1.871045  , 11.409319  ],\n",
       "          [-1.9197022 , -2.201168  , -2.378591  , ..., -2.20719   ,\n",
       "           -1.8839759 , 11.373541  ],\n",
       "          ...,\n",
       "          [-0.8087165 ,  0.45209438, -1.261768  , ..., -1.8990563 ,\n",
       "           -2.4073946 ,  8.825289  ],\n",
       "          [-0.8317928 ,  0.52813345, -1.1790333 , ..., -1.9646163 ,\n",
       "           -2.3303058 ,  8.586923  ],\n",
       "          [-0.750388  ,  0.42390943, -1.1905386 , ..., -1.9445273 ,\n",
       "           -2.380144  ,  8.796765  ]],\n",
       "  \n",
       "         ...,\n",
       "  \n",
       "         [[-0.9761065 ,  0.05660749, -0.66674423, ..., -2.3730965 ,\n",
       "           -1.8124664 ,  8.030419  ],\n",
       "          [-2.462299  , -1.6884749 , -1.0350072 , ..., -2.7107153 ,\n",
       "           -2.2276886 , 11.015287  ],\n",
       "          [ 0.01583169,  0.18899894,  8.453223  , ..., -3.6867907 ,\n",
       "           -1.1004899 , -0.44916728],\n",
       "          ...,\n",
       "          [-0.8189803 ,  1.0641636 , -1.4499241 , ..., -1.8060402 ,\n",
       "           -2.4752357 ,  7.8129573 ],\n",
       "          [-0.8098733 ,  1.1752076 , -1.4276075 , ..., -1.9759389 ,\n",
       "           -2.5689695 ,  7.785915  ],\n",
       "          [-0.7313215 ,  1.169276  , -1.3328147 , ..., -2.0235908 ,\n",
       "           -2.6750414 ,  7.973656  ]],\n",
       "  \n",
       "         [[-1.0412391 , -2.092821  , -1.1494457 , ..., -1.8666632 ,\n",
       "            0.29486907,  7.5146575 ],\n",
       "          [-1.6074752 , -2.0080433 , -2.299092  , ..., -2.5919652 ,\n",
       "           -1.9552482 , 11.345412  ],\n",
       "          [-2.5588133 , -2.691189  , -2.4065473 , ..., -2.2647572 ,\n",
       "           -1.2785975 , 11.419964  ],\n",
       "          ...,\n",
       "          [-1.4282321 , -0.7634909 , -2.8835223 , ..., -1.9566919 ,\n",
       "           -3.3610213 , 11.023768  ],\n",
       "          [-1.3981563 , -0.80648017, -2.8787353 , ..., -1.9232492 ,\n",
       "           -3.337227  , 10.998856  ],\n",
       "          [-1.2527884 , -0.7463874 , -2.8027904 , ..., -2.0357404 ,\n",
       "           -3.358385  , 10.927473  ]],\n",
       "  \n",
       "         [[-1.333096  ,  0.59432757, -2.1214025 , ..., -0.5992552 ,\n",
       "           -1.0099249 ,  7.4465704 ],\n",
       "          [-1.8821187 , -2.171778  , -2.497323  , ..., -2.3216805 ,\n",
       "           -1.7264705 , 11.337329  ],\n",
       "          [-2.90429   , -2.5935588 , -2.5419004 , ..., -2.07605   ,\n",
       "           -1.0187216 , 11.369816  ],\n",
       "          ...,\n",
       "          [-3.2648494 ,  2.8438673 , -3.4908614 , ...,  3.9102898 ,\n",
       "           -2.961735  ,  6.4059086 ],\n",
       "          [-3.2271252 ,  3.147025  , -3.423392  , ...,  3.4708884 ,\n",
       "           -3.1005042 ,  6.5242724 ],\n",
       "          [-3.142268  ,  2.6641507 , -3.3169613 , ...,  3.02457   ,\n",
       "           -2.940316  ,  7.0147414 ]]], dtype=float32), label_ids=array([[-100,    1,    4, ..., -100, -100, -100],\n",
       "         [-100,    6,    6, ..., -100, -100, -100],\n",
       "         [-100,    6,    6, ..., -100, -100, -100],\n",
       "         ...,\n",
       "         [-100,    6,    2, ..., -100, -100, -100],\n",
       "         [-100,    6,    6, ..., -100, -100, -100],\n",
       "         [-100,    6,    6, ..., -100, -100, -100]]), metrics={'test_loss': 0.11984500288963318, 'test_precision': 0.7631160572337043, 'test_recall': 0.7413127413127413, 'test_f1': 0.7520564042303173, 'test_classification_report': '              precision    recall  f1-score   support\\n\\n         LOC       0.74      0.79      0.77       253\\n         PER       0.77      0.72      0.74       784\\n        TIME       0.78      0.75      0.77       258\\n\\n   micro avg       0.76      0.74      0.75      1295\\n   macro avg       0.76      0.76      0.76      1295\\nweighted avg       0.76      0.74      0.75      1295\\n', 'test_runtime': 3.7905, 'test_samples_per_second': 30.075, 'test_steps_per_second': 3.957}),\n",
       "  'test_VOC.txt': PredictionOutput(predictions=array([[[-1.9087659 , -0.83112127, -1.7078408 , ..., -1.7619246 ,\n",
       "           -0.5407114 ,  8.449566  ],\n",
       "          [ 8.441842  , -0.6004816 , -1.6445584 , ..., -3.9920256 ,\n",
       "           -4.325028  ,  2.0273132 ],\n",
       "          [-2.5159738 , -2.4783006 , -2.7269294 , ..., -1.9618489 ,\n",
       "           -2.137901  , 11.1207485 ],\n",
       "          ...,\n",
       "          [-1.7839327 , -1.0048428 , -2.250283  , ..., -2.110697  ,\n",
       "           -2.5437129 , 11.256529  ],\n",
       "          [-1.8065995 , -0.9951181 , -2.2797797 , ..., -2.0594475 ,\n",
       "           -2.5995724 , 11.262978  ],\n",
       "          [-1.7028136 , -0.9459674 , -2.1862936 , ..., -2.0931172 ,\n",
       "           -2.6454914 , 11.195569  ]],\n",
       "  \n",
       "         [[-1.8144532 , -1.4884571 , -2.156335  , ..., -0.5477003 ,\n",
       "            0.37316996,  7.080088  ],\n",
       "          [-2.5602553 , -3.024014  , -1.2990406 , ..., -2.743627  ,\n",
       "           -0.39971572,  9.603252  ],\n",
       "          [-3.0405972 , -2.2983556 , -3.170566  , ..., -1.751214  ,\n",
       "           -0.07779114, 10.409079  ],\n",
       "          ...,\n",
       "          [-1.5359397 , -0.83395934, -2.8011374 , ..., -1.7255666 ,\n",
       "           -2.866399  , 11.097786  ],\n",
       "          [-1.4190992 , -0.82912743, -2.757251  , ..., -1.7560389 ,\n",
       "           -2.9499562 , 11.047449  ],\n",
       "          [-1.2955359 , -0.9795033 , -2.5644445 , ..., -1.9279317 ,\n",
       "           -2.903746  , 11.012063  ]],\n",
       "  \n",
       "         [[-1.6941123 , -1.5298294 , -1.515976  , ..., -1.6664376 ,\n",
       "            0.0920082 ,  7.614833  ],\n",
       "          [-2.7637758 , -1.7603514 , -1.9454618 , ..., -2.3014193 ,\n",
       "           -1.9481814 , 11.467102  ],\n",
       "          [-3.0023055 , -1.8949192 , -2.3716264 , ..., -1.8848914 ,\n",
       "           -1.7130467 , 11.408352  ],\n",
       "          ...,\n",
       "          [-1.7884855 , -0.06449065, -1.5625634 , ..., -2.2096765 ,\n",
       "           -2.404819  , 10.086395  ],\n",
       "          [-1.804709  ,  0.06851957, -1.3898233 , ..., -2.2627273 ,\n",
       "           -2.3944242 ,  9.895734  ],\n",
       "          [-1.6917716 ,  0.13252482, -1.3889818 , ..., -2.249364  ,\n",
       "           -2.4095242 ,  9.744215  ]],\n",
       "  \n",
       "         ...,\n",
       "  \n",
       "         [[-1.8475381 , -0.6449847 , -2.0767076 , ..., -1.3975471 ,\n",
       "           -1.0430351 ,  8.247921  ],\n",
       "          [-2.270064  , -1.4946886 , -2.6832564 , ..., -1.9913532 ,\n",
       "           -2.0450332 , 11.405539  ],\n",
       "          [-2.2068586 , -0.7912439 , -1.667425  , ..., -1.8705963 ,\n",
       "           -2.1491745 , 10.578505  ],\n",
       "          ...,\n",
       "          [-1.8889107 , -0.64986366, -2.8240736 , ..., -1.8052478 ,\n",
       "           -2.6915474 , 11.081432  ],\n",
       "          [-1.7183331 , -0.5373673 , -2.9229534 , ..., -1.7433813 ,\n",
       "           -2.8704937 , 11.002918  ],\n",
       "          [-1.7149862 , -0.4569853 , -2.8364346 , ..., -1.7765032 ,\n",
       "           -2.894686  , 10.928421  ]],\n",
       "  \n",
       "         [[-2.2907617 ,  0.69783175, -2.5785382 , ..., -0.05146032,\n",
       "           -1.3470376 ,  7.657371  ],\n",
       "          [-2.055337  , -1.6780902 , -2.257108  , ..., -2.1012611 ,\n",
       "           -2.1076524 , 11.2058    ],\n",
       "          [-2.5290167 , -2.4428554 , -2.5268333 , ..., -2.02782   ,\n",
       "           -1.7028791 , 11.115785  ],\n",
       "          ...,\n",
       "          [-2.0007658 , -0.21244574, -3.51906   , ..., -0.9077408 ,\n",
       "           -3.0996225 , 10.818166  ],\n",
       "          [-1.8628726 ,  0.07136346, -3.6093102 , ..., -0.74905604,\n",
       "           -3.3505156 , 10.644181  ],\n",
       "          [-1.9371324 ,  0.3584785 , -3.617473  , ..., -0.59457046,\n",
       "           -3.4882534 , 10.425971  ]],\n",
       "  \n",
       "         [[-1.6481141 , -0.85035694, -1.4417241 , ..., -0.75352734,\n",
       "            0.10937577,  6.606219  ],\n",
       "          [-1.5731624 ,  5.934796  , -3.745073  , ..., -0.16804028,\n",
       "           -4.4438143 ,  3.118487  ],\n",
       "          [-3.3865137 ,  2.753418  , -4.076547  , ...,  7.037524  ,\n",
       "           -3.8746903 ,  0.28204036],\n",
       "          ...,\n",
       "          [-0.44787183, -1.3694993 , -3.1571133 , ..., -2.1863487 ,\n",
       "           -3.2854288 , 10.471988  ],\n",
       "          [ 0.6502759 , -1.7772981 , -3.617541  , ..., -2.2061822 ,\n",
       "           -3.585624  ,  9.490858  ],\n",
       "          [-0.6865672 , -0.8643105 , -2.9579458 , ..., -2.0156164 ,\n",
       "           -3.355391  , 10.435074  ]]], dtype=float32), label_ids=array([[-100,    0,    6, ..., -100, -100, -100],\n",
       "         [-100,    6,    6, ..., -100, -100, -100],\n",
       "         [-100,    6,    6, ..., -100, -100, -100],\n",
       "         ...,\n",
       "         [-100,    6, -100, ..., -100, -100, -100],\n",
       "         [-100,    6,    6, ..., -100, -100, -100],\n",
       "         [-100,    1,    4, ..., -100, -100, -100]]), metrics={'test_loss': 0.11065434664487839, 'test_precision': 0.6722797927461139, 'test_recall': 0.6688144329896907, 'test_f1': 0.6705426356589146, 'test_classification_report': '              precision    recall  f1-score   support\\n\\n         LOC       0.75      0.78      0.76       313\\n         PER       0.57      0.53      0.55       283\\n        TIME       0.69      0.69      0.69       180\\n\\n   micro avg       0.67      0.67      0.67       776\\n   macro avg       0.67      0.67      0.67       776\\nweighted avg       0.67      0.67      0.67       776\\n', 'test_runtime': 3.6952, 'test_samples_per_second': 30.039, 'test_steps_per_second': 3.789})},\n",
       " 'BERTje': {'test_NHA.txt': PredictionOutput(predictions=array([[[-8.5618293e-01, -1.5550403e-01, -2.2597904e+00, ...,\n",
       "           -1.7081510e+00, -3.0946257e+00,  8.9165401e+00],\n",
       "          [-2.4284685e+00, -1.8060883e+00, -2.3508778e+00, ...,\n",
       "           -5.2018505e-01, -1.4959662e+00,  9.2087059e+00],\n",
       "          [-2.2865479e+00, -2.1084368e+00, -2.3274224e+00, ...,\n",
       "           -3.4106269e-01, -2.0821185e+00,  9.5415630e+00],\n",
       "          ...,\n",
       "          [ 1.4610137e+00, -6.6986310e-01,  4.6632122e-03, ...,\n",
       "           -2.7752938e+00, -2.4063878e+00,  5.4860516e+00],\n",
       "          [ 6.5251581e-02, -9.3041968e-01, -3.1483786e+00, ...,\n",
       "           -1.5199066e+00, -3.7378767e+00,  8.4087563e+00],\n",
       "          [-2.2859273e+00, -1.1780553e+00, -2.5514567e+00, ...,\n",
       "            7.2701627e-01, -2.0627518e+00,  7.4798279e+00]],\n",
       "  \n",
       "         [[-1.7722826e+00, -3.2727751e-01, -2.3522847e+00, ...,\n",
       "           -1.1618007e+00, -3.2077448e+00,  9.8565483e+00],\n",
       "          [-2.7788613e+00, -2.1646624e+00, -2.3076456e+00, ...,\n",
       "           -1.3798897e-01, -1.7642047e+00,  1.0096099e+01],\n",
       "          [-2.5727580e+00, -1.8816129e+00, -2.2134802e+00, ...,\n",
       "           -1.8725656e-01, -2.0792136e+00,  1.0279247e+01],\n",
       "          ...,\n",
       "          [-1.8889431e+00, -6.7958844e-01, -2.2346661e+00, ...,\n",
       "           -1.2455291e+00, -2.9822598e+00,  1.0133153e+01],\n",
       "          [-2.0363040e+00, -6.1111331e-01, -1.8236748e+00, ...,\n",
       "           -1.0826160e+00, -2.7697425e+00,  1.0127100e+01],\n",
       "          [-2.2073128e+00, -1.1032599e+00, -2.2894337e+00, ...,\n",
       "            6.2764478e-01, -2.1124108e+00,  7.2308035e+00]],\n",
       "  \n",
       "         [[-2.1675663e+00, -2.6177007e-01, -3.0243647e+00, ...,\n",
       "            2.5659952e-02, -3.1415510e+00,  9.2949533e+00],\n",
       "          [-2.6389177e+00, -1.0675963e+00, -3.4365678e+00, ...,\n",
       "            3.9145866e-01, -1.9562827e+00,  9.3354874e+00],\n",
       "          [-2.7641809e+00, -1.0424701e+00, -3.2492912e+00, ...,\n",
       "            7.1278483e-01, -2.3390322e+00,  9.8273640e+00],\n",
       "          ...,\n",
       "          [-1.4758757e-01,  4.5149359e-01, -1.7865285e+00, ...,\n",
       "           -3.5930246e-01, -3.9172556e+00,  8.2596340e+00],\n",
       "          [-2.5335224e+00,  3.8205850e+00, -3.5588830e+00, ...,\n",
       "            5.5936818e+00, -3.5600753e+00,  1.5787756e+00],\n",
       "          [-2.4575827e+00, -2.9663673e-01, -2.8388696e+00, ...,\n",
       "            1.9481567e+00, -2.2633400e+00,  6.2318678e+00]],\n",
       "  \n",
       "         ...,\n",
       "  \n",
       "         [[-2.1312106e+00, -1.2062672e+00, -2.7328479e+00, ...,\n",
       "           -8.8241315e-01, -2.5516338e+00,  1.0208317e+01],\n",
       "          [-2.4872301e+00, -2.3799193e+00, -2.5088127e+00, ...,\n",
       "           -7.3134184e-01, -1.7164814e+00,  1.0208822e+01],\n",
       "          [-1.5822698e+00, -1.9440700e+00, -2.2690790e+00, ...,\n",
       "           -1.5940138e+00, -2.2253261e+00,  1.0071492e+01],\n",
       "          ...,\n",
       "          [ 5.9313285e-01, -2.0115069e-01, -2.2392652e+00, ...,\n",
       "           -8.6336935e-01, -3.5875335e+00,  7.3288012e+00],\n",
       "          [-1.6875407e+00, -2.4578873e-02, -2.1270876e+00, ...,\n",
       "           -6.3201088e-01, -3.4636974e+00,  8.7756901e+00],\n",
       "          [-2.1230240e+00, -1.1466376e+00, -2.5974505e+00, ...,\n",
       "            5.9971428e-01, -1.9805484e+00,  7.2817039e+00]],\n",
       "  \n",
       "         [[-1.6513909e+00, -3.2885608e-01, -2.5705771e+00, ...,\n",
       "           -6.1635363e-01, -3.4694674e+00,  9.6039009e+00],\n",
       "          [-2.7983687e+00, -1.8023144e+00, -2.8827193e+00, ...,\n",
       "            4.5424629e-02, -2.2711687e+00,  1.0042206e+01],\n",
       "          [-2.5652754e+00, -2.2497170e+00, -2.6043253e+00, ...,\n",
       "           -3.0644890e-02, -2.4450328e+00,  1.0066576e+01],\n",
       "          ...,\n",
       "          [-2.7053690e+00, -1.3263806e+00, -2.5697751e+00, ...,\n",
       "            4.8676649e-01, -2.7008209e+00,  1.0177976e+01],\n",
       "          [-2.5386112e+00, -9.3237740e-01, -2.6953740e+00, ...,\n",
       "           -4.4227462e-02, -2.8968625e+00,  1.0243393e+01],\n",
       "          [-2.3270202e+00, -1.1420401e+00, -2.0839601e+00, ...,\n",
       "            1.0115143e+00, -1.9493096e+00,  6.6822376e+00]],\n",
       "  \n",
       "         [[-1.6996859e+00, -3.6006120e-01, -2.8039463e+00, ...,\n",
       "           -6.3459420e-01, -3.3521228e+00,  9.3607521e+00],\n",
       "          [-2.6540482e+00, -1.8264265e+00, -2.3459039e+00, ...,\n",
       "           -3.0386481e-01, -1.8118596e+00,  9.4021692e+00],\n",
       "          [-2.5359881e+00, -1.3766067e+00, -3.1557062e+00, ...,\n",
       "            4.0486982e-01, -2.4150901e+00,  9.5120096e+00],\n",
       "          ...,\n",
       "          [-2.0123598e-01, -6.7963660e-01, -2.5017810e+00, ...,\n",
       "           -1.1937630e+00, -4.0727019e+00,  8.9200706e+00],\n",
       "          [-9.2561167e-01,  1.7966925e+00, -2.6488321e+00, ...,\n",
       "            4.1158304e-01, -4.2951860e+00,  6.8133173e+00],\n",
       "          [-2.2240009e+00, -9.8439664e-01, -2.1795661e+00, ...,\n",
       "            1.0875057e+00, -2.1042972e+00,  6.6977425e+00]]], dtype=float32), label_ids=array([[-100,    6,    6, ..., -100, -100, -100],\n",
       "         [-100,    6,    6, ..., -100, -100, -100],\n",
       "         [-100,    6,    6, ..., -100, -100, -100],\n",
       "         ...,\n",
       "         [-100,    6, -100, ..., -100, -100, -100],\n",
       "         [-100,    6,    6, ..., -100, -100, -100],\n",
       "         [-100,    6, -100, ..., -100, -100, -100]]), metrics={'test_loss': 0.09537717700004578, 'test_precision': 0.738863287250384, 'test_recall': 0.6736694677871149, 'test_f1': 0.7047619047619048, 'test_classification_report': '              precision    recall  f1-score   support\\n\\n         LOC       0.79      0.76      0.77       252\\n         PER       0.80      0.73      0.77       353\\n        TIME       0.35      0.28      0.31       109\\n\\n   micro avg       0.74      0.67      0.70       714\\n   macro avg       0.65      0.59      0.62       714\\nweighted avg       0.73      0.67      0.70       714\\n', 'test_runtime': 1.7351, 'test_samples_per_second': 29.394, 'test_steps_per_second': 4.034}),\n",
       "  'test_RHC.txt': PredictionOutput(predictions=array([[[-1.0377113 , -0.15009573, -2.8243773 , ..., -0.73094195,\n",
       "           -2.531608  ,  7.5046444 ],\n",
       "          [-1.7008587 ,  0.33306023, -3.5922925 , ..., -0.21457979,\n",
       "           -2.8358269 ,  7.8785505 ],\n",
       "          [-2.3506944 , -1.4072531 , -3.5878556 , ...,  0.512083  ,\n",
       "           -2.186224  ,  8.187485  ],\n",
       "          ...,\n",
       "          [-3.2278411 , -2.5327477 ,  2.201495  , ..., -0.30040336,\n",
       "            4.9143305 ,  0.18483521],\n",
       "          [-3.0357552 , -2.8996737 , -0.39842215, ..., -0.89322317,\n",
       "            4.2057366 ,  4.165625  ],\n",
       "          [-2.2131317 , -1.1116228 , -2.1913707 , ...,  1.1518638 ,\n",
       "           -1.7730886 ,  6.514959  ]],\n",
       "  \n",
       "         [[ 0.13969655, -0.34770632, -3.0057726 , ..., -1.0798446 ,\n",
       "           -3.8491645 ,  7.365983  ],\n",
       "          [-3.4459374 ,  0.2530384 , -2.8433836 , ...,  1.422306  ,\n",
       "           -2.9362535 ,  8.406454  ],\n",
       "          [-1.2544669 ,  4.7987905 , -1.5818305 , ...,  1.1413379 ,\n",
       "           -2.810019  ,  2.2969513 ],\n",
       "          ...,\n",
       "          [-0.54404396, -1.0435241 , -3.3327434 , ..., -1.0675651 ,\n",
       "           -3.8203087 ,  8.854755  ],\n",
       "          [-0.48356223,  0.357873  , -3.6277735 , ..., -0.48011085,\n",
       "           -4.057059  ,  7.292201  ],\n",
       "          [-0.5103658 ,  1.2684797 , -4.172391  , ...,  1.8809431 ,\n",
       "           -4.231197  ,  3.5869653 ]],\n",
       "  \n",
       "         [[-1.8462149 ,  0.4323713 , -2.5946705 , ..., -0.38469955,\n",
       "           -2.9806154 ,  8.170763  ],\n",
       "          [-1.492427  , -0.27331707, -2.2048292 , ..., -0.3110049 ,\n",
       "           -3.0207524 ,  7.649087  ],\n",
       "          [-0.5391783 , -0.8067864 ,  0.7463012 , ..., -0.77597284,\n",
       "           -2.262662  ,  4.9256897 ],\n",
       "          ...,\n",
       "          [-0.32371205, -0.939182  ,  0.2790099 , ..., -0.5352619 ,\n",
       "           -2.6325693 ,  5.2427125 ],\n",
       "          [-1.6869844 , -1.1557109 , -1.0993841 , ..., -1.0355223 ,\n",
       "           -0.90507436,  5.783611  ],\n",
       "          [-2.660918  , -0.27284962, -2.7211742 , ..., -0.13709939,\n",
       "           -1.3911899 ,  6.9620795 ]]], dtype=float32), label_ids=array([[-100,    6,    6, ...,    5,    5, -100],\n",
       "         [-100,    6,    1, ..., -100, -100, -100],\n",
       "         [-100,    6,    6, ..., -100, -100, -100]]), metrics={'test_loss': 0.26460790634155273, 'test_precision': 0.7346938775510204, 'test_recall': 0.782608695652174, 'test_f1': 0.7578947368421053, 'test_classification_report': '              precision    recall  f1-score   support\\n\\n         LOC       0.75      0.88      0.81        17\\n         PER       0.71      0.71      0.71        24\\n        TIME       0.80      0.80      0.80         5\\n\\n   micro avg       0.73      0.78      0.76        46\\n   macro avg       0.75      0.80      0.77        46\\nweighted avg       0.73      0.78      0.76        46\\n', 'test_runtime': 0.1103, 'test_samples_per_second': 27.193, 'test_steps_per_second': 9.064}),\n",
       "  'test_SA.txt': PredictionOutput(predictions=array([[[-1.7796273 ,  1.6714737 , -2.6213877 , ..., -0.13122012,\n",
       "           -3.2654703 ,  6.8510957 ],\n",
       "          [-0.75359356,  6.5116434 , -3.0567832 , ...,  1.0830806 ,\n",
       "           -4.0339994 ,  1.4282093 ],\n",
       "          [-3.7604845 ,  0.840162  , -4.1035724 , ...,  6.351277  ,\n",
       "           -1.3752819 ,  2.1478767 ],\n",
       "          ...,\n",
       "          [-2.0692856 ,  0.7750832 , -2.1226351 , ..., -0.2787082 ,\n",
       "           -3.241277  ,  8.838114  ],\n",
       "          [-1.375981  ,  1.0588344 , -1.9262966 , ..., -0.01654379,\n",
       "           -3.449482  ,  7.447459  ],\n",
       "          [-2.3624725 , -0.6562768 , -2.9231215 , ...,  1.4487487 ,\n",
       "           -2.293254  ,  6.7868977 ]],\n",
       "  \n",
       "         [[-1.969158  ,  0.03700775, -2.5129077 , ..., -0.5721064 ,\n",
       "           -2.7953095 ,  9.089607  ],\n",
       "          [-2.9880435 , -1.7705115 , -2.7975934 , ...,  0.0641579 ,\n",
       "           -1.2897031 ,  9.288494  ],\n",
       "          [-2.4450896 , -1.111139  , -2.0044334 , ..., -0.8718891 ,\n",
       "           -1.8780738 ,  9.465821  ],\n",
       "          ...,\n",
       "          [-2.4085968 ,  2.0874374 , -3.7015483 , ...,  6.4496675 ,\n",
       "           -2.4907403 ,  0.60199094],\n",
       "          [-2.1923714 ,  0.6170242 , -3.383242  , ...,  2.3578782 ,\n",
       "           -3.6694455 ,  7.2631836 ],\n",
       "          [-2.3311641 , -0.99895126, -2.594539  , ...,  1.029879  ,\n",
       "           -1.9658412 ,  6.9921246 ]],\n",
       "  \n",
       "         [[-1.7066741 , -0.79626924, -3.1035311 , ..., -0.53367925,\n",
       "           -2.9627008 , 10.332285  ],\n",
       "          [-2.2995594 , -1.0586227 , -3.4020646 , ...,  0.3124695 ,\n",
       "           -2.5390987 , 10.005562  ],\n",
       "          [-2.5275352 , -1.6054134 , -3.450021  , ...,  0.32137454,\n",
       "           -2.520202  ,  9.981741  ],\n",
       "          ...,\n",
       "          [ 0.0783261 , -0.5449751 , -2.4600067 , ..., -1.7333367 ,\n",
       "           -3.798565  ,  8.80731   ],\n",
       "          [-0.95297825, -1.0532564 , -2.359812  , ..., -1.3319625 ,\n",
       "           -3.2682676 ,  9.44997   ],\n",
       "          [-1.7277446 , -1.1532362 , -2.8346121 , ...,  0.58904797,\n",
       "           -2.188313  ,  7.270646  ]],\n",
       "  \n",
       "         ...,\n",
       "  \n",
       "         [[-1.6563028 , -1.258304  , -1.267377  , ..., -1.4593294 ,\n",
       "           -2.106839  ,  8.956497  ],\n",
       "          [-2.1535869 , -3.1880202 ,  0.81023604, ..., -1.9465966 ,\n",
       "           -0.41323787,  8.122964  ],\n",
       "          [-1.9164002 , -2.6335788 ,  2.1070542 , ..., -1.8925904 ,\n",
       "           -1.3206404 ,  7.825534  ],\n",
       "          ...,\n",
       "          [-2.3493679 ,  0.08446478, -2.451211  , ..., -0.6015295 ,\n",
       "           -2.8961263 ,  8.774224  ],\n",
       "          [-1.5270084 , -0.8292595 , -1.7776734 , ..., -0.96958125,\n",
       "           -2.6782644 ,  8.944347  ],\n",
       "          [-2.7967567 , -1.0637313 , -2.0335958 , ...,  1.1864249 ,\n",
       "           -1.1698325 ,  6.7837257 ]],\n",
       "  \n",
       "         [[-1.2602695 , -0.86090714, -1.7621834 , ..., -1.700843  ,\n",
       "           -2.8460164 ,  8.790728  ],\n",
       "          [-2.6904843 , -2.8988717 , -0.28255638, ..., -1.4406847 ,\n",
       "           -1.075986  ,  9.525637  ],\n",
       "          [-2.3224812 , -2.9248595 , -0.7250852 , ..., -1.1916512 ,\n",
       "           -1.265176  ,  9.594852  ],\n",
       "          ...,\n",
       "          [ 2.1501644 , -0.90511644, -2.7043226 , ..., -2.1693094 ,\n",
       "           -4.209183  ,  6.8491507 ],\n",
       "          [-0.555489  , -0.34744135, -1.0488918 , ..., -1.8765856 ,\n",
       "           -3.4358692 ,  8.431831  ],\n",
       "          [-1.8881413 , -1.3836213 , -2.3432086 , ...,  0.5263003 ,\n",
       "           -1.8663154 ,  6.986781  ]],\n",
       "  \n",
       "         [[-1.872317  , -0.5208365 , -2.1252515 , ...,  0.62359405,\n",
       "           -2.6950164 ,  7.558674  ],\n",
       "          [-2.3502553 , -2.3268735 , -1.1929187 , ..., -1.0044714 ,\n",
       "           -1.7877189 , 10.016164  ],\n",
       "          [-1.702773  , -2.5555763 , -0.93898183, ..., -1.0910972 ,\n",
       "           -1.7720438 ,  9.590385  ],\n",
       "          ...,\n",
       "          [-1.8712515 ,  1.5162953 , -2.9667287 , ...,  6.4754887 ,\n",
       "           -1.5173991 , -0.6325019 ],\n",
       "          [ 0.275855  ,  0.5713582 ,  0.41659316, ..., -0.8246485 ,\n",
       "           -2.9016986 ,  4.414598  ],\n",
       "          [-2.0796335 , -0.8712992 , -2.638262  , ...,  1.3021632 ,\n",
       "           -2.1332097 ,  6.4919257 ]]], dtype=float32), label_ids=array([[-100,    1,    4, ..., -100, -100, -100],\n",
       "         [-100,    6,    6, ..., -100, -100, -100],\n",
       "         [-100,    6,    6, ..., -100, -100, -100],\n",
       "         ...,\n",
       "         [-100,    6, -100, ..., -100, -100, -100],\n",
       "         [-100,    6,    6, ..., -100, -100, -100],\n",
       "         [-100,    6,    6, ..., -100, -100, -100]]), metrics={'test_loss': 0.0822300985455513, 'test_precision': 0.7896440129449838, 'test_recall': 0.7601246105919003, 'test_f1': 0.7746031746031745, 'test_classification_report': '              precision    recall  f1-score   support\\n\\n         LOC       0.76      0.78      0.77       253\\n         PER       0.81      0.76      0.78       773\\n        TIME       0.76      0.75      0.76       258\\n\\n   micro avg       0.79      0.76      0.77      1284\\n   macro avg       0.78      0.76      0.77      1284\\nweighted avg       0.79      0.76      0.77      1284\\n', 'test_runtime': 3.8652, 'test_samples_per_second': 29.494, 'test_steps_per_second': 3.881}),\n",
       "  'test_VOC.txt': PredictionOutput(predictions=array([[[-0.8846255 , -0.20053461, -2.723233  , ..., -1.5204369 ,\n",
       "           -3.548008  ,  9.511862  ],\n",
       "          [ 5.6675086 , -0.5285765 , -2.26615   , ..., -1.6218034 ,\n",
       "           -2.404584  ,  0.69367194],\n",
       "          [-0.5783778 , -2.9816043 , -2.8909168 , ..., -1.5484601 ,\n",
       "           -1.4718972 ,  6.1818666 ],\n",
       "          ...,\n",
       "          [ 2.3493235 , -1.2068609 , -3.5420794 , ..., -1.4829181 ,\n",
       "           -3.1683383 ,  4.7888618 ],\n",
       "          [-0.72117543, -0.9307784 , -2.2060997 , ..., -1.0914435 ,\n",
       "           -3.1423402 ,  9.487557  ],\n",
       "          [-1.569152  , -1.2889202 , -2.636608  , ...,  0.15824848,\n",
       "           -2.236063  ,  7.421688  ]],\n",
       "  \n",
       "         [[-1.5841635 , -0.7333175 , -2.3293574 , ..., -1.359286  ,\n",
       "           -2.8213515 ,  9.910175  ],\n",
       "          [-2.312314  , -1.5694518 , -1.9815735 , ..., -0.73888   ,\n",
       "           -1.6240867 ,  9.370352  ],\n",
       "          [-2.071714  , -0.81145626, -2.708225  , ..., -0.68706286,\n",
       "           -1.5662781 ,  8.74781   ],\n",
       "          ...,\n",
       "          [-1.3483778 , -0.6541185 , -2.1392243 , ..., -0.8131753 ,\n",
       "           -3.051442  ,  8.826292  ],\n",
       "          [-1.4079125 , -0.92248905, -1.7853128 , ..., -1.0237157 ,\n",
       "           -3.0599935 ,  9.9496765 ],\n",
       "          [-2.025554  , -1.4181095 , -2.0482807 , ...,  0.4915901 ,\n",
       "           -1.7311492 ,  6.933034  ]],\n",
       "  \n",
       "         [[-1.5410277 , -1.5287145 , -1.897834  , ..., -1.6536614 ,\n",
       "           -2.3666902 ,  9.490026  ],\n",
       "          [-1.9361404 , -1.948404  , -0.15296419, ..., -0.8077831 ,\n",
       "           -1.9740096 ,  9.001076  ],\n",
       "          [-2.531062  , -2.3002832 , -2.623624  , ..., -0.03863568,\n",
       "           -1.3896129 ,  9.653441  ],\n",
       "          ...,\n",
       "          [-1.7256321 , -1.5605744 , -2.8174422 , ..., -1.0134491 ,\n",
       "           -2.819878  ,  9.722782  ],\n",
       "          [-1.4355643 , -1.5171486 , -2.3357818 , ..., -1.5788561 ,\n",
       "           -2.620981  , 10.292501  ],\n",
       "          [-1.9380301 , -1.8309193 , -1.7772994 , ..., -0.26113698,\n",
       "           -1.3680869 ,  7.5538187 ]],\n",
       "  \n",
       "         ...,\n",
       "  \n",
       "         [[-1.423385  , -0.35207585, -1.9881976 , ..., -0.9381608 ,\n",
       "           -2.1933975 ,  7.3699083 ],\n",
       "          [-2.297593  , -1.2020236 , -2.1021087 , ..., -1.0209163 ,\n",
       "           -1.4958185 ,  9.153282  ],\n",
       "          [-2.0511613 , -0.93708646, -2.069503  , ..., -1.4545549 ,\n",
       "           -2.5420444 ,  9.383308  ],\n",
       "          ...,\n",
       "          [ 0.04308483, -0.99532914, -1.8578511 , ..., -0.44440377,\n",
       "           -1.7085315 ,  4.19421   ],\n",
       "          [-0.9014315 ,  0.04227867, -2.269631  , ..., -1.1031961 ,\n",
       "           -3.632776  ,  8.799566  ],\n",
       "          [-1.9775962 , -0.9058244 , -2.5907772 , ...,  0.5330943 ,\n",
       "           -2.3180165 ,  7.286789  ]],\n",
       "  \n",
       "         [[-1.3886119 ,  0.0225039 , -2.5974257 , ..., -0.36339632,\n",
       "           -3.3690014 ,  8.147543  ],\n",
       "          [-2.1088703 , -2.4328554 , -1.5159694 , ..., -1.0118967 ,\n",
       "           -1.9269505 , 10.111185  ],\n",
       "          [-1.6493293 , -2.5843956 , -0.7399124 , ..., -1.2074455 ,\n",
       "           -2.1959562 ,  9.696609  ],\n",
       "          ...,\n",
       "          [-1.0954031 ,  1.1607004 , -2.3033178 , ...,  0.5037799 ,\n",
       "           -4.051877  ,  7.3043566 ],\n",
       "          [-0.9942391 , -0.01312329, -1.6278763 , ..., -0.65985954,\n",
       "           -4.0253854 ,  9.226078  ],\n",
       "          [-2.2898602 , -0.82310325, -2.8220177 , ...,  0.9339499 ,\n",
       "           -2.3488276 ,  7.2428393 ]],\n",
       "  \n",
       "         [[-1.7883204 ,  1.6297017 , -3.2071881 , ...,  0.45594564,\n",
       "           -3.2162738 ,  6.2929983 ],\n",
       "          [-0.39101598,  5.7095046 , -1.6804403 , ...,  1.3893739 ,\n",
       "           -2.8189762 , -0.46831727],\n",
       "          [-2.2936814 ,  1.8047737 , -2.8936427 , ...,  5.9130874 ,\n",
       "           -2.0843034 ,  0.14492857],\n",
       "          ...,\n",
       "          [ 2.6313264 , -0.3746079 , -2.0245633 , ..., -1.5295966 ,\n",
       "           -3.7279708 ,  5.113908  ],\n",
       "          [-1.0308533 , -0.15208574, -2.2868803 , ..., -0.80736613,\n",
       "           -3.4749806 ,  9.501987  ],\n",
       "          [-2.0567803 , -1.1979206 , -2.4819014 , ...,  0.4026598 ,\n",
       "           -1.9791249 ,  7.275797  ]]], dtype=float32), label_ids=array([[-100,    0,    6, ..., -100, -100, -100],\n",
       "         [-100,    6,    6, ..., -100, -100, -100],\n",
       "         [-100,    6,    6, ..., -100, -100, -100],\n",
       "         ...,\n",
       "         [-100,    6, -100, ..., -100, -100, -100],\n",
       "         [-100,    6,    6, ..., -100, -100, -100],\n",
       "         [-100,    1,    4, ..., -100, -100, -100]]), metrics={'test_loss': 0.07860732823610306, 'test_precision': 0.695364238410596, 'test_recall': 0.6844850065189049, 'test_f1': 0.6898817345597898, 'test_classification_report': '              precision    recall  f1-score   support\\n\\n         LOC       0.78      0.78      0.78       309\\n         PER       0.62      0.59      0.60       278\\n        TIME       0.66      0.67      0.66       180\\n\\n   micro avg       0.70      0.68      0.69       767\\n   macro avg       0.69      0.68      0.68       767\\nweighted avg       0.69      0.68      0.69       767\\n', 'test_runtime': 3.725, 'test_samples_per_second': 29.799, 'test_steps_per_second': 3.758})},\n",
       " 'BERT-multi-cased': {'test_NHA.txt': PredictionOutput(predictions=array([[[-8.3987463e-01,  1.0568302e+00, -3.0387471e+00, ...,\n",
       "           -1.5727857e-01, -2.4312859e+00,  4.5183449e+00],\n",
       "          [-2.3867333e+00, -1.7130377e+00, -2.5009086e+00, ...,\n",
       "           -1.9007987e+00, -1.5521510e+00,  9.2780838e+00],\n",
       "          [-1.2759163e+00, -1.9193344e+00, -2.5233166e+00, ...,\n",
       "           -1.8836547e+00, -2.3338671e+00,  9.3657980e+00],\n",
       "          ...,\n",
       "          [-2.5234697e-03, -3.3958441e-01, -2.7538402e+00, ...,\n",
       "           -1.7313969e+00, -3.0714469e+00,  6.6660566e+00],\n",
       "          [ 1.4170943e-01, -4.8943278e-01, -2.6585834e+00, ...,\n",
       "           -1.7527453e+00, -3.0958948e+00,  6.6015368e+00],\n",
       "          [-4.6973801e-01,  1.5134171e+00, -3.2822726e+00, ...,\n",
       "           -5.4510766e-01, -3.3199611e+00,  5.6813889e+00]],\n",
       "  \n",
       "         [[-1.2911222e+00,  5.3837508e-01, -1.8999281e+00, ...,\n",
       "           -5.7750994e-01, -1.6673915e+00,  4.4074888e+00],\n",
       "          [-3.1281943e+00, -2.2766333e+00, -2.7089839e+00, ...,\n",
       "           -1.0054215e+00, -1.3107127e+00,  9.2858772e+00],\n",
       "          [-2.5212529e+00, -2.8910792e+00, -2.1168773e+00, ...,\n",
       "           -1.2975918e+00, -1.1521127e+00,  9.2977896e+00],\n",
       "          ...,\n",
       "          [-1.8122442e+00, -5.1973969e-01, -2.6527693e+00, ...,\n",
       "           -1.4878937e+00, -2.4374857e+00,  8.6415615e+00],\n",
       "          [-1.9837720e+00, -1.2193345e+00, -2.5301433e+00, ...,\n",
       "           -1.4774803e+00, -2.2243421e+00,  9.0361919e+00],\n",
       "          [-1.2616041e+00,  7.2805375e-01, -2.3766904e+00, ...,\n",
       "           -1.4147489e+00, -2.3028436e+00,  6.6767807e+00]],\n",
       "  \n",
       "         [[-9.3131864e-01,  9.4795763e-01, -2.0465519e+00, ...,\n",
       "            3.4855863e-01, -1.8950815e+00,  3.0353713e+00],\n",
       "          [-1.8884977e+00, -1.2491930e+00, -1.6249818e+00, ...,\n",
       "           -4.3856852e-02, -1.4314029e+00,  5.9755812e+00],\n",
       "          [-2.9860127e+00, -9.1180050e-01, -2.8933978e+00, ...,\n",
       "            2.2708596e-01, -1.7203664e+00,  6.9226336e+00],\n",
       "          ...,\n",
       "          [-1.2929771e+00, -2.0830643e+00, -1.4659036e+00, ...,\n",
       "           -1.9730724e+00, -2.3731141e+00,  8.4066105e+00],\n",
       "          [-9.2971087e-01, -1.2154583e+00, -3.1991996e-02, ...,\n",
       "           -3.2016170e+00, -2.1061757e+00,  7.2708168e+00],\n",
       "          [-2.0810900e+00,  2.5739026e+00, -4.5842915e+00, ...,\n",
       "            1.7667786e+00, -3.3201833e+00,  5.6263757e+00]],\n",
       "  \n",
       "         ...,\n",
       "  \n",
       "         [[-1.0483130e+00, -2.2528207e-01, -2.7850351e+00, ...,\n",
       "           -1.2052225e+00, -2.1531041e+00,  7.0150576e+00],\n",
       "          [-4.9147714e-02,  3.1131348e-01, -3.1458647e+00, ...,\n",
       "           -2.0708077e+00, -2.3238089e+00,  5.9726200e+00],\n",
       "          [-1.1587317e+00, -4.8874813e-01, -2.4433372e+00, ...,\n",
       "           -9.0533578e-01, -1.8039706e+00,  6.5069609e+00],\n",
       "          ...,\n",
       "          [-5.0480372e-01, -4.6332735e-01, -2.1549342e+00, ...,\n",
       "           -2.0393136e+00, -2.4793406e+00,  7.4455628e+00],\n",
       "          [-4.9851480e-01, -4.1120172e-01, -2.1972768e+00, ...,\n",
       "           -2.0222185e+00, -2.4983892e+00,  7.3950768e+00],\n",
       "          [-2.6210862e-01,  5.6659643e-02, -1.9982878e+00, ...,\n",
       "           -1.7913066e+00, -2.2797742e+00,  6.5844116e+00]],\n",
       "  \n",
       "         [[-6.3956380e-01,  9.5422238e-01, -2.0990646e+00, ...,\n",
       "            5.0291055e-01, -1.6298716e+00,  2.2244949e+00],\n",
       "          [-2.9682176e+00, -1.6299597e+00, -3.5323179e+00, ...,\n",
       "            5.1318251e-02, -1.7136332e+00,  8.3317385e+00],\n",
       "          [-2.9438705e+00, -1.9973062e+00, -2.8658826e+00, ...,\n",
       "           -3.7714773e-01, -2.2449791e+00,  9.4146547e+00],\n",
       "          ...,\n",
       "          [-2.9695411e+00, -2.1447620e+00,  1.4603003e+00, ...,\n",
       "           -1.0347122e+00,  3.4909329e+00,  1.4911741e+00],\n",
       "          [-2.0344560e+00, -8.9897233e-01,  3.9280608e+00, ...,\n",
       "           -2.2521040e+00,  1.3403605e+00,  2.3315916e+00],\n",
       "          [-1.4055471e+00,  8.9874727e-01, -4.1154485e+00, ...,\n",
       "            4.4083983e-01, -2.7114890e+00,  6.4518151e+00]],\n",
       "  \n",
       "         [[-8.0905986e-01,  1.2638121e+00, -2.3670678e+00, ...,\n",
       "            2.1165414e-01, -1.9883285e+00,  3.0937696e+00],\n",
       "          [-1.6396387e+00,  1.7593503e-01, -2.2796180e+00, ...,\n",
       "           -9.8559570e-01, -9.7471267e-01,  5.7721443e+00],\n",
       "          [-2.3852143e+00, -1.4943942e+00, -2.6141458e+00, ...,\n",
       "           -4.7459131e-01, -1.2987170e+00,  7.8999214e+00],\n",
       "          ...,\n",
       "          [-1.1147171e+00,  2.0014968e+00, -3.4612353e+00, ...,\n",
       "           -4.1216195e-01, -3.0069401e+00,  5.8250494e+00],\n",
       "          [-8.6467808e-01,  2.2519460e+00, -3.4224598e+00, ...,\n",
       "           -3.7505835e-01, -3.1112800e+00,  5.4355798e+00],\n",
       "          [-1.3074496e+00,  1.0534164e+00, -3.0927842e+00, ...,\n",
       "           -1.0119386e+00, -2.5108936e+00,  6.7343330e+00]]], dtype=float32), label_ids=array([[-100,    6,    6, ..., -100, -100, -100],\n",
       "         [-100,    6, -100, ..., -100, -100, -100],\n",
       "         [-100,    6, -100, ..., -100,    6, -100],\n",
       "         ...,\n",
       "         [-100,    6, -100, ..., -100, -100, -100],\n",
       "         [-100,    6,    6, ..., -100, -100, -100],\n",
       "         [-100,    6, -100, ..., -100, -100, -100]]), metrics={'test_loss': 0.11342580616474152, 'test_precision': 0.709470304975923, 'test_recall': 0.6567607726597325, 'test_f1': 0.6820987654320987, 'test_classification_report': '              precision    recall  f1-score   support\\n\\n         LOC       0.80      0.74      0.77       236\\n         PER       0.77      0.72      0.74       336\\n        TIME       0.29      0.26      0.27       101\\n\\n   micro avg       0.71      0.66      0.68       673\\n   macro avg       0.62      0.57      0.59       673\\nweighted avg       0.71      0.66      0.68       673\\n', 'test_runtime': 1.716, 'test_samples_per_second': 29.721, 'test_steps_per_second': 4.079}),\n",
       "  'test_RHC.txt': PredictionOutput(predictions=array([[[-0.21495128,  0.69708943, -2.1481414 , ..., -0.31045473,\n",
       "           -1.9188964 ,  2.6749282 ],\n",
       "          [-2.2495165 , -0.65723205, -3.359433  , ..., -0.57547194,\n",
       "           -2.6418982 ,  7.9228935 ],\n",
       "          [-1.4852624 , -1.3019557 , -3.770211  , ...,  0.7853282 ,\n",
       "           -2.7684383 ,  6.5826874 ],\n",
       "          ...,\n",
       "          [-1.5364066 ,  0.48599258, -1.5482682 , ..., -1.0727304 ,\n",
       "           -2.6872435 ,  5.3419027 ],\n",
       "          [-1.7415746 , -1.3856169 , -3.743415  , ..., -0.8080664 ,\n",
       "           -2.4436445 ,  8.210343  ],\n",
       "          [-1.435247  ,  1.5323868 , -4.5898914 , ...,  0.87337196,\n",
       "           -3.2011325 ,  6.184335  ]],\n",
       "  \n",
       "         [[ 0.3705805 ,  0.1854676 , -1.9005946 , ..., -0.78089   ,\n",
       "           -1.9181973 ,  2.4631581 ],\n",
       "          [-1.4850706 , -0.69552225, -3.3377912 , ..., -0.64648306,\n",
       "           -3.3596902 ,  7.864771  ],\n",
       "          [ 0.20990156,  6.661599  , -0.81622624, ..., -1.4211752 ,\n",
       "           -3.0647597 ,  1.2101748 ],\n",
       "          ...,\n",
       "          [-0.10231297, -1.4034704 , -2.3043034 , ..., -2.474283  ,\n",
       "           -2.702562  ,  7.7290735 ],\n",
       "          [-0.0280159 , -1.4368871 , -2.2418725 , ..., -2.501579  ,\n",
       "           -2.722876  ,  7.678025  ],\n",
       "          [-0.24355273, -1.1960129 , -2.418461  , ..., -2.5323317 ,\n",
       "           -2.7816262 ,  8.007754  ]],\n",
       "  \n",
       "         [[-0.7169057 ,  0.20537476, -2.309669  , ..., -0.34715977,\n",
       "           -1.6944466 ,  4.6152086 ],\n",
       "          [-1.6582189 , -1.0814487 , -1.6871064 , ..., -2.1141229 ,\n",
       "           -1.2847742 ,  7.752119  ],\n",
       "          [-1.3184164 , -2.1576228 ,  0.20257327, ..., -2.043584  ,\n",
       "           -0.9084706 ,  6.532655  ],\n",
       "          ...,\n",
       "          [-1.0471641 , -0.3250068 , -1.6740743 , ..., -1.3953474 ,\n",
       "           -1.2244287 ,  5.931613  ],\n",
       "          [-0.7061794 ,  0.22500978, -1.6897117 , ..., -1.2497725 ,\n",
       "           -1.4419167 ,  5.1766877 ],\n",
       "          [-0.6956372 ,  0.5526491 , -1.8004739 , ..., -0.75145435,\n",
       "           -1.6945642 ,  4.879993  ]]], dtype=float32), label_ids=array([[-100,    6,    6, ..., -100,    6, -100],\n",
       "         [-100,    6,    1, ..., -100, -100, -100],\n",
       "         [-100,    6,    6, ..., -100, -100, -100]]), metrics={'test_loss': 0.3024003505706787, 'test_precision': 0.8095238095238095, 'test_recall': 0.7555555555555555, 'test_f1': 0.7816091954022989, 'test_classification_report': '              precision    recall  f1-score   support\\n\\n         LOC       1.00      0.82      0.90        17\\n         PER       0.71      0.71      0.71        24\\n        TIME       0.75      0.75      0.75         4\\n\\n   micro avg       0.81      0.76      0.78        45\\n   macro avg       0.82      0.76      0.79        45\\nweighted avg       0.82      0.76      0.79        45\\n', 'test_runtime': 0.1284, 'test_samples_per_second': 23.372, 'test_steps_per_second': 7.791}),\n",
       "  'test_SA.txt': PredictionOutput(predictions=array([[[-0.70233953,  0.9728618 , -2.0116184 , ...,  0.47405192,\n",
       "           -1.3513901 ,  2.2053216 ],\n",
       "          [-0.64886767,  6.2734804 , -1.8680755 , ..., -0.08975744,\n",
       "           -3.1990635 ,  1.3159748 ],\n",
       "          [-3.3363152 ,  2.2775962 , -2.3891807 , ...,  5.271563  ,\n",
       "           -1.9901497 ,  0.05693604],\n",
       "          ...,\n",
       "          [-1.1917937 ,  0.36787036, -3.9537232 , ...,  2.138518  ,\n",
       "           -3.615377  ,  4.458972  ],\n",
       "          [-0.65483135,  0.43496105, -3.913345  , ...,  2.0989053 ,\n",
       "           -3.270514  ,  3.6762493 ],\n",
       "          [-1.3904715 ,  1.8435495 , -4.7666945 , ...,  1.084747  ,\n",
       "           -3.379005  ,  5.9653187 ]],\n",
       "  \n",
       "         [[ 0.15960343,  0.80707204, -2.3574238 , ..., -0.34745577,\n",
       "           -2.2771473 ,  3.0512776 ],\n",
       "          [-1.4539573 , -1.8143442 , -3.8965871 , ..., -0.688959  ,\n",
       "           -2.0097144 ,  8.622857  ],\n",
       "          [-2.2670968 , -2.2626624 , -3.176086  , ..., -0.24451095,\n",
       "           -2.347576  ,  8.990528  ],\n",
       "          ...,\n",
       "          [-1.3719912 , -2.1961417 , -2.9191837 , ..., -1.7962071 ,\n",
       "           -2.470146  ,  9.636344  ],\n",
       "          [ 0.12699576, -1.1325353 , -2.739911  , ..., -2.82331   ,\n",
       "           -3.6675835 ,  8.423959  ],\n",
       "          [-1.5286335 ,  1.3458636 , -4.439284  , ...,  0.7647767 ,\n",
       "           -3.0416074 ,  6.4700193 ]],\n",
       "  \n",
       "         [[-0.7094951 , -0.35023993, -2.7012985 , ..., -1.2341452 ,\n",
       "           -2.4052525 ,  6.145914  ],\n",
       "          [-2.5918684 , -2.4249678 , -2.6375484 , ..., -1.5844629 ,\n",
       "           -2.0930533 ,  9.705662  ],\n",
       "          [-2.9089842 , -2.700407  , -3.525363  , ...,  0.14599065,\n",
       "           -1.8504834 ,  8.609247  ],\n",
       "          ...,\n",
       "          [-1.2257106 , -1.3067081 , -2.501082  , ..., -1.847452  ,\n",
       "           -2.2626724 ,  8.336913  ],\n",
       "          [-1.3404534 , -1.3027647 , -2.414316  , ..., -1.8444659 ,\n",
       "           -2.2257948 ,  8.241774  ],\n",
       "          [-0.48135653,  0.21931036, -1.9210808 , ..., -1.7288493 ,\n",
       "           -2.064457  ,  6.299159  ]],\n",
       "  \n",
       "         ...,\n",
       "  \n",
       "         [[-1.2154679 ,  0.43759742, -2.0663745 , ..., -0.46112555,\n",
       "           -1.4310889 ,  5.029078  ],\n",
       "          [-2.0010614 , -2.6125054 , -0.256221  , ..., -1.0354047 ,\n",
       "           -0.06647764,  6.7228694 ],\n",
       "          [ 0.7108296 ,  0.8006278 ,  5.86882   , ..., -3.1118915 ,\n",
       "            0.02496545, -0.30680636],\n",
       "          ...,\n",
       "          [-0.9703018 ,  0.21907178, -1.6415645 , ..., -1.5872333 ,\n",
       "           -2.0687108 ,  6.8077984 ],\n",
       "          [-1.0513796 , -0.19626199, -1.9767231 , ..., -1.6651233 ,\n",
       "           -2.283538  ,  7.5479627 ],\n",
       "          [-0.98181295,  0.22219937, -1.2204691 , ..., -1.2390128 ,\n",
       "           -1.2640781 ,  5.5887413 ]],\n",
       "  \n",
       "         [[-0.1855588 ,  0.72035015, -1.6346691 , ..., -0.38655463,\n",
       "           -1.7114404 ,  2.3497343 ],\n",
       "          [-1.8920032 , -2.146897  , -2.4918993 , ..., -1.3885999 ,\n",
       "           -2.0224826 ,  9.247281  ],\n",
       "          [-1.2981958 , -2.578865  , -2.16479   , ..., -1.5823845 ,\n",
       "           -2.7328513 ,  9.044024  ],\n",
       "          ...,\n",
       "          [-0.86475986, -0.9385479 ,  0.08634832, ..., -2.568188  ,\n",
       "           -0.8059221 ,  6.01617   ],\n",
       "          [-0.69627047, -1.1451114 ,  0.65212595, ..., -2.6733077 ,\n",
       "           -0.65003955,  5.700781  ],\n",
       "          [-0.38215423,  0.6556187 , -2.5938182 , ..., -1.4462954 ,\n",
       "           -2.4869738 ,  5.9848413 ]],\n",
       "  \n",
       "         [[-0.9146674 ,  0.9644761 , -1.3392802 , ...,  0.42931715,\n",
       "           -1.4028937 ,  2.2730455 ],\n",
       "          [-2.1457555 , -2.2504978 , -2.1947777 , ..., -1.4244548 ,\n",
       "           -1.492804  ,  8.922383  ],\n",
       "          [-1.5684507 , -2.459031  , -1.7660772 , ..., -1.4765121 ,\n",
       "           -2.5948353 ,  8.1310835 ],\n",
       "          ...,\n",
       "          [-0.4914874 ,  0.97149765, -2.3323503 , ..., -2.1297383 ,\n",
       "           -2.528819  ,  7.0265102 ],\n",
       "          [-0.56097627,  0.90633553, -2.3929646 , ..., -2.185196  ,\n",
       "           -2.5467286 ,  7.24819   ],\n",
       "          [-0.03444292,  2.1019998 , -1.6888664 , ..., -1.5574316 ,\n",
       "           -2.2158995 ,  4.766879  ]]], dtype=float32), label_ids=array([[-100,    1, -100, ..., -100, -100, -100],\n",
       "         [-100,    6, -100, ..., -100, -100, -100],\n",
       "         [-100,    6,    6, ..., -100, -100, -100],\n",
       "         ...,\n",
       "         [-100,    6,    2, ..., -100, -100, -100],\n",
       "         [-100,    6,    6, ..., -100, -100, -100],\n",
       "         [-100,    6,    6, ..., -100, -100, -100]]), metrics={'test_loss': 0.09569220244884491, 'test_precision': 0.7996545768566494, 'test_recall': 0.759016393442623, 'test_f1': 0.7788057190916737, 'test_classification_report': '              precision    recall  f1-score   support\\n\\n         LOC       0.81      0.78      0.80       245\\n         PER       0.80      0.74      0.77       722\\n        TIME       0.80      0.78      0.79       253\\n\\n   micro avg       0.80      0.76      0.78      1220\\n   macro avg       0.80      0.77      0.78      1220\\nweighted avg       0.80      0.76      0.78      1220\\n', 'test_runtime': 3.7666, 'test_samples_per_second': 30.266, 'test_steps_per_second': 3.982}),\n",
       "  'test_VOC.txt': PredictionOutput(predictions=array([[[-0.11308523,  0.28306374, -2.5450878 , ..., -0.8496628 ,\n",
       "           -2.0836978 ,  4.238312  ],\n",
       "          [ 5.108827  ,  0.13123973, -3.0826669 , ..., -2.337807  ,\n",
       "           -3.535562  ,  2.442111  ],\n",
       "          [-0.7368386 , -3.0711036 , -2.941254  , ..., -1.3434206 ,\n",
       "           -2.6588874 ,  6.7481556 ],\n",
       "          ...,\n",
       "          [-1.2727859 , -1.6499017 , -2.8777916 , ..., -2.0274026 ,\n",
       "           -2.2507133 ,  9.080972  ],\n",
       "          [-1.2646996 , -1.7404342 , -2.8056834 , ..., -2.0401525 ,\n",
       "           -2.2040095 ,  9.123766  ],\n",
       "          [-0.23187871, -0.14783058, -2.9348915 , ..., -1.9613186 ,\n",
       "           -2.44029   ,  7.005603  ]],\n",
       "  \n",
       "         [[ 0.27685595, -0.21969439, -2.2987916 , ..., -0.6269867 ,\n",
       "           -1.7885745 ,  2.8498516 ],\n",
       "          [-2.8790243 , -0.8633581 , -1.3185526 , ..., -0.717562  ,\n",
       "           -0.34523863,  5.5737166 ],\n",
       "          [-3.0382226 , -1.6483521 , -2.8082068 , ..., -0.6817659 ,\n",
       "            0.8414026 ,  5.481147  ],\n",
       "          ...,\n",
       "          [ 0.6043987 , -0.32661727, -2.5247614 , ..., -0.35345703,\n",
       "           -1.7467229 ,  2.9564083 ],\n",
       "          [ 0.5850578 , -0.42247483, -2.550008  , ..., -0.5801328 ,\n",
       "           -1.7908003 ,  3.286731  ],\n",
       "          [ 0.23384053, -0.20366596, -2.552557  , ..., -0.6316789 ,\n",
       "           -1.7058338 ,  3.3330054 ]],\n",
       "  \n",
       "         [[-0.24502818, -0.4545764 , -1.7012912 , ..., -1.0665153 ,\n",
       "           -1.1119108 ,  3.5098805 ],\n",
       "          [-2.612653  , -0.92415255, -3.1370828 , ..., -1.3879856 ,\n",
       "           -2.257625  ,  8.88321   ],\n",
       "          [-2.3265364 , -1.3599192 , -2.1713216 , ..., -1.2873143 ,\n",
       "           -2.1142344 ,  9.451942  ],\n",
       "          ...,\n",
       "          [ 0.09156691,  0.06027194, -1.5210533 , ..., -2.9434612 ,\n",
       "           -2.2301185 ,  6.17048   ],\n",
       "          [ 0.18607847, -0.02457665, -0.3601265 , ..., -2.971862  ,\n",
       "           -1.8125718 ,  5.3254814 ],\n",
       "          [-0.38221434, -0.13665672, -2.5327628 , ..., -2.0528593 ,\n",
       "           -2.2731757 ,  6.6552835 ]],\n",
       "  \n",
       "         ...,\n",
       "  \n",
       "         [[-0.47615707,  0.95535886, -2.7698605 , ...,  0.10639054,\n",
       "           -2.3047385 ,  3.7583537 ],\n",
       "          [-2.4137683 , -1.8197922 , -2.5043857 , ..., -1.2547592 ,\n",
       "           -2.088595  ,  9.577405  ],\n",
       "          [-1.9139572 , -2.2141225 , -1.8662382 , ..., -2.2287025 ,\n",
       "           -2.4021535 ,  9.684672  ],\n",
       "          ...,\n",
       "          [-1.5143476 , -0.7724827 , -2.7386606 , ..., -1.8466917 ,\n",
       "           -3.1624987 ,  8.879939  ],\n",
       "          [-1.9093754 , -1.7150996 , -2.1769748 , ..., -1.2226688 ,\n",
       "           -2.366661  ,  8.713918  ],\n",
       "          [-1.4496104 ,  0.95045525, -4.115987  , ...,  0.25851044,\n",
       "           -2.7959993 ,  6.9700193 ]],\n",
       "  \n",
       "         [[-0.09173384,  1.2342583 , -2.2536223 , ..., -0.42372233,\n",
       "           -2.4564533 ,  3.2782564 ],\n",
       "          [-1.9492459 , -1.7119097 , -3.1694543 , ..., -1.3219591 ,\n",
       "           -2.2028608 ,  9.107722  ],\n",
       "          [-1.8196527 , -2.8510976 , -1.8856862 , ..., -1.1084744 ,\n",
       "           -1.916283  ,  8.166078  ],\n",
       "          ...,\n",
       "          [-0.36001518,  0.871946  , -3.6235635 , ..., -0.9588359 ,\n",
       "           -3.630203  ,  6.190836  ],\n",
       "          [-0.46585777, -0.47459996, -3.651962  , ..., -1.012797  ,\n",
       "           -3.925712  ,  7.6822014 ],\n",
       "          [-1.2351147 ,  1.1837382 , -4.518973  , ...,  0.43775082,\n",
       "           -3.286735  ,  6.8392234 ]],\n",
       "  \n",
       "         [[ 0.37094462, -0.19116361, -1.6695744 , ..., -0.766695  ,\n",
       "           -1.3483032 ,  2.7228854 ],\n",
       "          [-1.015793  ,  4.7101626 , -2.9594524 , ..., -0.1761912 ,\n",
       "           -2.650672  ,  3.1666589 ],\n",
       "          [-1.9153028 ,  1.2397436 , -2.9456937 , ...,  3.9296534 ,\n",
       "           -2.3168569 ,  2.165247  ],\n",
       "          ...,\n",
       "          [-0.60246885,  0.06255087, -2.7356532 , ..., -1.9483782 ,\n",
       "           -2.3764508 ,  7.2820845 ],\n",
       "          [-0.8840589 , -0.36419725, -2.6013567 , ..., -2.0153964 ,\n",
       "           -2.2209153 ,  7.6705856 ],\n",
       "          [ 0.18635294,  0.7623434 , -1.9583771 , ..., -1.5886796 ,\n",
       "           -1.7748729 ,  4.72733   ]]], dtype=float32), label_ids=array([[-100,    0,    6, ..., -100, -100, -100],\n",
       "         [-100,    6,    6, ..., -100, -100, -100],\n",
       "         [-100,    6, -100, ..., -100, -100, -100],\n",
       "         ...,\n",
       "         [-100,    6, -100, ..., -100, -100, -100],\n",
       "         [-100,    6,    6, ..., -100, -100, -100],\n",
       "         [-100,    1,    4, ..., -100, -100, -100]]), metrics={'test_loss': 0.09862799942493439, 'test_precision': 0.657258064516129, 'test_recall': 0.6468253968253969, 'test_f1': 0.652, 'test_classification_report': '              precision    recall  f1-score   support\\n\\n         LOC       0.78      0.76      0.77       307\\n         PER       0.53      0.51      0.52       272\\n        TIME       0.64      0.66      0.65       177\\n\\n   micro avg       0.66      0.65      0.65       756\\n   macro avg       0.65      0.64      0.65       756\\nweighted avg       0.66      0.65      0.65       756\\n', 'test_runtime': 3.6948, 'test_samples_per_second': 30.043, 'test_steps_per_second': 3.789})},\n",
       " 'WikiNEuRal': {'test_NHA.txt': PredictionOutput(predictions=array([[[ 7.292459  , -1.9694304 , -1.1417084 , ..., -1.2800839 ,\n",
       "           -1.123669  ,  1.7746282 ],\n",
       "          [ 9.8520565 , -2.1403925 , -2.693081  , ..., -2.6390269 ,\n",
       "           -0.19525227,  1.0769997 ],\n",
       "          [ 7.395638  , -2.0949614 , -3.4491577 , ..., -3.3319995 ,\n",
       "            1.6139183 ,  1.4369867 ],\n",
       "          ...,\n",
       "          [ 6.207771  , -2.9539547 ,  0.2938332 , ...,  0.21697313,\n",
       "           -2.146814  ,  2.9064293 ],\n",
       "          [ 5.486754  , -2.8775237 ,  0.12700434, ...,  0.48910695,\n",
       "           -2.0740874 ,  3.6966238 ],\n",
       "          [ 6.6222596 , -2.4459465 , -0.45614803, ..., -0.63568395,\n",
       "           -1.8036978 ,  2.712066  ]],\n",
       "  \n",
       "         [[ 9.4017105 , -1.6421286 , -1.7807857 , ..., -1.911782  ,\n",
       "           -0.44054833, -0.5097651 ],\n",
       "          [11.602997  , -2.198943  , -2.5523083 , ..., -2.5141075 ,\n",
       "           -0.6437822 , -0.78403515],\n",
       "          [11.595951  , -2.425627  , -2.433162  , ..., -2.169188  ,\n",
       "           -1.0201735 , -0.40044555],\n",
       "          ...,\n",
       "          [ 6.4702525 , -3.0940619 , -0.2446972 , ...,  0.7010087 ,\n",
       "           -1.4648201 ,  1.0737287 ],\n",
       "          [10.246828  , -2.6119106 , -1.5240912 , ..., -1.1827984 ,\n",
       "           -1.7769513 ,  0.25791287],\n",
       "          [10.576028  , -2.2566845 , -1.7513616 , ..., -1.799375  ,\n",
       "           -1.2303894 , -0.42460886]],\n",
       "  \n",
       "         [[ 8.545819  , -0.4658206 , -0.46325403, ..., -1.9551452 ,\n",
       "           -1.3490076 , -0.1274389 ],\n",
       "          [10.128725  , -0.84791815, -1.3958995 , ..., -2.4224336 ,\n",
       "           -1.0589564 , -0.51984435],\n",
       "          [10.487316  , -1.6294489 , -1.3146286 , ..., -2.0380337 ,\n",
       "           -1.5606996 , -0.07944135],\n",
       "          ...,\n",
       "          [ 9.306028  , -1.3427612 , -0.6604554 , ..., -1.9675422 ,\n",
       "           -1.6431075 ,  0.21998972],\n",
       "          [ 9.152737  , -1.0981706 , -0.58446854, ..., -2.040644  ,\n",
       "           -1.5078967 ,  0.06463607],\n",
       "          [ 8.857943  , -1.0856423 , -0.675612  , ..., -1.9549156 ,\n",
       "           -1.5171257 ,  0.27503967]],\n",
       "  \n",
       "         ...,\n",
       "  \n",
       "         [[ 7.725297  , -2.117204  , -1.7415112 , ..., -1.0268273 ,\n",
       "           -0.723971  ,  1.0946581 ],\n",
       "          [ 7.4092546 , -0.5418311 , -3.6630206 , ..., -4.0119314 ,\n",
       "            3.0071468 , -1.2458085 ],\n",
       "          [ 7.2978873 , -1.7713338 , -2.2194192 , ..., -1.9334644 ,\n",
       "            0.9650472 ,  0.38472494],\n",
       "          ...,\n",
       "          [ 5.957093  , -3.0315607 , -0.9753454 , ...,  0.3244343 ,\n",
       "           -1.8556284 ,  3.256839  ],\n",
       "          [ 6.7888246 , -3.0708039 , -1.3106368 , ..., -0.07574651,\n",
       "           -1.7151341 ,  2.9063663 ],\n",
       "          [ 7.242163  , -2.872684  , -1.5131217 , ..., -0.36480457,\n",
       "           -1.6023889 ,  2.540433  ]],\n",
       "  \n",
       "         [[ 7.9982142 , -1.4368712 , -1.0519712 , ..., -1.6402068 ,\n",
       "           -0.87840116,  0.8276439 ],\n",
       "          [10.495417  , -1.9522599 , -1.8814579 , ..., -2.2633612 ,\n",
       "           -0.7968218 ,  0.4411869 ],\n",
       "          [10.642669  , -2.2596834 , -1.8453689 , ..., -1.9315882 ,\n",
       "           -1.1654887 ,  0.67389435],\n",
       "          ...,\n",
       "          [10.177204  , -1.9029747 , -1.2916385 , ..., -1.8772867 ,\n",
       "           -1.4252583 ,  0.69746214],\n",
       "          [ 9.3079815 , -1.4308656 , -1.2531619 , ..., -2.1477673 ,\n",
       "           -1.5153155 ,  1.2006402 ],\n",
       "          [ 9.989147  , -1.6208357 , -2.0141776 , ..., -2.358514  ,\n",
       "           -0.59388757,  0.3119896 ]],\n",
       "  \n",
       "         [[ 8.587347  , -1.2437886 , -0.8282865 , ..., -1.8845134 ,\n",
       "           -0.8776066 ,  0.17455426],\n",
       "          [10.380057  , -1.5780667 , -1.803766  , ..., -2.704069  ,\n",
       "           -0.55834615, -0.03558685],\n",
       "          [10.829414  , -2.362208  , -1.269572  , ..., -1.5823823 ,\n",
       "           -1.8087388 ,  0.36498874],\n",
       "          ...,\n",
       "          [ 7.1168895 , -0.88662446, -0.4870476 , ..., -2.5633578 ,\n",
       "            0.14426728,  0.9111413 ],\n",
       "          [ 7.096218  , -1.1700975 , -0.35773754, ..., -2.2699778 ,\n",
       "           -0.09564033,  1.26194   ],\n",
       "          [ 7.7098618 , -1.3170224 ,  0.01609793, ..., -1.6988885 ,\n",
       "           -1.2465994 ,  0.9566728 ]]], dtype=float32), label_ids=array([[-100,    6,    6, ..., -100, -100, -100],\n",
       "         [-100,    6,    6, ..., -100, -100, -100],\n",
       "         [-100,    6, -100, ..., -100, -100, -100],\n",
       "         ...,\n",
       "         [-100,    6, -100, ..., -100, -100, -100],\n",
       "         [-100,    6,    6, ...,    6,    6, -100],\n",
       "         [-100,    6,    6, ..., -100, -100, -100]]), metrics={'test_loss': 9.452025413513184, 'test_precision': 0.37103448275862067, 'test_recall': 0.37675070028011204, 'test_f1': 0.3738707435719249, 'test_classification_report': '              precision    recall  f1-score   support\\n\\n         LOC       0.50      0.46      0.48       252\\n        MISC       0.00      0.00      0.00         0\\n         ORG       0.00      0.00      0.00         0\\n         PER       0.60      0.43      0.50       353\\n        TIME       0.00      0.00      0.00       109\\n\\n   micro avg       0.37      0.38      0.37       714\\n   macro avg       0.22      0.18      0.20       714\\nweighted avg       0.47      0.38      0.42       714\\n', 'test_runtime': 1.7398, 'test_samples_per_second': 29.314, 'test_steps_per_second': 4.023}),\n",
       "  'test_RHC.txt': PredictionOutput(predictions=array([[[ 7.4007897 , -2.1917467 , -0.61548513, ..., -0.99460465,\n",
       "           -1.755063  ,  1.6017941 ],\n",
       "          [ 6.8113627 , -1.5100821 , -3.2924266 , ..., -3.728944  ,\n",
       "            1.7492903 ,  1.1758021 ],\n",
       "          [ 7.077826  , -3.32953   , -1.0367486 , ..., -0.6911057 ,\n",
       "           -1.6127328 ,  3.1123426 ],\n",
       "          ...,\n",
       "          [ 8.236439  , -2.6352766 , -1.0992457 , ..., -0.8894239 ,\n",
       "           -2.4915261 ,  2.4854417 ],\n",
       "          [ 9.59289   , -2.4702609 , -1.5546874 , ..., -1.5382369 ,\n",
       "           -2.0618088 ,  1.6350696 ],\n",
       "          [ 8.636011  , -1.9814059 , -1.607641  , ..., -1.8321844 ,\n",
       "           -1.3322704 ,  1.2342465 ]],\n",
       "  \n",
       "         [[ 8.398513  , -1.8795105 , -1.2908511 , ..., -1.1328828 ,\n",
       "           -1.5079497 ,  0.5997091 ],\n",
       "          [10.577877  , -2.142214  , -2.0734372 , ..., -1.7535796 ,\n",
       "           -1.4174123 , -0.07154689],\n",
       "          [ 0.49864647,  9.009275  , -0.43963808, ..., -1.9470885 ,\n",
       "           -1.5628952 , -1.7679595 ],\n",
       "          ...,\n",
       "          [ 5.2474346 , -3.176481  , -0.19439667, ...,  2.9716308 ,\n",
       "           -3.263576  ,  2.5230546 ],\n",
       "          [ 9.044445  , -1.9221332 , -1.404772  , ..., -1.5965116 ,\n",
       "           -1.405182  ,  1.053433  ],\n",
       "          [ 2.218855  , -2.6459234 ,  0.18454465, ...,  3.9341114 ,\n",
       "           -2.4841285 ,  2.7589412 ]],\n",
       "  \n",
       "         [[ 7.4696193 , -1.8380479 , -1.0787221 , ..., -1.1043882 ,\n",
       "           -0.56962705,  0.34861374],\n",
       "          [ 8.531897  , -1.9013164 , -3.022756  , ..., -3.2171478 ,\n",
       "            1.8145198 , -0.22920594],\n",
       "          [ 6.4869695 , -2.2073557 , -2.7376845 , ..., -2.1475737 ,\n",
       "            1.9802002 ,  0.49446076],\n",
       "          ...,\n",
       "          [ 8.418011  , -1.7127866 , -2.5951087 , ..., -3.2927263 ,\n",
       "            0.9356976 , -0.5780761 ],\n",
       "          [ 5.646313  , -1.1935077 , -2.420813  , ..., -2.7086637 ,\n",
       "            2.2241974 , -0.34646907],\n",
       "          [ 8.007959  , -2.036007  , -2.4676058 , ..., -3.0705783 ,\n",
       "            1.2106295 , -0.3383655 ]]], dtype=float32), label_ids=array([[-100,    6,    6, ...,    5,    5, -100],\n",
       "         [-100,    6,    1, ..., -100, -100, -100],\n",
       "         [-100,    6,    6, ..., -100, -100, -100]]), metrics={'test_loss': 8.524347305297852, 'test_precision': 0.49122807017543857, 'test_recall': 0.6086956521739131, 'test_f1': 0.5436893203883495, 'test_classification_report': '              precision    recall  f1-score   support\\n\\n         LOC       0.54      0.76      0.63        17\\n        MISC       0.00      0.00      0.00         0\\n         PER       0.71      0.62      0.67        24\\n        TIME       0.00      0.00      0.00         5\\n\\n   micro avg       0.49      0.61      0.54        46\\n   macro avg       0.31      0.35      0.33        46\\nweighted avg       0.57      0.61      0.58        46\\n', 'test_runtime': 0.1066, 'test_samples_per_second': 28.146, 'test_steps_per_second': 9.382}),\n",
       "  'test_SA.txt': PredictionOutput(predictions=array([[[ 7.4190683 , -0.48773128, -0.3672096 , ..., -1.420455  ,\n",
       "           -2.0547838 ,  0.8870379 ],\n",
       "          [ 5.440731  ,  2.6879218 , -1.1730441 , ..., -3.4660826 ,\n",
       "           -0.51101947, -0.72031164],\n",
       "          [ 6.856686  ,  0.05436062,  1.3195624 , ..., -1.1986508 ,\n",
       "           -2.8392997 ,  0.6540146 ],\n",
       "          ...,\n",
       "          [ 8.288515  , -1.423143  , -0.45423883, ..., -1.2003018 ,\n",
       "           -2.414504  ,  1.462085  ],\n",
       "          [ 8.232765  , -1.8516592 ,  0.04561949, ..., -0.7672623 ,\n",
       "           -2.7627664 ,  1.5764667 ],\n",
       "          [ 8.448832  , -1.2063963 , -0.901371  , ..., -1.5511851 ,\n",
       "           -2.1815262 ,  1.3244963 ]],\n",
       "  \n",
       "         [[ 7.3870125 , -1.1418521 , -0.38834852, ..., -1.1026554 ,\n",
       "           -1.9777877 ,  1.0086594 ],\n",
       "          [ 9.799753  , -1.790775  , -1.2111585 , ..., -1.5897033 ,\n",
       "           -2.0179095 ,  1.0918679 ],\n",
       "          [ 9.953342  , -1.8476353 , -1.5171614 , ..., -1.6356723 ,\n",
       "           -1.8725214 ,  0.92212874],\n",
       "          ...,\n",
       "          [ 8.839886  , -1.6189631 , -0.85386574, ..., -1.474591  ,\n",
       "           -2.213861  ,  1.0851529 ],\n",
       "          [ 8.857065  , -1.6460816 , -0.8928988 , ..., -1.4200042 ,\n",
       "           -2.248867  ,  1.1208819 ],\n",
       "          [ 8.281567  , -1.094122  , -0.92202973, ..., -1.7257894 ,\n",
       "           -1.9667466 ,  0.91707534]],\n",
       "  \n",
       "         [[ 8.815371  , -1.6337848 , -1.9771343 , ..., -0.9459506 ,\n",
       "           -1.1227326 , -0.43523878],\n",
       "          [ 7.6866355 , -0.30324748, -3.9099383 , ..., -3.1750605 ,\n",
       "            1.5035403 , -1.6077945 ],\n",
       "          [ 9.488331  , -2.5871074 , -2.1412964 , ..., -0.02770829,\n",
       "           -2.218924  ,  0.6807042 ],\n",
       "          ...,\n",
       "          [10.966103  , -2.527156  , -2.204139  , ..., -1.2566644 ,\n",
       "           -1.7492925 , -0.44836578],\n",
       "          [10.903422  , -2.5755277 , -2.1520834 , ..., -1.1538053 ,\n",
       "           -1.7938634 , -0.4319536 ],\n",
       "          [11.036466  , -2.172082  , -2.396534  , ..., -1.8235465 ,\n",
       "           -1.140873  , -0.9722454 ]],\n",
       "  \n",
       "         ...,\n",
       "  \n",
       "         [[10.131166  , -2.182581  , -2.2436929 , ..., -1.9182944 ,\n",
       "           -0.2900298 , -0.06006232],\n",
       "          [11.200897  , -2.3055086 , -3.0109727 , ..., -2.7562654 ,\n",
       "            0.28398052, -0.35496938],\n",
       "          [11.493819  , -2.549507  , -2.900734  , ..., -2.407625  ,\n",
       "           -0.32589296, -0.19929928],\n",
       "          ...,\n",
       "          [ 8.855748  , -2.142266  , -2.7169971 , ..., -3.2516353 ,\n",
       "            1.3170617 , -0.11431629],\n",
       "          [ 4.01374   , -0.32645008, -3.4939194 , ..., -3.6006215 ,\n",
       "            2.3552995 , -1.3796569 ],\n",
       "          [ 8.181658  , -3.3949354 , -0.99368256, ..., -0.9357801 ,\n",
       "           -0.30479875,  1.6546329 ]],\n",
       "  \n",
       "         [[ 9.038102  , -1.6733826 , -1.467454  , ..., -1.5930126 ,\n",
       "           -1.333976  ,  0.40495735],\n",
       "          [10.9465885 , -2.4315698 , -2.289382  , ..., -2.0611336 ,\n",
       "           -1.2959523 ,  0.33144927],\n",
       "          [10.911171  , -2.6181526 , -2.5210407 , ..., -2.1706264 ,\n",
       "           -1.1868936 ,  0.61057156],\n",
       "          ...,\n",
       "          [ 8.593659  , -2.1254797 , -2.115287  , ..., -2.130545  ,\n",
       "           -0.09219732,  1.0499623 ],\n",
       "          [ 8.465911  , -2.073023  , -2.136165  , ..., -2.2072444 ,\n",
       "            0.08310608,  0.9605022 ],\n",
       "          [ 8.536474  , -2.5480793 , -1.3697369 , ..., -0.9471762 ,\n",
       "           -1.6638963 ,  1.8544873 ]],\n",
       "  \n",
       "         [[ 7.2022805 , -1.5742356 , -0.11473167, ..., -0.9301992 ,\n",
       "           -1.7788482 ,  0.86924326],\n",
       "          [ 8.483565  , -1.893069  , -2.657913  , ..., -2.509521  ,\n",
       "           -0.2833805 ,  0.24544081],\n",
       "          [ 0.44108406, -0.7594058 , -3.1668174 , ..., -1.6008252 ,\n",
       "            1.4331349 , -0.14254224],\n",
       "          ...,\n",
       "          [ 9.006219  , -2.3223672 , -0.8807643 , ..., -1.3310506 ,\n",
       "           -1.625104  ,  1.2605209 ],\n",
       "          [ 8.981874  , -2.182349  , -0.90720713, ..., -1.407146  ,\n",
       "           -1.6183877 ,  1.1601377 ],\n",
       "          [ 8.202471  , -1.8287532 , -0.62035537, ..., -1.475694  ,\n",
       "           -1.471601  ,  1.2480567 ]]], dtype=float32), label_ids=array([[-100,    1,    4, ..., -100, -100, -100],\n",
       "         [-100,    6,    6, ..., -100, -100, -100],\n",
       "         [-100,    6,    6, ..., -100, -100, -100],\n",
       "         ...,\n",
       "         [-100,    6,    2, ..., -100, -100, -100],\n",
       "         [-100,    6,    6, ..., -100, -100, -100],\n",
       "         [-100,    6,    6, ..., -100, -100, -100]]), metrics={'test_loss': 10.260847091674805, 'test_precision': 0.4542857142857143, 'test_recall': 0.3703416149068323, 'test_f1': 0.40804106073567153, 'test_classification_report': '              precision    recall  f1-score   support\\n\\n         LOC       0.49      0.53      0.51       253\\n        MISC       0.00      0.00      0.00         0\\n         ORG       0.00      0.00      0.00         0\\n         PER       0.53      0.44      0.48       777\\n        TIME       0.00      0.00      0.00       258\\n\\n   micro avg       0.45      0.37      0.41      1288\\n   macro avg       0.20      0.19      0.20      1288\\nweighted avg       0.41      0.37      0.39      1288\\n', 'test_runtime': 3.7939, 'test_samples_per_second': 30.048, 'test_steps_per_second': 3.954}),\n",
       "  'test_VOC.txt': PredictionOutput(predictions=array([[[ 8.923005  , -1.742746  , -1.6736338 , ..., -1.8108847 ,\n",
       "           -0.4390579 ,  0.26664284],\n",
       "          [ 1.5909592 , -0.8959427 , -3.2010493 , ..., -2.6829588 ,\n",
       "            2.764312  , -0.0685157 ],\n",
       "          [ 7.5998907 , -3.2364829 , -0.33917564, ...,  0.48113105,\n",
       "           -1.0010076 ,  1.7967196 ],\n",
       "          ...,\n",
       "          [10.964838  , -1.6966634 , -1.8266789 , ..., -2.2615669 ,\n",
       "           -1.0917683 , -0.5233565 ],\n",
       "          [10.968069  , -1.7503746 , -1.7680403 , ..., -2.1045427 ,\n",
       "           -1.2238581 , -0.42135167],\n",
       "          [10.484657  , -1.7328445 , -1.8366443 , ..., -2.3103485 ,\n",
       "           -0.7263738 , -0.40773112]],\n",
       "  \n",
       "         [[ 8.566278  , -1.6124024 , -1.4509938 , ..., -1.6918644 ,\n",
       "           -1.5444924 ,  0.6697927 ],\n",
       "          [ 9.148127  , -1.0285997 , -2.7971725 , ..., -3.3426352 ,\n",
       "           -0.21902557,  0.2924614 ],\n",
       "          [ 9.466447  , -1.8713351 , -1.7226591 , ..., -1.7385795 ,\n",
       "           -2.0008335 ,  1.1722379 ],\n",
       "          ...,\n",
       "          [ 5.056515  , -2.57997   ,  2.490495  , ...,  0.7418029 ,\n",
       "           -3.3598404 ,  1.67865   ],\n",
       "          [ 2.5426216 , -1.7402084 ,  6.3189826 , ...,  1.1084163 ,\n",
       "           -3.4021332 ,  0.579019  ],\n",
       "          [ 8.289401  , -2.2680233 , -0.7140574 , ..., -1.2371407 ,\n",
       "           -2.0789924 ,  1.4533076 ]],\n",
       "  \n",
       "         [[ 7.7724347 , -2.3362434 , -1.5193448 , ..., -1.503597  ,\n",
       "           -0.21066882,  1.726543  ],\n",
       "          [ 7.7429967 , -2.2461674 , -3.49774   , ..., -3.6752539 ,\n",
       "            3.0736713 ,  1.0364813 ],\n",
       "          [ 8.629366  , -3.4170823 , -1.860495  , ..., -1.2749964 ,\n",
       "           -0.22193635,  3.030616  ],\n",
       "          ...,\n",
       "          [ 8.075733  , -2.1463373 , -1.6960502 , ..., -2.4259937 ,\n",
       "            0.01352909,  1.6711018 ],\n",
       "          [ 7.6681876 , -1.9906448 , -1.8955381 , ..., -2.734589  ,\n",
       "            0.46920073,  1.6315274 ],\n",
       "          [ 7.1986637 , -2.4597628 , -1.1940051 , ..., -1.643126  ,\n",
       "           -0.3736253 ,  2.1952062 ]],\n",
       "  \n",
       "         ...,\n",
       "  \n",
       "         [[ 7.201163  , -1.759608  , -0.79850423, ..., -1.2280633 ,\n",
       "           -0.7306696 ,  1.6470783 ],\n",
       "          [ 8.066235  , -1.6925725 , -2.5542598 , ..., -3.138137  ,\n",
       "            1.6093088 ,  1.3245909 ],\n",
       "          [ 8.372704  , -2.7622752 , -1.6660262 , ..., -1.6426752 ,\n",
       "           -0.48525378,  2.8639853 ],\n",
       "          ...,\n",
       "          [ 8.964754  , -2.108712  , -1.1168    , ..., -1.5459949 ,\n",
       "           -1.3237501 ,  1.54018   ],\n",
       "          [ 8.510702  , -2.328711  , -0.8066334 , ..., -1.1696087 ,\n",
       "           -1.4806072 ,  1.9263813 ],\n",
       "          [ 8.9346075 , -1.7496165 , -1.3633137 , ..., -1.9958005 ,\n",
       "           -0.7500233 ,  1.1702225 ]],\n",
       "  \n",
       "         [[ 8.371515  , -1.064555  , -0.84033453, ..., -1.5105615 ,\n",
       "           -1.515317  ,  0.41049626],\n",
       "          [10.298212  , -1.9953699 , -1.6891062 , ..., -1.9279894 ,\n",
       "           -1.2722812 ,  0.46427238],\n",
       "          [ 9.830036  , -2.0765617 , -1.7504113 , ..., -1.8398154 ,\n",
       "           -1.1885836 ,  0.8162589 ],\n",
       "          ...,\n",
       "          [10.008022  , -1.885889  , -1.2596141 , ..., -1.5106778 ,\n",
       "           -1.9855201 ,  0.5763632 ],\n",
       "          [ 9.643029  , -1.6221962 , -1.133981  , ..., -1.6813855 ,\n",
       "           -1.8638821 ,  0.52847326],\n",
       "          [ 9.593365  , -1.4938971 , -1.4174263 , ..., -1.7800655 ,\n",
       "           -1.6895206 ,  0.5870207 ]],\n",
       "  \n",
       "         [[ 7.1668296 , -1.1007732 , -0.5526217 , ..., -1.2479596 ,\n",
       "           -1.2017426 ,  0.5185916 ],\n",
       "          [ 4.831774  ,  2.0809166 , -2.2342176 , ..., -4.160658  ,\n",
       "            2.4358554 , -0.4859016 ],\n",
       "          [ 8.597116  , -2.5771425 ,  0.31994385, ..., -1.1439202 ,\n",
       "           -1.3331385 ,  1.2566597 ],\n",
       "          ...,\n",
       "          [ 8.824171  , -2.2120714 , -0.20932545, ..., -1.135977  ,\n",
       "           -2.1191998 ,  0.9831523 ],\n",
       "          [ 9.220001  , -1.8256062 , -0.5032672 , ..., -1.5891302 ,\n",
       "           -1.6833512 ,  0.4814973 ],\n",
       "          [ 8.352491  , -1.8377334 , -0.48415858, ..., -1.4840989 ,\n",
       "           -1.7615471 ,  1.0468557 ]]], dtype=float32), label_ids=array([[-100,    0,    6, ..., -100, -100, -100],\n",
       "         [-100,    6,    6, ..., -100, -100, -100],\n",
       "         [-100,    6, -100, ..., -100, -100, -100],\n",
       "         ...,\n",
       "         [-100,    6, -100, ..., -100, -100, -100],\n",
       "         [-100,    6,    6, ..., -100, -100, -100],\n",
       "         [-100,    1,    4, ..., -100, -100, -100]]), metrics={'test_loss': 11.0033540725708, 'test_precision': 0.2912371134020619, 'test_recall': 0.29161290322580646, 'test_f1': 0.29142488716956805, 'test_classification_report': '              precision    recall  f1-score   support\\n\\n         LOC       0.48      0.47      0.48       312\\n        MISC       0.00      0.00      0.00         0\\n         ORG       0.00      0.00      0.00         0\\n         PER       0.35      0.28      0.31       283\\n        TIME       0.00      0.00      0.00       180\\n\\n   micro avg       0.29      0.29      0.29       775\\n   macro avg       0.17      0.15      0.16       775\\nweighted avg       0.32      0.29      0.30       775\\n', 'test_runtime': 3.7087, 'test_samples_per_second': 29.929, 'test_steps_per_second': 3.775})}}"
      ]
     },
     "execution_count": 22,
     "metadata": {},
     "output_type": "execute_result"
    }
   ],
   "source": [
    "all_preds"
   ]
  },
  {
   "cell_type": "code",
   "execution_count": null,
   "metadata": {},
   "outputs": [],
   "source": []
  },
  {
   "cell_type": "code",
   "execution_count": 14,
   "metadata": {},
   "outputs": [
    {
     "data": {
      "application/vnd.jupyter.widget-view+json": {
       "model_id": "",
       "version_major": 2,
       "version_minor": 0
      },
      "text/plain": [
       "Map:   0%|          | 0/11104 [00:00<?, ? examples/s]"
      ]
     },
     "metadata": {},
     "output_type": "display_data"
    },
    {
     "data": {
      "application/vnd.jupyter.widget-view+json": {
       "model_id": "",
       "version_major": 2,
       "version_minor": 0
      },
      "text/plain": [
       "Map:   0%|          | 0/2761 [00:00<?, ? examples/s]"
      ]
     },
     "metadata": {},
     "output_type": "display_data"
    },
    {
     "data": {
      "application/vnd.jupyter.widget-view+json": {
       "model_id": "",
       "version_major": 2,
       "version_minor": 0
      },
      "text/plain": [
       "Map:   0%|          | 0/51 [00:00<?, ? examples/s]"
      ]
     },
     "metadata": {},
     "output_type": "display_data"
    },
    {
     "data": {
      "application/vnd.jupyter.widget-view+json": {
       "model_id": "",
       "version_major": 2,
       "version_minor": 0
      },
      "text/plain": [
       "Map:   0%|          | 0/3 [00:00<?, ? examples/s]"
      ]
     },
     "metadata": {},
     "output_type": "display_data"
    },
    {
     "data": {
      "application/vnd.jupyter.widget-view+json": {
       "model_id": "",
       "version_major": 2,
       "version_minor": 0
      },
      "text/plain": [
       "Map:   0%|          | 0/114 [00:00<?, ? examples/s]"
      ]
     },
     "metadata": {},
     "output_type": "display_data"
    },
    {
     "data": {
      "application/vnd.jupyter.widget-view+json": {
       "model_id": "",
       "version_major": 2,
       "version_minor": 0
      },
      "text/plain": [
       "Map:   0%|          | 0/111 [00:00<?, ? examples/s]"
      ]
     },
     "metadata": {},
     "output_type": "display_data"
    },
    {
     "data": {
      "text/html": [],
      "text/plain": [
       "<IPython.core.display.HTML object>"
      ]
     },
     "metadata": {},
     "output_type": "display_data"
    },
    {
     "name": "stderr",
     "output_type": "stream",
     "text": [
      "/home/vprovat/anaconda3/lib/python3.7/site-packages/seqeval/metrics/v1.py:57: UndefinedMetricWarning: Precision and F-score are ill-defined and being set to 0.0 in labels with no predicted samples. Use `zero_division` parameter to control this behavior.\n",
      "  _warn_prf(average, modifier, msg_start, len(result))\n",
      "/home/vprovat/anaconda3/lib/python3.7/site-packages/seqeval/metrics/v1.py:57: UndefinedMetricWarning: Recall and F-score are ill-defined and being set to 0.0 in labels with no true samples. Use `zero_division` parameter to control this behavior.\n",
      "  _warn_prf(average, modifier, msg_start, len(result))\n"
     ]
    }
   ],
   "source": [
    "# Build confusion matrices\n",
    "\n",
    "preds = get_predictions(model_names['WikiNEuRal'], 'test_RHC')"
   ]
  },
  {
   "cell_type": "code",
   "execution_count": 19,
   "metadata": {},
   "outputs": [],
   "source": [
    "predictions = np.argmax(preds.predictions, axis=2)\n",
    "labels = preds.label_ids\n",
    "    \n",
    "# Remove ignored index (special tokens)\n",
    "true_predictions = [\n",
    "    [id2label[p] for (p, l) in zip(prediction, label) if l != -100]\n",
    "    for prediction, label in zip(predictions, labels)\n",
    "]\n",
    "true_labels = [\n",
    "    [id2label_original[l] for (p, l) in zip(prediction, label) if l != -100]\n",
    "    for prediction, label in zip(predictions, labels)\n",
    "]"
   ]
  },
  {
   "cell_type": "code",
   "execution_count": 24,
   "metadata": {
    "collapsed": true
   },
   "outputs": [
    {
     "data": {
      "text/plain": [
       "[['O',\n",
       "  'O',\n",
       "  'O',\n",
       "  'O',\n",
       "  'O',\n",
       "  'O',\n",
       "  'O',\n",
       "  'O',\n",
       "  'O',\n",
       "  'O',\n",
       "  'O',\n",
       "  'O',\n",
       "  'O',\n",
       "  'O',\n",
       "  'O',\n",
       "  'O',\n",
       "  'O',\n",
       "  'O',\n",
       "  'O',\n",
       "  'O',\n",
       "  'O',\n",
       "  'O',\n",
       "  'O',\n",
       "  'O',\n",
       "  'O',\n",
       "  'O',\n",
       "  'O',\n",
       "  'O',\n",
       "  'O',\n",
       "  'O',\n",
       "  'O',\n",
       "  'B-PER',\n",
       "  'I-PER',\n",
       "  'O',\n",
       "  'O',\n",
       "  'O',\n",
       "  'O',\n",
       "  'O',\n",
       "  'O',\n",
       "  'O',\n",
       "  'O',\n",
       "  'O',\n",
       "  'O',\n",
       "  'B-PER',\n",
       "  'I-PER',\n",
       "  'O',\n",
       "  'O',\n",
       "  'O',\n",
       "  'O',\n",
       "  'O',\n",
       "  'O',\n",
       "  'O',\n",
       "  'O',\n",
       "  'O',\n",
       "  'O',\n",
       "  'O',\n",
       "  'O',\n",
       "  'O',\n",
       "  'O',\n",
       "  'O',\n",
       "  'O',\n",
       "  'O',\n",
       "  'O',\n",
       "  'O',\n",
       "  'B-TIME',\n",
       "  'I-TIME',\n",
       "  'I-TIME',\n",
       "  'I-TIME',\n",
       "  'O',\n",
       "  'O',\n",
       "  'O',\n",
       "  'O',\n",
       "  'O',\n",
       "  'O',\n",
       "  'O',\n",
       "  'B-TIME',\n",
       "  'I-TIME',\n",
       "  'I-TIME',\n",
       "  'O',\n",
       "  'O',\n",
       "  'O',\n",
       "  'O',\n",
       "  'O',\n",
       "  'O',\n",
       "  'O',\n",
       "  'O',\n",
       "  'O',\n",
       "  'O',\n",
       "  'O',\n",
       "  'O',\n",
       "  'O',\n",
       "  'O',\n",
       "  'O',\n",
       "  'O',\n",
       "  'O',\n",
       "  'O',\n",
       "  'O',\n",
       "  'O',\n",
       "  'O',\n",
       "  'O',\n",
       "  'O',\n",
       "  'O',\n",
       "  'O',\n",
       "  'O',\n",
       "  'O',\n",
       "  'O',\n",
       "  'O',\n",
       "  'B-LOC',\n",
       "  'O',\n",
       "  'O',\n",
       "  'O',\n",
       "  'B-PER',\n",
       "  'I-PER',\n",
       "  'I-PER',\n",
       "  'B-PER',\n",
       "  'O',\n",
       "  'O',\n",
       "  'O',\n",
       "  'O',\n",
       "  'O',\n",
       "  'B-PER',\n",
       "  'I-PER',\n",
       "  'O',\n",
       "  'O',\n",
       "  'O',\n",
       "  'B-LOC',\n",
       "  'O',\n",
       "  'B-PER',\n",
       "  'I-PER',\n",
       "  'I-PER',\n",
       "  'I-PER',\n",
       "  'O',\n",
       "  'O',\n",
       "  'B-LOC',\n",
       "  'O',\n",
       "  'O',\n",
       "  'O',\n",
       "  'O',\n",
       "  'O',\n",
       "  'O',\n",
       "  'O',\n",
       "  'O',\n",
       "  'O',\n",
       "  'O',\n",
       "  'O',\n",
       "  'O',\n",
       "  'O',\n",
       "  'O',\n",
       "  'O',\n",
       "  'O',\n",
       "  'O',\n",
       "  'O',\n",
       "  'O',\n",
       "  'O',\n",
       "  'O',\n",
       "  'B-PER',\n",
       "  'I-PER',\n",
       "  'I-PER',\n",
       "  'O',\n",
       "  'O',\n",
       "  'O',\n",
       "  'O',\n",
       "  'O',\n",
       "  'O',\n",
       "  'B-PER',\n",
       "  'I-PER',\n",
       "  'I-PER',\n",
       "  'O',\n",
       "  'O',\n",
       "  'O',\n",
       "  'O',\n",
       "  'O',\n",
       "  'O',\n",
       "  'O',\n",
       "  'B-PER',\n",
       "  'I-PER',\n",
       "  'O',\n",
       "  'O',\n",
       "  'O',\n",
       "  'O',\n",
       "  'O',\n",
       "  'O',\n",
       "  'O',\n",
       "  'O',\n",
       "  'O',\n",
       "  'O',\n",
       "  'B-LOC',\n",
       "  'O',\n",
       "  'O',\n",
       "  'O',\n",
       "  'O',\n",
       "  'B-PER',\n",
       "  'I-PER',\n",
       "  'O',\n",
       "  'O',\n",
       "  'B-PER',\n",
       "  'B-PER',\n",
       "  'I-PER',\n",
       "  'O',\n",
       "  'O',\n",
       "  'O',\n",
       "  'O',\n",
       "  'B-PER',\n",
       "  'I-PER',\n",
       "  'O',\n",
       "  'O',\n",
       "  'O',\n",
       "  'O',\n",
       "  'B-LOC',\n",
       "  'O',\n",
       "  'O',\n",
       "  'O',\n",
       "  'O',\n",
       "  'O',\n",
       "  'O',\n",
       "  'O',\n",
       "  'O',\n",
       "  'O',\n",
       "  'O',\n",
       "  'B-PER',\n",
       "  'I-PER',\n",
       "  'O',\n",
       "  'O',\n",
       "  'O',\n",
       "  'O',\n",
       "  'O',\n",
       "  'O',\n",
       "  'O',\n",
       "  'O',\n",
       "  'O',\n",
       "  'O',\n",
       "  'O',\n",
       "  'O',\n",
       "  'O',\n",
       "  'O',\n",
       "  'O',\n",
       "  'O',\n",
       "  'O',\n",
       "  'O',\n",
       "  'O',\n",
       "  'O',\n",
       "  'B-LOC',\n",
       "  'B-LOC',\n",
       "  'O',\n",
       "  'O',\n",
       "  'B-TIME',\n",
       "  'I-TIME',\n",
       "  'I-TIME',\n",
       "  'I-TIME',\n",
       "  'I-TIME',\n",
       "  'I-TIME',\n",
       "  'I-TIME',\n",
       "  'I-TIME'],\n",
       " ['O',\n",
       "  'B-PER',\n",
       "  'I-PER',\n",
       "  'I-PER',\n",
       "  'I-PER',\n",
       "  'O',\n",
       "  'O',\n",
       "  'O',\n",
       "  'O',\n",
       "  'O',\n",
       "  'B-LOC',\n",
       "  'O',\n",
       "  'O',\n",
       "  'B-LOC',\n",
       "  'O',\n",
       "  'O',\n",
       "  'B-LOC',\n",
       "  'O',\n",
       "  'O',\n",
       "  'O',\n",
       "  'B-LOC',\n",
       "  'O',\n",
       "  'O',\n",
       "  'O',\n",
       "  'O',\n",
       "  'O',\n",
       "  'O',\n",
       "  'O',\n",
       "  'O',\n",
       "  'O',\n",
       "  'O',\n",
       "  'O',\n",
       "  'O',\n",
       "  'O',\n",
       "  'O',\n",
       "  'B-LOC',\n",
       "  'O',\n",
       "  'O',\n",
       "  'O',\n",
       "  'O',\n",
       "  'O',\n",
       "  'O',\n",
       "  'O',\n",
       "  'O',\n",
       "  'B-TIME',\n",
       "  'I-TIME',\n",
       "  'B-TIME',\n",
       "  'I-TIME',\n",
       "  'O',\n",
       "  'O',\n",
       "  'O',\n",
       "  'O',\n",
       "  'O',\n",
       "  'O',\n",
       "  'O',\n",
       "  'O',\n",
       "  'O',\n",
       "  'O',\n",
       "  'O',\n",
       "  'O',\n",
       "  'O',\n",
       "  'O',\n",
       "  'O',\n",
       "  'O',\n",
       "  'B-PER',\n",
       "  'I-PER',\n",
       "  'I-PER',\n",
       "  'I-PER',\n",
       "  'O',\n",
       "  'O',\n",
       "  'O',\n",
       "  'B-LOC',\n",
       "  'O',\n",
       "  'O',\n",
       "  'O',\n",
       "  'O',\n",
       "  'O',\n",
       "  'O',\n",
       "  'O',\n",
       "  'B-PER',\n",
       "  'I-PER',\n",
       "  'I-PER',\n",
       "  'O',\n",
       "  'O',\n",
       "  'O',\n",
       "  'O',\n",
       "  'O',\n",
       "  'O',\n",
       "  'O',\n",
       "  'O',\n",
       "  'O',\n",
       "  'O',\n",
       "  'O',\n",
       "  'O',\n",
       "  'O',\n",
       "  'O',\n",
       "  'B-LOC',\n",
       "  'I-LOC',\n",
       "  'O',\n",
       "  'O',\n",
       "  'B-LOC',\n",
       "  'O',\n",
       "  'O',\n",
       "  'O',\n",
       "  'O',\n",
       "  'O',\n",
       "  'O',\n",
       "  'O',\n",
       "  'O',\n",
       "  'O',\n",
       "  'O',\n",
       "  'O',\n",
       "  'O',\n",
       "  'O',\n",
       "  'O',\n",
       "  'O',\n",
       "  'O',\n",
       "  'O',\n",
       "  'O',\n",
       "  'O',\n",
       "  'O',\n",
       "  'O',\n",
       "  'O',\n",
       "  'O',\n",
       "  'O',\n",
       "  'O',\n",
       "  'O',\n",
       "  'O',\n",
       "  'O',\n",
       "  'O',\n",
       "  'O',\n",
       "  'O',\n",
       "  'O',\n",
       "  'O',\n",
       "  'O',\n",
       "  'O',\n",
       "  'O',\n",
       "  'O',\n",
       "  'O',\n",
       "  'O',\n",
       "  'O',\n",
       "  'O',\n",
       "  'O',\n",
       "  'O',\n",
       "  'O',\n",
       "  'O',\n",
       "  'O',\n",
       "  'B-PER',\n",
       "  'I-PER',\n",
       "  'O',\n",
       "  'O',\n",
       "  'B-PER',\n",
       "  'I-PER',\n",
       "  'B-PER',\n",
       "  'I-PER',\n",
       "  'I-PER',\n",
       "  'O',\n",
       "  'O',\n",
       "  'O',\n",
       "  'B-LOC',\n",
       "  'O',\n",
       "  'O',\n",
       "  'O',\n",
       "  'O',\n",
       "  'B-PER',\n",
       "  'I-PER',\n",
       "  'O',\n",
       "  'B-PER',\n",
       "  'I-PER',\n",
       "  'O',\n",
       "  'O',\n",
       "  'O',\n",
       "  'O',\n",
       "  'O',\n",
       "  'O',\n",
       "  'O',\n",
       "  'O',\n",
       "  'O',\n",
       "  'O',\n",
       "  'O',\n",
       "  'O',\n",
       "  'O',\n",
       "  'O',\n",
       "  'O',\n",
       "  'O',\n",
       "  'O',\n",
       "  'O',\n",
       "  'O',\n",
       "  'O',\n",
       "  'O',\n",
       "  'O',\n",
       "  'O',\n",
       "  'O',\n",
       "  'O',\n",
       "  'O',\n",
       "  'O',\n",
       "  'O',\n",
       "  'O',\n",
       "  'O',\n",
       "  'O',\n",
       "  'O',\n",
       "  'O',\n",
       "  'O',\n",
       "  'O',\n",
       "  'O',\n",
       "  'O',\n",
       "  'O',\n",
       "  'O',\n",
       "  'O',\n",
       "  'O',\n",
       "  'O',\n",
       "  'O',\n",
       "  'O',\n",
       "  'O',\n",
       "  'O',\n",
       "  'O',\n",
       "  'O',\n",
       "  'O',\n",
       "  'O',\n",
       "  'O',\n",
       "  'O',\n",
       "  'O',\n",
       "  'O',\n",
       "  'O',\n",
       "  'O',\n",
       "  'O',\n",
       "  'O',\n",
       "  'O',\n",
       "  'O',\n",
       "  'O',\n",
       "  'O',\n",
       "  'O',\n",
       "  'O',\n",
       "  'O',\n",
       "  'O',\n",
       "  'O',\n",
       "  'O',\n",
       "  'O',\n",
       "  'O'],\n",
       " ['O',\n",
       "  'O',\n",
       "  'O',\n",
       "  'O',\n",
       "  'B-PER',\n",
       "  'I-PER',\n",
       "  'I-PER',\n",
       "  'I-PER',\n",
       "  'I-PER',\n",
       "  'O',\n",
       "  'O',\n",
       "  'O',\n",
       "  'O',\n",
       "  'O',\n",
       "  'O',\n",
       "  'O',\n",
       "  'B-PER',\n",
       "  'I-PER',\n",
       "  'I-PER',\n",
       "  'O',\n",
       "  'O',\n",
       "  'O',\n",
       "  'B-LOC',\n",
       "  'O',\n",
       "  'O',\n",
       "  'O',\n",
       "  'O',\n",
       "  'O',\n",
       "  'O',\n",
       "  'O',\n",
       "  'O']]"
      ]
     },
     "execution_count": 24,
     "metadata": {},
     "output_type": "execute_result"
    }
   ],
   "source": [
    "true_labels"
   ]
  },
  {
   "cell_type": "code",
   "execution_count": 21,
   "metadata": {},
   "outputs": [
    {
     "data": {
      "text/plain": [
       "['B-LOC', 'B-PER', 'B-TIME', 'I-LOC', 'I-PER', 'I-TIME', 'O']"
      ]
     },
     "execution_count": 21,
     "metadata": {},
     "output_type": "execute_result"
    }
   ],
   "source": [
    "label_list"
   ]
  },
  {
   "cell_type": "code",
   "execution_count": 33,
   "metadata": {},
   "outputs": [],
   "source": [
    "flattened_preds = [pred for true_preds in true_predictions for pred in true_preds ]\n",
    "flattened_labels = [lab for true_labs in true_labels for lab in true_labs ]"
   ]
  },
  {
   "cell_type": "code",
   "execution_count": 36,
   "metadata": {},
   "outputs": [
    {
     "name": "stderr",
     "output_type": "stream",
     "text": [
      "/home/vprovat/anaconda3/lib/python3.7/site-packages/sklearn/utils/validation.py:72: FutureWarning: Pass labels=['B-LOC', 'B-PER', 'B-TIME', 'I-LOC', 'I-PER', 'I-TIME', 'O'] as keyword args. From version 1.0 (renaming of 0.25) passing these as positional arguments will result in an error\n",
      "  \"will result in an error\", FutureWarning)\n"
     ]
    }
   ],
   "source": [
    "matrix = confusion_matrix(flattened_labels, flattened_preds, label_list)"
   ]
  },
  {
   "cell_type": "code",
   "execution_count": 37,
   "metadata": {},
   "outputs": [
    {
     "data": {
      "text/plain": [
       "array([[ 13,   0,   0,   3,   0,   0,   1],\n",
       "       [  0,  14,   0,   0,   4,   0,   6],\n",
       "       [  0,   0,   0,   0,   0,   0,   5],\n",
       "       [  0,   0,   0,   1,   0,   0,   0],\n",
       "       [  0,   1,   0,   0,  32,   0,   3],\n",
       "       [  0,   0,   0,   0,   0,   0,  12],\n",
       "       [ 11,   0,   0,   4,   5,   0, 391]])"
      ]
     },
     "execution_count": 37,
     "metadata": {},
     "output_type": "execute_result"
    }
   ],
   "source": [
    "matrix"
   ]
  },
  {
   "cell_type": "code",
   "execution_count": 6,
   "metadata": {},
   "outputs": [
    {
     "data": {
      "application/vnd.jupyter.widget-view+json": {
       "model_id": "",
       "version_major": 2,
       "version_minor": 0
      },
      "text/plain": [
       "Map:   0%|          | 0/11104 [00:00<?, ? examples/s]"
      ]
     },
     "metadata": {},
     "output_type": "display_data"
    },
    {
     "data": {
      "application/vnd.jupyter.widget-view+json": {
       "model_id": "",
       "version_major": 2,
       "version_minor": 0
      },
      "text/plain": [
       "Map:   0%|          | 0/2761 [00:00<?, ? examples/s]"
      ]
     },
     "metadata": {},
     "output_type": "display_data"
    },
    {
     "data": {
      "application/vnd.jupyter.widget-view+json": {
       "model_id": "",
       "version_major": 2,
       "version_minor": 0
      },
      "text/plain": [
       "Map:   0%|          | 0/111 [00:00<?, ? examples/s]"
      ]
     },
     "metadata": {},
     "output_type": "display_data"
    },
    {
     "data": {
      "text/html": [],
      "text/plain": [
       "<IPython.core.display.HTML object>"
      ]
     },
     "metadata": {},
     "output_type": "display_data"
    },
    {
     "name": "stdout",
     "output_type": "stream",
     "text": [
      "[[0 5 0 ... 0 0 0]\n",
      " [0 0 0 ... 0 2 0]\n",
      " [0 0 0 ... 0 0 0]\n",
      " ...\n",
      " [0 0 0 ... 0 0 0]\n",
      " [0 0 0 ... 0 0 0]\n",
      " [0 0 0 ... 0 0 0]]\n"
     ]
    },
    {
     "name": "stderr",
     "output_type": "stream",
     "text": [
      "/home/vprovat/anaconda3/lib/python3.7/site-packages/seqeval/metrics/v1.py:57: UndefinedMetricWarning: Precision and F-score are ill-defined and being set to 0.0 in labels with no predicted samples. Use `zero_division` parameter to control this behavior.\n",
      "  _warn_prf(average, modifier, msg_start, len(result))\n",
      "/home/vprovat/anaconda3/lib/python3.7/site-packages/seqeval/metrics/v1.py:57: UndefinedMetricWarning: Recall and F-score are ill-defined and being set to 0.0 in labels with no true samples. Use `zero_division` parameter to control this behavior.\n",
      "  _warn_prf(average, modifier, msg_start, len(result))\n"
     ]
    },
    {
     "data": {
      "text/plain": [
       "{'test_loss': 11.0033540725708,\n",
       " 'test_precision': 0.2912371134020619,\n",
       " 'test_recall': 0.29161290322580646,\n",
       " 'test_f1': 0.29142488716956805,\n",
       " 'test_classification_report': '              precision    recall  f1-score   support\\n\\n         LOC       0.48      0.47      0.48       312\\n        MISC       0.00      0.00      0.00         0\\n         ORG       0.00      0.00      0.00         0\\n         PER       0.35      0.28      0.31       283\\n        TIME       0.00      0.00      0.00       180\\n\\n   micro avg       0.29      0.29      0.29       775\\n   macro avg       0.17      0.15      0.16       775\\nweighted avg       0.32      0.29      0.30       775\\n',\n",
       " 'test_runtime': 3.7133,\n",
       " 'test_samples_per_second': 29.892,\n",
       " 'test_steps_per_second': 3.77}"
      ]
     },
     "execution_count": 6,
     "metadata": {},
     "output_type": "execute_result"
    }
   ],
   "source": [
    "evaluate_with_trainer(model_names['WikiNEuRal'])"
   ]
  },
  {
   "cell_type": "code",
   "execution_count": 10,
   "metadata": {},
   "outputs": [
    {
     "name": "stdout",
     "output_type": "stream",
     "text": [
      "GysBERT /ivi/ilps/personal/vprovat/KB/models/GysBERT-NER-v2\n",
      "BERTje /ivi/ilps/personal/vprovat/KB/models/BERTje-NER-v2\n",
      "BERT-multi-cased /ivi/ilps/personal/vprovat/KB/models/BERT-multi-cased-NER-v2\n",
      "WikiNEuRal Babelscape/wikineural-multilingual-ner\n"
     ]
    }
   ],
   "source": [
    "for name, path in model_names.items():\n",
    "    print(name, path)"
   ]
  },
  {
   "cell_type": "code",
   "execution_count": 19,
   "metadata": {},
   "outputs": [],
   "source": [
    "test = '              precision    recall  f1-score   support\\n\\n         LOC       0.48      0.47      0.48       312\\n        MISC       0.00      0.00      0.00         0\\n         ORG       0.00      0.00      0.00         0\\n         PER       0.35      0.28      0.31       283\\n        TIME       0.00      0.00      0.00       180\\n\\n   micro avg       0.29      0.29      0.29       775\\n   macro avg       0.17      0.15      0.16       775\\nweighted avg       0.32      0.29      0.30       775\\n'"
   ]
  },
  {
   "cell_type": "code",
   "execution_count": 26,
   "metadata": {
    "collapsed": true
   },
   "outputs": [
    {
     "name": "stdout",
     "output_type": "stream",
     "text": [
      "[' LOC', ' 0.48', '0.47', '0.48', ' 312']\n",
      "['MISC', ' 0.00', '0.00', '0.00', ' 0']\n",
      "[' ORG', ' 0.00', '0.00', '0.00', ' 0']\n",
      "[' PER', ' 0.35', '0.28', '0.31', ' 283']\n",
      "['TIME', ' 0.00', '0.00', '0.00', ' 180']\n",
      "[' micro avg', ' 0.29', '0.29', '0.29', ' 775']\n",
      "[' macro avg', ' 0.17', '0.15', '0.16', ' 775']\n",
      "['weighted avg', ' 0.32', '0.29', '0.30', ' 775']\n"
     ]
    }
   ],
   "source": [
    "for line in test.split('\\n')[1:]:\n",
    "#     if len(line.split()) < 2:\n",
    "#         continue\n",
    "#     print(line)\n",
    "#     print(line.split('  '))\n",
    "    row = [item for item in line.split('  ') if item]\n",
    "    if not row:\n",
    "        continue\n",
    "    print(row)"
   ]
  },
  {
   "cell_type": "code",
   "execution_count": 18,
   "metadata": {
    "collapsed": true
   },
   "outputs": [
    {
     "data": {
      "text/plain": [
       "dict_values([Dataset({\n",
       "    features: ['tokens', 'ner_tags'],\n",
       "    num_rows: 11104\n",
       "}), Dataset({\n",
       "    features: ['tokens', 'ner_tags'],\n",
       "    num_rows: 2761\n",
       "}), Dataset({\n",
       "    features: ['tokens', 'ner_tags'],\n",
       "    num_rows: 51\n",
       "}), Dataset({\n",
       "    features: ['tokens', 'ner_tags'],\n",
       "    num_rows: 3\n",
       "}), Dataset({\n",
       "    features: ['tokens', 'ner_tags'],\n",
       "    num_rows: 114\n",
       "}), Dataset({\n",
       "    features: ['tokens', 'ner_tags'],\n",
       "    num_rows: 111\n",
       "})])"
      ]
     },
     "execution_count": 18,
     "metadata": {},
     "output_type": "execute_result"
    }
   ],
   "source": [
    "dct.values()"
   ]
  },
  {
   "cell_type": "code",
   "execution_count": 19,
   "metadata": {},
   "outputs": [
    {
     "data": {
      "application/vnd.jupyter.widget-view+json": {
       "model_id": "",
       "version_major": 2,
       "version_minor": 0
      },
      "text/plain": [
       "Map:   0%|          | 0/11104 [00:00<?, ? examples/s]"
      ]
     },
     "metadata": {},
     "output_type": "display_data"
    },
    {
     "data": {
      "application/vnd.jupyter.widget-view+json": {
       "model_id": "",
       "version_major": 2,
       "version_minor": 0
      },
      "text/plain": [
       "Map:   0%|          | 0/2761 [00:00<?, ? examples/s]"
      ]
     },
     "metadata": {},
     "output_type": "display_data"
    },
    {
     "data": {
      "application/vnd.jupyter.widget-view+json": {
       "model_id": "",
       "version_major": 2,
       "version_minor": 0
      },
      "text/plain": [
       "Map:   0%|          | 0/51 [00:00<?, ? examples/s]"
      ]
     },
     "metadata": {},
     "output_type": "display_data"
    },
    {
     "data": {
      "application/vnd.jupyter.widget-view+json": {
       "model_id": "",
       "version_major": 2,
       "version_minor": 0
      },
      "text/plain": [
       "Map:   0%|          | 0/3 [00:00<?, ? examples/s]"
      ]
     },
     "metadata": {},
     "output_type": "display_data"
    },
    {
     "data": {
      "application/vnd.jupyter.widget-view+json": {
       "model_id": "",
       "version_major": 2,
       "version_minor": 0
      },
      "text/plain": [
       "Map:   0%|          | 0/114 [00:00<?, ? examples/s]"
      ]
     },
     "metadata": {},
     "output_type": "display_data"
    },
    {
     "data": {
      "application/vnd.jupyter.widget-view+json": {
       "model_id": "",
       "version_major": 2,
       "version_minor": 0
      },
      "text/plain": [
       "Map:   0%|          | 0/111 [00:00<?, ? examples/s]"
      ]
     },
     "metadata": {},
     "output_type": "display_data"
    },
    {
     "data": {
      "text/html": [],
      "text/plain": [
       "<IPython.core.display.HTML object>"
      ]
     },
     "metadata": {},
     "output_type": "display_data"
    },
    {
     "name": "stdout",
     "output_type": "stream",
     "text": [
      "[[6 6 6 ... 6 6 6]\n",
      " [6 6 6 ... 6 6 6]\n",
      " [6 6 6 ... 6 6 6]\n",
      " ...\n",
      " [6 6 6 ... 6 6 6]\n",
      " [6 6 6 ... 6 6 6]\n",
      " [6 6 6 ... 6 6 6]]\n"
     ]
    },
    {
     "data": {
      "text/html": [],
      "text/plain": [
       "<IPython.core.display.HTML object>"
      ]
     },
     "metadata": {},
     "output_type": "display_data"
    },
    {
     "name": "stdout",
     "output_type": "stream",
     "text": [
      "[[6 6 6 6 6 6 6 6 6 6 6 6 6 6 6 6 6 6 6 6 6 6 6 6 6 6 6 6 6 6 6 6 6 6 6 6\n",
      "  6 6 6 6 6 6 6 6 6 6 6 6 6 6 6 6 6 6 6 6 6 6 6 6 4 6 6 6 6 6 6 6 6 6 6 6\n",
      "  6 6 2 5 5 5 5 6 6 6 6 6 6 6 2 5 5 6 6 6 6 6 6 6 6 6 6 6 6 6 6 6 6 6 1 4\n",
      "  4 4 6 6 2 5 5 5 5 5 5 6 0 0 0 6 6 6 1 4 4 4 1 6 6 6 6 6 6 6 1 4 4 1 6 6\n",
      "  0 0 0 0 6 0 4 4 1 4 4 4 6 6 0 3 0 0 6 6 6 6 6 6 6 6 6 6 6 6 6 6 6 6 6 6\n",
      "  6 6 6 6 6 1 4 4 4 6 6 6 6 6 6 1 4 1 4 4 6 4 6 6 6 6 6 6 1 4 6 4 6 6 4 6\n",
      "  6 6 6 6 6 6 6 6 4 6 6 6 1 4 4 6 6 1 1 4 4 4 4 6 6 6 6 1 4 0 6 6 6 6 6 6\n",
      "  0 0 4 6 6 6 6 6 6 4 6 6 6 1 4 6 4 6 6 6 6 6 6 6 6 6 6 6 6 6 6 6 6 6 6 6\n",
      "  6 6 6 6 4 0 6 6 2 5 5 5 5 5 5 5 6 4]\n",
      " [6 6 1 4 4 4 4 1 4 6 6 6 6 6 6 6 0 3 6 6 0 0 6 6 0 6 6 6 6 0 6 6 6 6 6 6\n",
      "  6 6 6 6 6 6 6 6 6 6 0 6 6 6 6 6 6 6 6 6 2 2 5 6 6 6 6 6 6 6 6 6 6 6 6 6\n",
      "  6 6 6 6 6 1 4 4 4 1 6 6 6 6 0 0 6 6 6 6 6 6 6 6 6 1 4 4 1 6 6 6 6 6 6 6\n",
      "  6 6 6 6 6 6 6 6 6 0 0 6 6 0 0 6 6 6 6 6 6 6 6 6 6 6 6 6 6 6 6 6 6 6 6 6\n",
      "  6 6 6 6 6 6 6 6 6 6 6 6 6 6 6 6 6 6 6 6 6 6 6 6 6 6 1 4 4 6 6 6 6 6 6 1\n",
      "  4 4 6 6 6 0 3 6 6 6 6 1 4 4 6 1 4 1 6 6 6 6 6 6 6 6 6 6 6 6 6 6 6 6 6 6\n",
      "  6 6 6 6 6 6 6 6 6 6 6 6 6 6 6 6 6 6 6 6 6 6 6 6 6 6 6 6 6 6 6 6 6 6 6 6\n",
      "  6 6 6 6 6 6 6 6 6 6 6 6 6 6 6 6 6 6 6 6 6 6 6 6 6 6 6 6 6 6 6 6 6 6 6 6\n",
      "  6 6 6 6 6 6 6 6 6 6 6 6 6 6 6 6 6 6]\n",
      " [6 6 6 6 6 6 1 4 4 4 4 4 1 6 6 6 6 6 6 6 6 6 1 4 4 4 6 6 0 6 6 6 6 6 6 6\n",
      "  6 6 6 6 6 6 6 6 6 6 6 6 6 6 6 6 6 6 6 6 6 6 6 6 6 6 6 6 6 6 6 6 6 6 4 6\n",
      "  6 6 6 6 6 6 6 6 6 6 6 6 6 6 6 6 6 6 6 6 6 6 6 6 6 6 6 6 6 6 6 6 6 6 6 6\n",
      "  6 6 6 4 6 6 6 6 6 6 6 6 6 6 6 6 6 6 6 6 6 6 6 6 6 6 6 6 6 6 6 6 6 6 6 6\n",
      "  6 6 6 6 6 6 6 6 6 6 6 6 6 6 6 6 6 6 6 6 6 6 6 6 6 6 6 6 6 6 6 6 6 6 6 6\n",
      "  6 6 6 6 6 6 6 6 6 6 6 6 6 6 6 6 6 6 6 6 6 6 6 6 6 6 6 6 6 6 6 6 6 6 6 6\n",
      "  6 6 6 6 6 6 6 6 6 6 6 6 6 6 6 6 6 6 6 6 6 6 6 6 6 6 6 6 6 6 6 6 6 6 6 6\n",
      "  6 6 6 6 6 6 6 6 6 6 6 6 6 6 6 6 6 6 6 6 6 6 6 6 6 6 6 6 6 6 6 6 6 6 6 6\n",
      "  6 6 6 6 6 6 6 6 6 6 6 6 6 6 6 6 6 6]]\n"
     ]
    },
    {
     "data": {
      "text/html": [],
      "text/plain": [
       "<IPython.core.display.HTML object>"
      ]
     },
     "metadata": {},
     "output_type": "display_data"
    },
    {
     "name": "stdout",
     "output_type": "stream",
     "text": [
      "[[6 1 4 ... 6 6 6]\n",
      " [6 6 6 ... 6 6 6]\n",
      " [6 6 6 ... 6 6 6]\n",
      " ...\n",
      " [6 6 2 ... 6 6 6]\n",
      " [6 6 6 ... 6 6 6]\n",
      " [6 6 6 ... 6 6 6]]\n"
     ]
    },
    {
     "data": {
      "text/html": [],
      "text/plain": [
       "<IPython.core.display.HTML object>"
      ]
     },
     "metadata": {},
     "output_type": "display_data"
    },
    {
     "name": "stdout",
     "output_type": "stream",
     "text": [
      "[[6 0 6 ... 6 6 6]\n",
      " [6 6 6 ... 6 6 6]\n",
      " [6 6 6 ... 6 6 6]\n",
      " ...\n",
      " [6 6 6 ... 6 6 6]\n",
      " [6 6 6 ... 6 6 6]\n",
      " [6 1 4 ... 6 6 6]]\n"
     ]
    },
    {
     "data": {
      "application/vnd.jupyter.widget-view+json": {
       "model_id": "",
       "version_major": 2,
       "version_minor": 0
      },
      "text/plain": [
       "Map:   0%|          | 0/11104 [00:00<?, ? examples/s]"
      ]
     },
     "metadata": {},
     "output_type": "display_data"
    },
    {
     "data": {
      "application/vnd.jupyter.widget-view+json": {
       "model_id": "",
       "version_major": 2,
       "version_minor": 0
      },
      "text/plain": [
       "Map:   0%|          | 0/2761 [00:00<?, ? examples/s]"
      ]
     },
     "metadata": {},
     "output_type": "display_data"
    },
    {
     "data": {
      "application/vnd.jupyter.widget-view+json": {
       "model_id": "",
       "version_major": 2,
       "version_minor": 0
      },
      "text/plain": [
       "Map:   0%|          | 0/51 [00:00<?, ? examples/s]"
      ]
     },
     "metadata": {},
     "output_type": "display_data"
    },
    {
     "data": {
      "application/vnd.jupyter.widget-view+json": {
       "model_id": "",
       "version_major": 2,
       "version_minor": 0
      },
      "text/plain": [
       "Map:   0%|          | 0/3 [00:00<?, ? examples/s]"
      ]
     },
     "metadata": {},
     "output_type": "display_data"
    },
    {
     "data": {
      "application/vnd.jupyter.widget-view+json": {
       "model_id": "",
       "version_major": 2,
       "version_minor": 0
      },
      "text/plain": [
       "Map:   0%|          | 0/114 [00:00<?, ? examples/s]"
      ]
     },
     "metadata": {},
     "output_type": "display_data"
    },
    {
     "data": {
      "application/vnd.jupyter.widget-view+json": {
       "model_id": "",
       "version_major": 2,
       "version_minor": 0
      },
      "text/plain": [
       "Map:   0%|          | 0/111 [00:00<?, ? examples/s]"
      ]
     },
     "metadata": {},
     "output_type": "display_data"
    },
    {
     "data": {
      "text/html": [],
      "text/plain": [
       "<IPython.core.display.HTML object>"
      ]
     },
     "metadata": {},
     "output_type": "display_data"
    },
    {
     "name": "stdout",
     "output_type": "stream",
     "text": [
      "[[6 6 6 ... 6 6 6]\n",
      " [6 6 6 ... 6 6 6]\n",
      " [6 6 6 ... 6 4 6]\n",
      " ...\n",
      " [6 6 6 ... 6 6 6]\n",
      " [6 6 6 ... 6 6 6]\n",
      " [6 6 6 ... 6 6 6]]\n"
     ]
    },
    {
     "data": {
      "text/html": [],
      "text/plain": [
       "<IPython.core.display.HTML object>"
      ]
     },
     "metadata": {},
     "output_type": "display_data"
    },
    {
     "name": "stdout",
     "output_type": "stream",
     "text": [
      "[[6 6 6 ... 5 5 6]\n",
      " [6 6 1 ... 6 6 6]\n",
      " [6 6 6 ... 6 6 6]]\n"
     ]
    },
    {
     "data": {
      "text/html": [],
      "text/plain": [
       "<IPython.core.display.HTML object>"
      ]
     },
     "metadata": {},
     "output_type": "display_data"
    },
    {
     "name": "stdout",
     "output_type": "stream",
     "text": [
      "[[6 1 4 ... 6 6 6]\n",
      " [6 6 6 ... 4 6 6]\n",
      " [6 6 6 ... 6 6 6]\n",
      " ...\n",
      " [6 6 6 ... 6 6 6]\n",
      " [6 6 6 ... 6 6 6]\n",
      " [6 6 6 ... 4 6 6]]\n"
     ]
    },
    {
     "data": {
      "text/html": [],
      "text/plain": [
       "<IPython.core.display.HTML object>"
      ]
     },
     "metadata": {},
     "output_type": "display_data"
    },
    {
     "name": "stdout",
     "output_type": "stream",
     "text": [
      "[[6 0 6 ... 6 6 6]\n",
      " [6 6 6 ... 6 6 6]\n",
      " [6 6 6 ... 6 6 6]\n",
      " ...\n",
      " [6 6 6 ... 6 6 6]\n",
      " [6 6 6 ... 6 6 6]\n",
      " [6 1 4 ... 6 6 6]]\n"
     ]
    },
    {
     "data": {
      "application/vnd.jupyter.widget-view+json": {
       "model_id": "",
       "version_major": 2,
       "version_minor": 0
      },
      "text/plain": [
       "Map:   0%|          | 0/11104 [00:00<?, ? examples/s]"
      ]
     },
     "metadata": {},
     "output_type": "display_data"
    },
    {
     "data": {
      "application/vnd.jupyter.widget-view+json": {
       "model_id": "",
       "version_major": 2,
       "version_minor": 0
      },
      "text/plain": [
       "Map:   0%|          | 0/2761 [00:00<?, ? examples/s]"
      ]
     },
     "metadata": {},
     "output_type": "display_data"
    },
    {
     "data": {
      "application/vnd.jupyter.widget-view+json": {
       "model_id": "",
       "version_major": 2,
       "version_minor": 0
      },
      "text/plain": [
       "Map:   0%|          | 0/51 [00:00<?, ? examples/s]"
      ]
     },
     "metadata": {},
     "output_type": "display_data"
    },
    {
     "data": {
      "application/vnd.jupyter.widget-view+json": {
       "model_id": "",
       "version_major": 2,
       "version_minor": 0
      },
      "text/plain": [
       "Map:   0%|          | 0/3 [00:00<?, ? examples/s]"
      ]
     },
     "metadata": {},
     "output_type": "display_data"
    },
    {
     "data": {
      "application/vnd.jupyter.widget-view+json": {
       "model_id": "",
       "version_major": 2,
       "version_minor": 0
      },
      "text/plain": [
       "Map:   0%|          | 0/114 [00:00<?, ? examples/s]"
      ]
     },
     "metadata": {},
     "output_type": "display_data"
    },
    {
     "data": {
      "application/vnd.jupyter.widget-view+json": {
       "model_id": "",
       "version_major": 2,
       "version_minor": 0
      },
      "text/plain": [
       "Map:   0%|          | 0/111 [00:00<?, ? examples/s]"
      ]
     },
     "metadata": {},
     "output_type": "display_data"
    },
    {
     "data": {
      "text/html": [],
      "text/plain": [
       "<IPython.core.display.HTML object>"
      ]
     },
     "metadata": {},
     "output_type": "display_data"
    },
    {
     "name": "stdout",
     "output_type": "stream",
     "text": [
      "[[6 6 6 ... 6 6 6]\n",
      " [6 6 6 ... 6 6 6]\n",
      " [6 6 6 ... 6 6 6]\n",
      " ...\n",
      " [6 6 6 ... 6 6 6]\n",
      " [6 6 6 ... 5 2 6]\n",
      " [6 6 6 ... 6 6 6]]\n"
     ]
    },
    {
     "data": {
      "text/html": [],
      "text/plain": [
       "<IPython.core.display.HTML object>"
      ]
     },
     "metadata": {},
     "output_type": "display_data"
    },
    {
     "name": "stdout",
     "output_type": "stream",
     "text": [
      "[[6 6 6 ... 6 6 6]\n",
      " [6 6 1 ... 6 6 6]\n",
      " [6 6 6 ... 6 6 6]]\n"
     ]
    },
    {
     "data": {
      "text/html": [],
      "text/plain": [
       "<IPython.core.display.HTML object>"
      ]
     },
     "metadata": {},
     "output_type": "display_data"
    },
    {
     "name": "stdout",
     "output_type": "stream",
     "text": [
      "[[6 1 4 ... 6 6 6]\n",
      " [6 6 6 ... 6 6 6]\n",
      " [6 6 6 ... 6 6 6]\n",
      " ...\n",
      " [6 6 2 ... 6 6 6]\n",
      " [6 6 6 ... 6 6 6]\n",
      " [6 6 6 ... 6 6 6]]\n"
     ]
    },
    {
     "data": {
      "text/html": [],
      "text/plain": [
       "<IPython.core.display.HTML object>"
      ]
     },
     "metadata": {},
     "output_type": "display_data"
    },
    {
     "name": "stdout",
     "output_type": "stream",
     "text": [
      "[[6 0 6 ... 6 6 6]\n",
      " [6 6 6 ... 6 6 6]\n",
      " [6 6 6 ... 6 6 6]\n",
      " ...\n",
      " [6 6 6 ... 6 6 6]\n",
      " [6 6 6 ... 6 6 6]\n",
      " [6 1 4 ... 6 6 6]]\n"
     ]
    },
    {
     "data": {
      "application/vnd.jupyter.widget-view+json": {
       "model_id": "",
       "version_major": 2,
       "version_minor": 0
      },
      "text/plain": [
       "Map:   0%|          | 0/11104 [00:00<?, ? examples/s]"
      ]
     },
     "metadata": {},
     "output_type": "display_data"
    },
    {
     "data": {
      "application/vnd.jupyter.widget-view+json": {
       "model_id": "",
       "version_major": 2,
       "version_minor": 0
      },
      "text/plain": [
       "Map:   0%|          | 0/2761 [00:00<?, ? examples/s]"
      ]
     },
     "metadata": {},
     "output_type": "display_data"
    },
    {
     "data": {
      "application/vnd.jupyter.widget-view+json": {
       "model_id": "",
       "version_major": 2,
       "version_minor": 0
      },
      "text/plain": [
       "Map:   0%|          | 0/51 [00:00<?, ? examples/s]"
      ]
     },
     "metadata": {},
     "output_type": "display_data"
    },
    {
     "data": {
      "application/vnd.jupyter.widget-view+json": {
       "model_id": "",
       "version_major": 2,
       "version_minor": 0
      },
      "text/plain": [
       "Map:   0%|          | 0/3 [00:00<?, ? examples/s]"
      ]
     },
     "metadata": {},
     "output_type": "display_data"
    },
    {
     "data": {
      "application/vnd.jupyter.widget-view+json": {
       "model_id": "",
       "version_major": 2,
       "version_minor": 0
      },
      "text/plain": [
       "Map:   0%|          | 0/114 [00:00<?, ? examples/s]"
      ]
     },
     "metadata": {},
     "output_type": "display_data"
    },
    {
     "data": {
      "application/vnd.jupyter.widget-view+json": {
       "model_id": "",
       "version_major": 2,
       "version_minor": 0
      },
      "text/plain": [
       "Map:   0%|          | 0/111 [00:00<?, ? examples/s]"
      ]
     },
     "metadata": {},
     "output_type": "display_data"
    },
    {
     "data": {
      "text/html": [],
      "text/plain": [
       "<IPython.core.display.HTML object>"
      ]
     },
     "metadata": {},
     "output_type": "display_data"
    },
    {
     "name": "stdout",
     "output_type": "stream",
     "text": [
      "[[0 0 0 ... 0 0 0]\n",
      " [0 0 0 ... 0 0 0]\n",
      " [0 0 0 ... 0 0 0]\n",
      " ...\n",
      " [0 0 0 ... 0 0 0]\n",
      " [0 0 0 ... 0 0 0]\n",
      " [0 0 0 ... 0 0 0]]\n"
     ]
    },
    {
     "data": {
      "text/html": [],
      "text/plain": [
       "<IPython.core.display.HTML object>"
      ]
     },
     "metadata": {},
     "output_type": "display_data"
    },
    {
     "name": "stdout",
     "output_type": "stream",
     "text": [
      "[[0 0 0 ... 0 0 0]\n",
      " [0 0 1 ... 0 0 6]\n",
      " [0 0 0 ... 0 0 0]]\n"
     ]
    },
    {
     "data": {
      "text/html": [],
      "text/plain": [
       "<IPython.core.display.HTML object>"
      ]
     },
     "metadata": {},
     "output_type": "display_data"
    },
    {
     "name": "stdout",
     "output_type": "stream",
     "text": [
      "[[0 0 0 ... 0 0 0]\n",
      " [0 0 0 ... 0 0 0]\n",
      " [0 0 0 ... 0 0 0]\n",
      " ...\n",
      " [0 0 0 ... 0 0 0]\n",
      " [0 0 0 ... 0 0 0]\n",
      " [0 0 5 ... 0 0 0]]\n"
     ]
    },
    {
     "data": {
      "text/html": [],
      "text/plain": [
       "<IPython.core.display.HTML object>"
      ]
     },
     "metadata": {},
     "output_type": "display_data"
    },
    {
     "name": "stdout",
     "output_type": "stream",
     "text": [
      "[[0 5 0 ... 0 0 0]\n",
      " [0 0 0 ... 0 2 0]\n",
      " [0 0 0 ... 0 0 0]\n",
      " ...\n",
      " [0 0 0 ... 0 0 0]\n",
      " [0 0 0 ... 0 0 0]\n",
      " [0 0 0 ... 0 0 0]]\n"
     ]
    }
   ],
   "source": [
    "import pandas as pd\n",
    "import io   \n",
    "\n",
    "dfs = []\n",
    "for name, path in model_names.items():\n",
    "    res = evaluate_with_trainer(path)\n",
    "    column_names = ['model_name','dataset', 'label','precision','recall','f1-score','support']\n",
    "    df = pd.DataFrame(columns=column_names, dtype=object)\n",
    "    for test in tests: \n",
    "        for line in res[test]['test_classification_report'].split('\\n')[1:]: # the first one is '\\n\\n'\n",
    "            row = [item for item in line.split('  ') if item]\n",
    "            if not row:\n",
    "                continue\n",
    "            df.loc[len(df)] = [name, test]+row\n",
    "#     df = pd.read_csv(io.StringIO(res['test_classification_report']), sep=\"\\t\")\n",
    "#     df['model_name'] = name\n",
    "    dfs.append(df)"
   ]
  },
  {
   "cell_type": "code",
   "execution_count": 20,
   "metadata": {},
   "outputs": [
    {
     "data": {
      "text/html": [
       "<div>\n",
       "<style scoped>\n",
       "    .dataframe tbody tr th:only-of-type {\n",
       "        vertical-align: middle;\n",
       "    }\n",
       "\n",
       "    .dataframe tbody tr th {\n",
       "        vertical-align: top;\n",
       "    }\n",
       "\n",
       "    .dataframe thead th {\n",
       "        text-align: right;\n",
       "    }\n",
       "</style>\n",
       "<table border=\"1\" class=\"dataframe\">\n",
       "  <thead>\n",
       "    <tr style=\"text-align: right;\">\n",
       "      <th></th>\n",
       "      <th>model_name</th>\n",
       "      <th>dataset</th>\n",
       "      <th>label</th>\n",
       "      <th>precision</th>\n",
       "      <th>recall</th>\n",
       "      <th>f1-score</th>\n",
       "      <th>support</th>\n",
       "    </tr>\n",
       "  </thead>\n",
       "  <tbody>\n",
       "    <tr>\n",
       "      <th>0</th>\n",
       "      <td>GysBERT</td>\n",
       "      <td>test_NHA.txt</td>\n",
       "      <td>LOC</td>\n",
       "      <td>0.80</td>\n",
       "      <td>0.77</td>\n",
       "      <td>0.78</td>\n",
       "      <td>252</td>\n",
       "    </tr>\n",
       "    <tr>\n",
       "      <th>1</th>\n",
       "      <td>GysBERT</td>\n",
       "      <td>test_NHA.txt</td>\n",
       "      <td>PER</td>\n",
       "      <td>0.78</td>\n",
       "      <td>0.74</td>\n",
       "      <td>0.76</td>\n",
       "      <td>355</td>\n",
       "    </tr>\n",
       "    <tr>\n",
       "      <th>2</th>\n",
       "      <td>GysBERT</td>\n",
       "      <td>test_NHA.txt</td>\n",
       "      <td>TIME</td>\n",
       "      <td>0.32</td>\n",
       "      <td>0.27</td>\n",
       "      <td>0.29</td>\n",
       "      <td>109</td>\n",
       "    </tr>\n",
       "    <tr>\n",
       "      <th>3</th>\n",
       "      <td>GysBERT</td>\n",
       "      <td>test_NHA.txt</td>\n",
       "      <td>micro avg</td>\n",
       "      <td>0.73</td>\n",
       "      <td>0.68</td>\n",
       "      <td>0.70</td>\n",
       "      <td>716</td>\n",
       "    </tr>\n",
       "    <tr>\n",
       "      <th>4</th>\n",
       "      <td>GysBERT</td>\n",
       "      <td>test_NHA.txt</td>\n",
       "      <td>macro avg</td>\n",
       "      <td>0.63</td>\n",
       "      <td>0.59</td>\n",
       "      <td>0.61</td>\n",
       "      <td>716</td>\n",
       "    </tr>\n",
       "    <tr>\n",
       "      <th>...</th>\n",
       "      <td>...</td>\n",
       "      <td>...</td>\n",
       "      <td>...</td>\n",
       "      <td>...</td>\n",
       "      <td>...</td>\n",
       "      <td>...</td>\n",
       "      <td>...</td>\n",
       "    </tr>\n",
       "    <tr>\n",
       "      <th>26</th>\n",
       "      <td>WikiNEuRal</td>\n",
       "      <td>test_VOC.txt</td>\n",
       "      <td>PER</td>\n",
       "      <td>0.35</td>\n",
       "      <td>0.28</td>\n",
       "      <td>0.31</td>\n",
       "      <td>283</td>\n",
       "    </tr>\n",
       "    <tr>\n",
       "      <th>27</th>\n",
       "      <td>WikiNEuRal</td>\n",
       "      <td>test_VOC.txt</td>\n",
       "      <td>TIME</td>\n",
       "      <td>0.00</td>\n",
       "      <td>0.00</td>\n",
       "      <td>0.00</td>\n",
       "      <td>180</td>\n",
       "    </tr>\n",
       "    <tr>\n",
       "      <th>28</th>\n",
       "      <td>WikiNEuRal</td>\n",
       "      <td>test_VOC.txt</td>\n",
       "      <td>micro avg</td>\n",
       "      <td>0.29</td>\n",
       "      <td>0.29</td>\n",
       "      <td>0.29</td>\n",
       "      <td>775</td>\n",
       "    </tr>\n",
       "    <tr>\n",
       "      <th>29</th>\n",
       "      <td>WikiNEuRal</td>\n",
       "      <td>test_VOC.txt</td>\n",
       "      <td>macro avg</td>\n",
       "      <td>0.17</td>\n",
       "      <td>0.15</td>\n",
       "      <td>0.16</td>\n",
       "      <td>775</td>\n",
       "    </tr>\n",
       "    <tr>\n",
       "      <th>30</th>\n",
       "      <td>WikiNEuRal</td>\n",
       "      <td>test_VOC.txt</td>\n",
       "      <td>weighted avg</td>\n",
       "      <td>0.32</td>\n",
       "      <td>0.29</td>\n",
       "      <td>0.30</td>\n",
       "      <td>775</td>\n",
       "    </tr>\n",
       "  </tbody>\n",
       "</table>\n",
       "<p>103 rows × 7 columns</p>\n",
       "</div>"
      ],
      "text/plain": [
       "    model_name       dataset         label precision recall f1-score support\n",
       "0      GysBERT  test_NHA.txt           LOC      0.80   0.77     0.78     252\n",
       "1      GysBERT  test_NHA.txt           PER      0.78   0.74     0.76     355\n",
       "2      GysBERT  test_NHA.txt          TIME      0.32   0.27     0.29     109\n",
       "3      GysBERT  test_NHA.txt     micro avg      0.73   0.68     0.70     716\n",
       "4      GysBERT  test_NHA.txt     macro avg      0.63   0.59     0.61     716\n",
       "..         ...           ...           ...       ...    ...      ...     ...\n",
       "26  WikiNEuRal  test_VOC.txt           PER      0.35   0.28     0.31     283\n",
       "27  WikiNEuRal  test_VOC.txt          TIME      0.00   0.00     0.00     180\n",
       "28  WikiNEuRal  test_VOC.txt     micro avg      0.29   0.29     0.29     775\n",
       "29  WikiNEuRal  test_VOC.txt     macro avg      0.17   0.15     0.16     775\n",
       "30  WikiNEuRal  test_VOC.txt  weighted avg      0.32   0.29     0.30     775\n",
       "\n",
       "[103 rows x 7 columns]"
      ]
     },
     "execution_count": 20,
     "metadata": {},
     "output_type": "execute_result"
    }
   ],
   "source": [
    "df_all = pd.concat(dfs)\n",
    "df_all"
   ]
  },
  {
   "cell_type": "code",
   "execution_count": 21,
   "metadata": {},
   "outputs": [],
   "source": [
    "df_all.to_csv('NER_eval_results_alles.tsv',sep='\\t')"
   ]
  },
  {
   "cell_type": "code",
   "execution_count": null,
   "metadata": {},
   "outputs": [],
   "source": []
  },
  {
   "cell_type": "code",
   "execution_count": null,
   "metadata": {},
   "outputs": [],
   "source": []
  }
 ],
 "metadata": {
  "kernelspec": {
   "display_name": "tabi",
   "language": "python",
   "name": "tabi"
  },
  "language_info": {
   "codemirror_mode": {
    "name": "ipython",
    "version": 3
   },
   "file_extension": ".py",
   "mimetype": "text/x-python",
   "name": "python",
   "nbconvert_exporter": "python",
   "pygments_lexer": "ipython3",
   "version": "3.7.5"
  }
 },
 "nbformat": 4,
 "nbformat_minor": 4
}
