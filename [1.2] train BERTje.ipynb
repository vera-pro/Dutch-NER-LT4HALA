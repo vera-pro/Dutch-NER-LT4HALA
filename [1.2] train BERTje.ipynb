{
 "cells": [
  {
   "cell_type": "code",
   "execution_count": 1,
   "metadata": {},
   "outputs": [],
   "source": [
    "import torch\n",
    "from transformers import AutoTokenizer, AutoModelForTokenClassification, Trainer, TrainingArguments, AutoModel\n",
    "from datasets import load_dataset, load_metric, Dataset, DatasetDict\n",
    "import numpy as np\n",
    "from seqeval.metrics import f1_score, precision_score, recall_score, classification_report"
   ]
  },
  {
   "cell_type": "code",
   "execution_count": 2,
   "metadata": {},
   "outputs": [],
   "source": [
    "## The data"
   ]
  },
  {
   "cell_type": "code",
   "execution_count": 3,
   "metadata": {},
   "outputs": [],
   "source": [
    "from data_utils import prepare_data, convert_to_dataset"
   ]
  },
  {
   "cell_type": "code",
   "execution_count": 4,
   "metadata": {},
   "outputs": [
    {
     "data": {
      "application/vnd.jupyter.widget-view+json": {
       "model_id": "4ac26b984cf241dcad9f30db80479a4c",
       "version_major": 2,
       "version_minor": 0
      },
      "text/plain": [
       "  0%|          | 0/8040 [00:00<?, ?it/s]"
      ]
     },
     "metadata": {},
     "output_type": "display_data"
    },
    {
     "data": {
      "application/vnd.jupyter.widget-view+json": {
       "model_id": "7d398d258d404b69b75b4dc1065f4a3c",
       "version_major": 2,
       "version_minor": 0
      },
      "text/plain": [
       "  0%|          | 0/2150 [00:00<?, ?it/s]"
      ]
     },
     "metadata": {},
     "output_type": "display_data"
    },
    {
     "data": {
      "application/vnd.jupyter.widget-view+json": {
       "model_id": "0a2dfeb62b6243a2ad6c03030e68f175",
       "version_major": 2,
       "version_minor": 0
      },
      "text/plain": [
       "  0%|          | 0/91 [00:00<?, ?it/s]"
      ]
     },
     "metadata": {},
     "output_type": "display_data"
    }
   ],
   "source": [
    "\n",
    "train = prepare_data('/ivi/ilps/personal/vprovat/KB/data/AITrainingset/Data/train.txt')\n",
    "val = prepare_data('/ivi/ilps/personal/vprovat/KB/data/AITrainingset/Data/validation.txt')\n",
    "test_VOC = prepare_data('/ivi/ilps/personal/vprovat/KB/data/AITrainingset/Data/test_VOC.txt')"
   ]
  },
  {
   "cell_type": "code",
   "execution_count": 5,
   "metadata": {},
   "outputs": [],
   "source": [
    "label_list = sorted(list(set([token_data[1] for sentence in train for token_data in sentence if token_data])))\n",
    "label_map = {label: i for i, label in enumerate(label_list)}\n",
    "id2label = {i: label for i, label in enumerate(label_list)}\n",
    "label2id = {label: i for i, label in enumerate(label_list)}"
   ]
  },
  {
   "cell_type": "code",
   "execution_count": 6,
   "metadata": {},
   "outputs": [],
   "source": [
    "train_data = convert_to_dataset(train, label_map)\n",
    "val_data = convert_to_dataset(val, label_map)\n",
    "test_data = convert_to_dataset(test_VOC, label_map)\n",
    "\n",
    "datasets = DatasetDict({\n",
    "    \"train\": train_data,\n",
    "    \"validation\": val_data,\n",
    "    \"test\": test_data,\n",
    "})\n"
   ]
  },
  {
   "cell_type": "code",
   "execution_count": 7,
   "metadata": {},
   "outputs": [],
   "source": [
    "## Evaluation"
   ]
  },
  {
   "cell_type": "code",
   "execution_count": 8,
   "metadata": {},
   "outputs": [],
   "source": [
    "def compute_metrics(eval_prediction):\n",
    "    predictions, labels = eval_prediction\n",
    "    predictions = np.argmax(predictions, axis=2)\n",
    "\n",
    "\n",
    "    # Remove ignored index (special tokens)\n",
    "    true_predictions = [\n",
    "        [label_list[p] for (p, l) in zip(prediction, label) if l != -100]\n",
    "        for prediction, label in zip(predictions, labels)\n",
    "    ]\n",
    "    true_labels = [\n",
    "        [label_list[l] for (p, l) in zip(prediction, label) if l != -100]\n",
    "        for prediction, label in zip(predictions, labels)\n",
    "    ]\n",
    "\n",
    "\n",
    "    return {\n",
    "        \"precision\": precision_score(true_labels, true_predictions),\n",
    "        \"recall\": recall_score(true_labels, true_predictions),\n",
    "        \"f1\": f1_score(true_labels, true_predictions),\n",
    "        \"classification_report\": classification_report(true_labels, true_predictions),\n",
    "    }\n",
    "\n",
    "\n",
    "def tokenize_and_align_labels(examples):\n",
    "    tokenized_inputs = tokenizer(\n",
    "        examples[\"tokens\"], truncation=True, is_split_into_words=True, padding=True\n",
    "    )\n",
    "    labels = []\n",
    "    for i, label in enumerate(examples[\"ner_tags\"]):\n",
    "        word_ids = tokenized_inputs.word_ids(batch_index=i)\n",
    "        previous_word_idx = None\n",
    "        label_ids = []\n",
    "        for word_idx in word_ids:\n",
    "            if word_idx is None:\n",
    "                label_ids.append(-100)\n",
    "            elif word_idx != previous_word_idx:\n",
    "                label_ids.append(label[word_idx])\n",
    "            else:\n",
    "                label_ids.append(-100)\n",
    "            previous_word_idx = word_idx\n",
    "        labels.append(label_ids)\n",
    "    tokenized_inputs[\"labels\"] = labels\n",
    "    return tokenized_inputs\n"
   ]
  },
  {
   "cell_type": "code",
   "execution_count": 9,
   "metadata": {},
   "outputs": [
    {
     "name": "stderr",
     "output_type": "stream",
     "text": [
      "Some weights of the model checkpoint at GroNLP/bert-base-dutch-cased were not used when initializing BertForTokenClassification: ['cls.predictions.decoder.weight', 'cls.predictions.transform.dense.weight', 'cls.predictions.decoder.bias', 'cls.predictions.bias', 'cls.predictions.transform.LayerNorm.bias', 'cls.predictions.transform.LayerNorm.weight', 'cls.predictions.transform.dense.bias']\n",
      "- This IS expected if you are initializing BertForTokenClassification from the checkpoint of a model trained on another task or with another architecture (e.g. initializing a BertForSequenceClassification model from a BertForPreTraining model).\n",
      "- This IS NOT expected if you are initializing BertForTokenClassification from the checkpoint of a model that you expect to be exactly identical (initializing a BertForSequenceClassification model from a BertForSequenceClassification model).\n",
      "Some weights of BertForTokenClassification were not initialized from the model checkpoint at GroNLP/bert-base-dutch-cased and are newly initialized: ['classifier.weight', 'classifier.bias']\n",
      "You should probably TRAIN this model on a down-stream task to be able to use it for predictions and inference.\n"
     ]
    }
   ],
   "source": [
    "# model_name = \"/ivi/ilps/personal/vprovat/KB/GysBERT\"\n",
    "model_name = \"GroNLP/bert-base-dutch-cased\"\n",
    "# model_name = \"bert-base-uncased\"\n",
    "\n",
    "tokenizer = AutoTokenizer.from_pretrained(model_name, model_max_length=512)\n",
    "model = AutoModelForTokenClassification.from_pretrained(model_name,num_labels=len(label_list))"
   ]
  },
  {
   "cell_type": "code",
   "execution_count": 10,
   "metadata": {},
   "outputs": [
    {
     "data": {
      "application/vnd.jupyter.widget-view+json": {
       "model_id": "",
       "version_major": 2,
       "version_minor": 0
      },
      "text/plain": [
       "Map:   0%|          | 0/11104 [00:00<?, ? examples/s]"
      ]
     },
     "metadata": {},
     "output_type": "display_data"
    },
    {
     "data": {
      "application/vnd.jupyter.widget-view+json": {
       "model_id": "",
       "version_major": 2,
       "version_minor": 0
      },
      "text/plain": [
       "Map:   0%|          | 0/2761 [00:00<?, ? examples/s]"
      ]
     },
     "metadata": {},
     "output_type": "display_data"
    },
    {
     "data": {
      "application/vnd.jupyter.widget-view+json": {
       "model_id": "",
       "version_major": 2,
       "version_minor": 0
      },
      "text/plain": [
       "Map:   0%|          | 0/111 [00:00<?, ? examples/s]"
      ]
     },
     "metadata": {},
     "output_type": "display_data"
    }
   ],
   "source": [
    "tokenized_datasets = datasets.map(tokenize_and_align_labels, batched=True)"
   ]
  },
  {
   "cell_type": "code",
   "execution_count": 11,
   "metadata": {},
   "outputs": [
    {
     "data": {
      "text/plain": [
       "['B-LOC', 'B-PER', 'B-TIME', 'I-LOC', 'I-PER', 'I-TIME', 'O']"
      ]
     },
     "execution_count": 11,
     "metadata": {},
     "output_type": "execute_result"
    }
   ],
   "source": [
    "label_list"
   ]
  },
  {
   "cell_type": "code",
   "execution_count": 12,
   "metadata": {},
   "outputs": [],
   "source": [
    "from torch import nn\n",
    "from transformers import Trainer\n",
    "\n",
    "class CustomTrainer(Trainer):\n",
    "    def compute_loss(self, model, inputs, return_outputs=False):\n",
    "        labels = inputs.get(\"labels\").to('cuda')\n",
    "        # forward pass\n",
    "        outputs = model(**inputs)\n",
    "#         print('ran the model')\n",
    "        logits = outputs.get('logits').to('cuda')\n",
    "#         print('got the logits')\n",
    "        labels = labels.to(logits.device)\n",
    "        # compute custom loss\n",
    "        loss_fct = nn.CrossEntropyLoss(weight=torch.tensor([0.2, 0.2, 0.05, 0.2,0.2,0.05,0.1]).to('cuda')) \n",
    "        # ['B-LOC', 'B-PER', 'B-TIME', 'I-LOC', 'I-PER', 'I-TIME', 'O']\n",
    "        loss = loss_fct(logits.view(-1, self.model.config.num_labels), labels.view(-1))\n",
    "        return (loss, outputs) if return_outputs else loss"
   ]
  },
  {
   "cell_type": "code",
   "execution_count": 13,
   "metadata": {},
   "outputs": [],
   "source": [
    "from transformers import EarlyStoppingCallback, IntervalStrategy\n",
    "\n",
    "training_args = TrainingArguments(\n",
    "    output_dir=\"/ivi/ilps/personal/vprovat/KB/NER_logs_BERTje_recall\", #change here\n",
    "    evaluation_strategy=IntervalStrategy.STEPS, #\"steps\",\n",
    "    eval_steps=500,\n",
    "    save_steps=500,\n",
    "    num_train_epochs=15,\n",
    "    per_device_train_batch_size=8,\n",
    "    per_device_eval_batch_size=8,\n",
    "    logging_steps=100,\n",
    "    save_total_limit = 50,\n",
    "    learning_rate=5e-5,\n",
    "    load_best_model_at_end=True,\n",
    "    metric_for_best_model=\"recall\",\n",
    ") # todo check dropout"
   ]
  },
  {
   "cell_type": "code",
   "execution_count": 20,
   "metadata": {},
   "outputs": [
    {
     "data": {
      "text/plain": [
       "TrainingArguments(\n",
       "_n_gpu=1,\n",
       "adafactor=False,\n",
       "adam_beta1=0.9,\n",
       "adam_beta2=0.999,\n",
       "adam_epsilon=1e-08,\n",
       "auto_find_batch_size=False,\n",
       "bf16=False,\n",
       "bf16_full_eval=False,\n",
       "data_seed=None,\n",
       "dataloader_drop_last=False,\n",
       "dataloader_num_workers=0,\n",
       "dataloader_pin_memory=True,\n",
       "ddp_bucket_cap_mb=None,\n",
       "ddp_find_unused_parameters=None,\n",
       "ddp_timeout=1800,\n",
       "debug=[],\n",
       "deepspeed=None,\n",
       "disable_tqdm=False,\n",
       "do_eval=True,\n",
       "do_predict=False,\n",
       "do_train=False,\n",
       "eval_accumulation_steps=None,\n",
       "eval_delay=0,\n",
       "eval_steps=500,\n",
       "evaluation_strategy=steps,\n",
       "fp16=False,\n",
       "fp16_backend=auto,\n",
       "fp16_full_eval=False,\n",
       "fp16_opt_level=O1,\n",
       "fsdp=[],\n",
       "fsdp_config={'fsdp_min_num_params': 0, 'xla': False, 'xla_fsdp_grad_ckpt': False},\n",
       "fsdp_min_num_params=0,\n",
       "fsdp_transformer_layer_cls_to_wrap=None,\n",
       "full_determinism=False,\n",
       "gradient_accumulation_steps=1,\n",
       "gradient_checkpointing=False,\n",
       "greater_is_better=True,\n",
       "group_by_length=False,\n",
       "half_precision_backend=auto,\n",
       "hub_model_id=None,\n",
       "hub_private_repo=False,\n",
       "hub_strategy=every_save,\n",
       "hub_token=<HUB_TOKEN>,\n",
       "ignore_data_skip=False,\n",
       "include_inputs_for_metrics=False,\n",
       "jit_mode_eval=False,\n",
       "label_names=None,\n",
       "label_smoothing_factor=0.0,\n",
       "learning_rate=5e-05,\n",
       "length_column_name=length,\n",
       "load_best_model_at_end=True,\n",
       "local_rank=-1,\n",
       "log_level=passive,\n",
       "log_level_replica=warning,\n",
       "log_on_each_node=True,\n",
       "logging_dir=/ivi/ilps/personal/vprovat/KB/NER_logs_BERTje_recall/runs/Sep04_16-42-45_ilps-cn101.ivi-ilps.local,\n",
       "logging_first_step=False,\n",
       "logging_nan_inf_filter=True,\n",
       "logging_steps=100,\n",
       "logging_strategy=steps,\n",
       "lr_scheduler_type=linear,\n",
       "max_grad_norm=1.0,\n",
       "max_steps=-1,\n",
       "metric_for_best_model=recall,\n",
       "mp_parameters=,\n",
       "no_cuda=False,\n",
       "num_train_epochs=15,\n",
       "optim=adamw_hf,\n",
       "optim_args=None,\n",
       "output_dir=/ivi/ilps/personal/vprovat/KB/NER_logs_BERTje_recall,\n",
       "overwrite_output_dir=False,\n",
       "past_index=-1,\n",
       "per_device_eval_batch_size=8,\n",
       "per_device_train_batch_size=8,\n",
       "prediction_loss_only=False,\n",
       "push_to_hub=False,\n",
       "push_to_hub_model_id=None,\n",
       "push_to_hub_organization=None,\n",
       "push_to_hub_token=<PUSH_TO_HUB_TOKEN>,\n",
       "ray_scope=last,\n",
       "remove_unused_columns=True,\n",
       "report_to=['tensorboard', 'wandb'],\n",
       "resume_from_checkpoint=None,\n",
       "run_name=/ivi/ilps/personal/vprovat/KB/NER_logs_BERTje_recall,\n",
       "save_on_each_node=False,\n",
       "save_safetensors=False,\n",
       "save_steps=500,\n",
       "save_strategy=steps,\n",
       "save_total_limit=50,\n",
       "seed=42,\n",
       "sharded_ddp=[],\n",
       "skip_memory_metrics=True,\n",
       "tf32=None,\n",
       "torch_compile=False,\n",
       "torch_compile_backend=None,\n",
       "torch_compile_mode=None,\n",
       "torchdynamo=None,\n",
       "tpu_metrics_debug=False,\n",
       "tpu_num_cores=None,\n",
       "use_ipex=False,\n",
       "use_legacy_prediction_loop=False,\n",
       "use_mps_device=False,\n",
       "warmup_ratio=0.0,\n",
       "warmup_steps=0,\n",
       "weight_decay=0.0,\n",
       "xpu_backend=None,\n",
       ")"
      ]
     },
     "execution_count": 20,
     "metadata": {},
     "output_type": "execute_result"
    }
   ],
   "source": [
    "training_args"
   ]
  },
  {
   "cell_type": "code",
   "execution_count": 15,
   "metadata": {},
   "outputs": [],
   "source": [
    "def data_collator(data):\n",
    "    input_ids = [torch.tensor(item[\"input_ids\"]) for item in data]\n",
    "    attention_mask = [torch.tensor(item[\"attention_mask\"]) for item in data]\n",
    "    labels = [torch.tensor(item[\"labels\"]) for item in data]\n",
    "\n",
    "\n",
    "    input_ids = torch.nn.utils.rnn.pad_sequence(input_ids, batch_first=True, padding_value=tokenizer.pad_token_id)\n",
    "    attention_mask = torch.nn.utils.rnn.pad_sequence(attention_mask, batch_first=True, padding_value=0)\n",
    "    labels = torch.nn.utils.rnn.pad_sequence(labels, batch_first=True, padding_value=-100)\n",
    "\n",
    "\n",
    "    return {\n",
    "        \"input_ids\": input_ids,\n",
    "        \"attention_mask\": attention_mask,\n",
    "        \"labels\": labels,\n",
    "    }\n",
    "\n",
    "\n",
    "trainer = CustomTrainer(\n",
    "    model=model,\n",
    "    args=training_args,\n",
    "    train_dataset=tokenized_datasets[\"train\"],\n",
    "    eval_dataset=tokenized_datasets[\"validation\"],\n",
    "    data_collator=data_collator,\n",
    "    tokenizer=tokenizer,\n",
    "    compute_metrics=compute_metrics,\n",
    "    callbacks = [EarlyStoppingCallback(early_stopping_patience=5)]\n",
    ")"
   ]
  },
  {
   "cell_type": "code",
   "execution_count": 16,
   "metadata": {},
   "outputs": [
    {
     "data": {
      "text/plain": [
       "4034"
      ]
     },
     "execution_count": 16,
     "metadata": {},
     "output_type": "execute_result"
    }
   ],
   "source": [
    "import gc\n",
    "torch.cuda.empty_cache()\n",
    "gc.collect()\n"
   ]
  },
  {
   "cell_type": "code",
   "execution_count": 17,
   "metadata": {},
   "outputs": [
    {
     "name": "stderr",
     "output_type": "stream",
     "text": [
      "/home/vprovat/anaconda3/lib/python3.7/site-packages/transformers/optimization.py:395: FutureWarning: This implementation of AdamW is deprecated and will be removed in a future version. Use the PyTorch implementation torch.optim.AdamW instead, or set `no_deprecation_warning=True` to disable this warning\n",
      "  FutureWarning,\n",
      "\u001b[34m\u001b[1mwandb\u001b[0m: Currently logged in as: \u001b[33mvsprovatorova\u001b[0m. Use \u001b[1m`wandb login --relogin`\u001b[0m to force relogin\n"
     ]
    },
    {
     "data": {
      "text/html": [
       "wandb version 0.15.9 is available!  To upgrade, please run:\n",
       " $ pip install wandb --upgrade"
      ],
      "text/plain": [
       "<IPython.core.display.HTML object>"
      ]
     },
     "metadata": {},
     "output_type": "display_data"
    },
    {
     "data": {
      "text/html": [
       "Tracking run with wandb version 0.15.8"
      ],
      "text/plain": [
       "<IPython.core.display.HTML object>"
      ]
     },
     "metadata": {},
     "output_type": "display_data"
    },
    {
     "data": {
      "text/html": [
       "Run data is saved locally in <code>/home/vprovat/KB_NER/wandb/run-20230904_164251-umtibfq6</code>"
      ],
      "text/plain": [
       "<IPython.core.display.HTML object>"
      ]
     },
     "metadata": {},
     "output_type": "display_data"
    },
    {
     "data": {
      "text/html": [
       "Syncing run <strong><a href='https://wandb.ai/vsprovatorova/huggingface/runs/umtibfq6' target=\"_blank\">dainty-jazz-21</a></strong> to <a href='https://wandb.ai/vsprovatorova/huggingface' target=\"_blank\">Weights & Biases</a> (<a href='https://wandb.me/run' target=\"_blank\">docs</a>)<br/>"
      ],
      "text/plain": [
       "<IPython.core.display.HTML object>"
      ]
     },
     "metadata": {},
     "output_type": "display_data"
    },
    {
     "data": {
      "text/html": [
       " View project at <a href='https://wandb.ai/vsprovatorova/huggingface' target=\"_blank\">https://wandb.ai/vsprovatorova/huggingface</a>"
      ],
      "text/plain": [
       "<IPython.core.display.HTML object>"
      ]
     },
     "metadata": {},
     "output_type": "display_data"
    },
    {
     "data": {
      "text/html": [
       " View run at <a href='https://wandb.ai/vsprovatorova/huggingface/runs/umtibfq6' target=\"_blank\">https://wandb.ai/vsprovatorova/huggingface/runs/umtibfq6</a>"
      ],
      "text/plain": [
       "<IPython.core.display.HTML object>"
      ]
     },
     "metadata": {},
     "output_type": "display_data"
    },
    {
     "data": {
      "text/html": [
       "\n",
       "    <div>\n",
       "      \n",
       "      <progress value='8000' max='20820' style='width:300px; height:20px; vertical-align: middle;'></progress>\n",
       "      [ 8000/20820 2:04:42 < 3:19:53, 1.07 it/s, Epoch 5/15]\n",
       "    </div>\n",
       "    <table border=\"1\" class=\"dataframe\">\n",
       "  <thead>\n",
       " <tr style=\"text-align: left;\">\n",
       "      <th>Step</th>\n",
       "      <th>Training Loss</th>\n",
       "      <th>Validation Loss</th>\n",
       "      <th>Precision</th>\n",
       "      <th>Recall</th>\n",
       "      <th>F1</th>\n",
       "      <th>Classification Report</th>\n",
       "    </tr>\n",
       "  </thead>\n",
       "  <tbody>\n",
       "    <tr>\n",
       "      <td>500</td>\n",
       "      <td>0.121800</td>\n",
       "      <td>0.124091</td>\n",
       "      <td>0.618142</td>\n",
       "      <td>0.664820</td>\n",
       "      <td>0.640632</td>\n",
       "      <td>              precision    recall  f1-score   support\n",
       "\n",
       "         LOC       0.61      0.79      0.69      7311\n",
       "         PER       0.64      0.66      0.65     14102\n",
       "        TIME       0.54      0.48      0.51      4755\n",
       "\n",
       "   micro avg       0.62      0.66      0.64     26168\n",
       "   macro avg       0.60      0.64      0.62     26168\n",
       "weighted avg       0.62      0.66      0.64     26168\n",
       "</td>\n",
       "    </tr>\n",
       "    <tr>\n",
       "      <td>1000</td>\n",
       "      <td>0.119800</td>\n",
       "      <td>0.113099</td>\n",
       "      <td>0.658163</td>\n",
       "      <td>0.700971</td>\n",
       "      <td>0.678893</td>\n",
       "      <td>              precision    recall  f1-score   support\n",
       "\n",
       "         LOC       0.75      0.78      0.76      7311\n",
       "         PER       0.63      0.71      0.67     14102\n",
       "        TIME       0.59      0.55      0.57      4755\n",
       "\n",
       "   micro avg       0.66      0.70      0.68     26168\n",
       "   macro avg       0.66      0.68      0.67     26168\n",
       "weighted avg       0.66      0.70      0.68     26168\n",
       "</td>\n",
       "    </tr>\n",
       "    <tr>\n",
       "      <td>1500</td>\n",
       "      <td>0.090400</td>\n",
       "      <td>0.108253</td>\n",
       "      <td>0.681083</td>\n",
       "      <td>0.710104</td>\n",
       "      <td>0.695291</td>\n",
       "      <td>              precision    recall  f1-score   support\n",
       "\n",
       "         LOC       0.71      0.83      0.76      7311\n",
       "         PER       0.69      0.71      0.70     14102\n",
       "        TIME       0.61      0.54      0.58      4755\n",
       "\n",
       "   micro avg       0.68      0.71      0.70     26168\n",
       "   macro avg       0.67      0.69      0.68     26168\n",
       "weighted avg       0.68      0.71      0.69     26168\n",
       "</td>\n",
       "    </tr>\n",
       "    <tr>\n",
       "      <td>2000</td>\n",
       "      <td>0.088000</td>\n",
       "      <td>0.103323</td>\n",
       "      <td>0.717213</td>\n",
       "      <td>0.710333</td>\n",
       "      <td>0.713756</td>\n",
       "      <td>              precision    recall  f1-score   support\n",
       "\n",
       "         LOC       0.73      0.82      0.77      7311\n",
       "         PER       0.74      0.70      0.72     14102\n",
       "        TIME       0.62      0.57      0.60      4755\n",
       "\n",
       "   micro avg       0.72      0.71      0.71     26168\n",
       "   macro avg       0.70      0.70      0.70     26168\n",
       "weighted avg       0.72      0.71      0.71     26168\n",
       "</td>\n",
       "    </tr>\n",
       "    <tr>\n",
       "      <td>2500</td>\n",
       "      <td>0.084300</td>\n",
       "      <td>0.105049</td>\n",
       "      <td>0.722551</td>\n",
       "      <td>0.713964</td>\n",
       "      <td>0.718232</td>\n",
       "      <td>              precision    recall  f1-score   support\n",
       "\n",
       "         LOC       0.72      0.82      0.76      7311\n",
       "         PER       0.75      0.70      0.72     14102\n",
       "        TIME       0.64      0.60      0.62      4755\n",
       "\n",
       "   micro avg       0.72      0.71      0.72     26168\n",
       "   macro avg       0.70      0.71      0.70     26168\n",
       "weighted avg       0.72      0.71      0.72     26168\n",
       "</td>\n",
       "    </tr>\n",
       "    <tr>\n",
       "      <td>3000</td>\n",
       "      <td>0.068200</td>\n",
       "      <td>0.109432</td>\n",
       "      <td>0.735317</td>\n",
       "      <td>0.717670</td>\n",
       "      <td>0.726387</td>\n",
       "      <td>              precision    recall  f1-score   support\n",
       "\n",
       "         LOC       0.77      0.81      0.79      7311\n",
       "         PER       0.74      0.71      0.73     14102\n",
       "        TIME       0.65      0.60      0.62      4755\n",
       "\n",
       "   micro avg       0.74      0.72      0.73     26168\n",
       "   macro avg       0.72      0.71      0.71     26168\n",
       "weighted avg       0.73      0.72      0.73     26168\n",
       "</td>\n",
       "    </tr>\n",
       "    <tr>\n",
       "      <td>3500</td>\n",
       "      <td>0.072700</td>\n",
       "      <td>0.107375</td>\n",
       "      <td>0.711751</td>\n",
       "      <td>0.717327</td>\n",
       "      <td>0.714528</td>\n",
       "      <td>              precision    recall  f1-score   support\n",
       "\n",
       "         LOC       0.73      0.83      0.78      7311\n",
       "         PER       0.72      0.70      0.71     14102\n",
       "        TIME       0.64      0.61      0.63      4755\n",
       "\n",
       "   micro avg       0.71      0.72      0.71     26168\n",
       "   macro avg       0.70      0.71      0.70     26168\n",
       "weighted avg       0.71      0.72      0.71     26168\n",
       "</td>\n",
       "    </tr>\n",
       "    <tr>\n",
       "      <td>4000</td>\n",
       "      <td>0.066600</td>\n",
       "      <td>0.109783</td>\n",
       "      <td>0.719080</td>\n",
       "      <td>0.709875</td>\n",
       "      <td>0.714448</td>\n",
       "      <td>              precision    recall  f1-score   support\n",
       "\n",
       "         LOC       0.73      0.79      0.76      7311\n",
       "         PER       0.73      0.70      0.72     14102\n",
       "        TIME       0.66      0.61      0.63      4755\n",
       "\n",
       "   micro avg       0.72      0.71      0.71     26168\n",
       "   macro avg       0.71      0.70      0.70     26168\n",
       "weighted avg       0.72      0.71      0.71     26168\n",
       "</td>\n",
       "    </tr>\n",
       "    <tr>\n",
       "      <td>4500</td>\n",
       "      <td>0.056800</td>\n",
       "      <td>0.115946</td>\n",
       "      <td>0.726422</td>\n",
       "      <td>0.721148</td>\n",
       "      <td>0.723776</td>\n",
       "      <td>              precision    recall  f1-score   support\n",
       "\n",
       "         LOC       0.74      0.81      0.78      7311\n",
       "         PER       0.74      0.71      0.73     14102\n",
       "        TIME       0.65      0.61      0.63      4755\n",
       "\n",
       "   micro avg       0.73      0.72      0.72     26168\n",
       "   macro avg       0.71      0.71      0.71     26168\n",
       "weighted avg       0.73      0.72      0.72     26168\n",
       "</td>\n",
       "    </tr>\n",
       "    <tr>\n",
       "      <td>5000</td>\n",
       "      <td>0.053300</td>\n",
       "      <td>0.113551</td>\n",
       "      <td>0.720174</td>\n",
       "      <td>0.716486</td>\n",
       "      <td>0.718325</td>\n",
       "      <td>              precision    recall  f1-score   support\n",
       "\n",
       "         LOC       0.74      0.80      0.77      7311\n",
       "         PER       0.73      0.71      0.72     14102\n",
       "        TIME       0.64      0.61      0.63      4755\n",
       "\n",
       "   micro avg       0.72      0.72      0.72     26168\n",
       "   macro avg       0.71      0.71      0.71     26168\n",
       "weighted avg       0.72      0.72      0.72     26168\n",
       "</td>\n",
       "    </tr>\n",
       "    <tr>\n",
       "      <td>5500</td>\n",
       "      <td>0.053600</td>\n",
       "      <td>0.108897</td>\n",
       "      <td>0.719167</td>\n",
       "      <td>0.726231</td>\n",
       "      <td>0.722682</td>\n",
       "      <td>              precision    recall  f1-score   support\n",
       "\n",
       "         LOC       0.73      0.82      0.77      7311\n",
       "         PER       0.73      0.71      0.72     14102\n",
       "        TIME       0.65      0.62      0.64      4755\n",
       "\n",
       "   micro avg       0.72      0.73      0.72     26168\n",
       "   macro avg       0.71      0.72      0.71     26168\n",
       "weighted avg       0.72      0.73      0.72     26168\n",
       "</td>\n",
       "    </tr>\n",
       "    <tr>\n",
       "      <td>6000</td>\n",
       "      <td>0.041900</td>\n",
       "      <td>0.125898</td>\n",
       "      <td>0.718043</td>\n",
       "      <td>0.724052</td>\n",
       "      <td>0.721035</td>\n",
       "      <td>              precision    recall  f1-score   support\n",
       "\n",
       "         LOC       0.76      0.81      0.78      7311\n",
       "         PER       0.72      0.71      0.72     14102\n",
       "        TIME       0.64      0.63      0.64      4755\n",
       "\n",
       "   micro avg       0.72      0.72      0.72     26168\n",
       "   macro avg       0.71      0.72      0.71     26168\n",
       "weighted avg       0.72      0.72      0.72     26168\n",
       "</td>\n",
       "    </tr>\n",
       "    <tr>\n",
       "      <td>6500</td>\n",
       "      <td>0.043500</td>\n",
       "      <td>0.126384</td>\n",
       "      <td>0.719522</td>\n",
       "      <td>0.717212</td>\n",
       "      <td>0.718365</td>\n",
       "      <td>              precision    recall  f1-score   support\n",
       "\n",
       "         LOC       0.76      0.81      0.78      7311\n",
       "         PER       0.72      0.71      0.71     14102\n",
       "        TIME       0.65      0.60      0.62      4755\n",
       "\n",
       "   micro avg       0.72      0.72      0.72     26168\n",
       "   macro avg       0.71      0.71      0.71     26168\n",
       "weighted avg       0.72      0.72      0.72     26168\n",
       "</td>\n",
       "    </tr>\n",
       "    <tr>\n",
       "      <td>7000</td>\n",
       "      <td>0.036900</td>\n",
       "      <td>0.139348</td>\n",
       "      <td>0.724485</td>\n",
       "      <td>0.715072</td>\n",
       "      <td>0.719748</td>\n",
       "      <td>              precision    recall  f1-score   support\n",
       "\n",
       "         LOC       0.77      0.80      0.78      7311\n",
       "         PER       0.73      0.70      0.71     14102\n",
       "        TIME       0.64      0.63      0.64      4755\n",
       "\n",
       "   micro avg       0.72      0.72      0.72     26168\n",
       "   macro avg       0.71      0.71      0.71     26168\n",
       "weighted avg       0.72      0.72      0.72     26168\n",
       "</td>\n",
       "    </tr>\n",
       "    <tr>\n",
       "      <td>7500</td>\n",
       "      <td>0.034700</td>\n",
       "      <td>0.136799</td>\n",
       "      <td>0.722736</td>\n",
       "      <td>0.707352</td>\n",
       "      <td>0.714962</td>\n",
       "      <td>              precision    recall  f1-score   support\n",
       "\n",
       "         LOC       0.76      0.80      0.78      7311\n",
       "         PER       0.73      0.70      0.71     14102\n",
       "        TIME       0.64      0.59      0.61      4755\n",
       "\n",
       "   micro avg       0.72      0.71      0.71     26168\n",
       "   macro avg       0.71      0.70      0.70     26168\n",
       "weighted avg       0.72      0.71      0.71     26168\n",
       "</td>\n",
       "    </tr>\n",
       "    <tr>\n",
       "      <td>8000</td>\n",
       "      <td>0.037000</td>\n",
       "      <td>0.144144</td>\n",
       "      <td>0.725118</td>\n",
       "      <td>0.716639</td>\n",
       "      <td>0.720853</td>\n",
       "      <td>              precision    recall  f1-score   support\n",
       "\n",
       "         LOC       0.75      0.81      0.78      7311\n",
       "         PER       0.74      0.71      0.72     14102\n",
       "        TIME       0.64      0.61      0.63      4755\n",
       "\n",
       "   micro avg       0.73      0.72      0.72     26168\n",
       "   macro avg       0.71      0.71      0.71     26168\n",
       "weighted avg       0.72      0.72      0.72     26168\n",
       "</td>\n",
       "    </tr>\n",
       "  </tbody>\n",
       "</table><p>"
      ],
      "text/plain": [
       "<IPython.core.display.HTML object>"
      ]
     },
     "metadata": {},
     "output_type": "display_data"
    },
    {
     "name": "stderr",
     "output_type": "stream",
     "text": [
      "Trainer is attempting to log a value of \"              precision    recall  f1-score   support\n",
      "\n",
      "         LOC       0.61      0.79      0.69      7311\n",
      "         PER       0.64      0.66      0.65     14102\n",
      "        TIME       0.54      0.48      0.51      4755\n",
      "\n",
      "   micro avg       0.62      0.66      0.64     26168\n",
      "   macro avg       0.60      0.64      0.62     26168\n",
      "weighted avg       0.62      0.66      0.64     26168\n",
      "\" of type <class 'str'> for key \"eval/classification_report\" as a scalar. This invocation of Tensorboard's writer.add_scalar() is incorrect so we dropped this attribute.\n",
      "Trainer is attempting to log a value of \"              precision    recall  f1-score   support\n",
      "\n",
      "         LOC       0.75      0.78      0.76      7311\n",
      "         PER       0.63      0.71      0.67     14102\n",
      "        TIME       0.59      0.55      0.57      4755\n",
      "\n",
      "   micro avg       0.66      0.70      0.68     26168\n",
      "   macro avg       0.66      0.68      0.67     26168\n",
      "weighted avg       0.66      0.70      0.68     26168\n",
      "\" of type <class 'str'> for key \"eval/classification_report\" as a scalar. This invocation of Tensorboard's writer.add_scalar() is incorrect so we dropped this attribute.\n",
      "Trainer is attempting to log a value of \"              precision    recall  f1-score   support\n",
      "\n",
      "         LOC       0.71      0.83      0.76      7311\n",
      "         PER       0.69      0.71      0.70     14102\n",
      "        TIME       0.61      0.54      0.58      4755\n",
      "\n",
      "   micro avg       0.68      0.71      0.70     26168\n",
      "   macro avg       0.67      0.69      0.68     26168\n",
      "weighted avg       0.68      0.71      0.69     26168\n",
      "\" of type <class 'str'> for key \"eval/classification_report\" as a scalar. This invocation of Tensorboard's writer.add_scalar() is incorrect so we dropped this attribute.\n",
      "Trainer is attempting to log a value of \"              precision    recall  f1-score   support\n",
      "\n",
      "         LOC       0.73      0.82      0.77      7311\n",
      "         PER       0.74      0.70      0.72     14102\n",
      "        TIME       0.62      0.57      0.60      4755\n",
      "\n",
      "   micro avg       0.72      0.71      0.71     26168\n",
      "   macro avg       0.70      0.70      0.70     26168\n",
      "weighted avg       0.72      0.71      0.71     26168\n",
      "\" of type <class 'str'> for key \"eval/classification_report\" as a scalar. This invocation of Tensorboard's writer.add_scalar() is incorrect so we dropped this attribute.\n",
      "Trainer is attempting to log a value of \"              precision    recall  f1-score   support\n",
      "\n",
      "         LOC       0.72      0.82      0.76      7311\n",
      "         PER       0.75      0.70      0.72     14102\n",
      "        TIME       0.64      0.60      0.62      4755\n",
      "\n",
      "   micro avg       0.72      0.71      0.72     26168\n",
      "   macro avg       0.70      0.71      0.70     26168\n",
      "weighted avg       0.72      0.71      0.72     26168\n",
      "\" of type <class 'str'> for key \"eval/classification_report\" as a scalar. This invocation of Tensorboard's writer.add_scalar() is incorrect so we dropped this attribute.\n",
      "Trainer is attempting to log a value of \"              precision    recall  f1-score   support\n",
      "\n",
      "         LOC       0.77      0.81      0.79      7311\n",
      "         PER       0.74      0.71      0.73     14102\n",
      "        TIME       0.65      0.60      0.62      4755\n",
      "\n",
      "   micro avg       0.74      0.72      0.73     26168\n",
      "   macro avg       0.72      0.71      0.71     26168\n",
      "weighted avg       0.73      0.72      0.73     26168\n",
      "\" of type <class 'str'> for key \"eval/classification_report\" as a scalar. This invocation of Tensorboard's writer.add_scalar() is incorrect so we dropped this attribute.\n",
      "Trainer is attempting to log a value of \"              precision    recall  f1-score   support\n",
      "\n",
      "         LOC       0.73      0.83      0.78      7311\n",
      "         PER       0.72      0.70      0.71     14102\n",
      "        TIME       0.64      0.61      0.63      4755\n",
      "\n",
      "   micro avg       0.71      0.72      0.71     26168\n",
      "   macro avg       0.70      0.71      0.70     26168\n",
      "weighted avg       0.71      0.72      0.71     26168\n",
      "\" of type <class 'str'> for key \"eval/classification_report\" as a scalar. This invocation of Tensorboard's writer.add_scalar() is incorrect so we dropped this attribute.\n",
      "Trainer is attempting to log a value of \"              precision    recall  f1-score   support\n",
      "\n",
      "         LOC       0.73      0.79      0.76      7311\n",
      "         PER       0.73      0.70      0.72     14102\n",
      "        TIME       0.66      0.61      0.63      4755\n",
      "\n",
      "   micro avg       0.72      0.71      0.71     26168\n",
      "   macro avg       0.71      0.70      0.70     26168\n",
      "weighted avg       0.72      0.71      0.71     26168\n",
      "\" of type <class 'str'> for key \"eval/classification_report\" as a scalar. This invocation of Tensorboard's writer.add_scalar() is incorrect so we dropped this attribute.\n",
      "Trainer is attempting to log a value of \"              precision    recall  f1-score   support\n",
      "\n",
      "         LOC       0.74      0.81      0.78      7311\n",
      "         PER       0.74      0.71      0.73     14102\n",
      "        TIME       0.65      0.61      0.63      4755\n",
      "\n",
      "   micro avg       0.73      0.72      0.72     26168\n",
      "   macro avg       0.71      0.71      0.71     26168\n",
      "weighted avg       0.73      0.72      0.72     26168\n",
      "\" of type <class 'str'> for key \"eval/classification_report\" as a scalar. This invocation of Tensorboard's writer.add_scalar() is incorrect so we dropped this attribute.\n",
      "Trainer is attempting to log a value of \"              precision    recall  f1-score   support\n",
      "\n",
      "         LOC       0.74      0.80      0.77      7311\n",
      "         PER       0.73      0.71      0.72     14102\n",
      "        TIME       0.64      0.61      0.63      4755\n",
      "\n",
      "   micro avg       0.72      0.72      0.72     26168\n",
      "   macro avg       0.71      0.71      0.71     26168\n",
      "weighted avg       0.72      0.72      0.72     26168\n",
      "\" of type <class 'str'> for key \"eval/classification_report\" as a scalar. This invocation of Tensorboard's writer.add_scalar() is incorrect so we dropped this attribute.\n",
      "Trainer is attempting to log a value of \"              precision    recall  f1-score   support\n",
      "\n",
      "         LOC       0.73      0.82      0.77      7311\n",
      "         PER       0.73      0.71      0.72     14102\n",
      "        TIME       0.65      0.62      0.64      4755\n",
      "\n",
      "   micro avg       0.72      0.73      0.72     26168\n",
      "   macro avg       0.71      0.72      0.71     26168\n",
      "weighted avg       0.72      0.73      0.72     26168\n",
      "\" of type <class 'str'> for key \"eval/classification_report\" as a scalar. This invocation of Tensorboard's writer.add_scalar() is incorrect so we dropped this attribute.\n",
      "Trainer is attempting to log a value of \"              precision    recall  f1-score   support\n",
      "\n",
      "         LOC       0.76      0.81      0.78      7311\n",
      "         PER       0.72      0.71      0.72     14102\n",
      "        TIME       0.64      0.63      0.64      4755\n",
      "\n",
      "   micro avg       0.72      0.72      0.72     26168\n",
      "   macro avg       0.71      0.72      0.71     26168\n",
      "weighted avg       0.72      0.72      0.72     26168\n",
      "\" of type <class 'str'> for key \"eval/classification_report\" as a scalar. This invocation of Tensorboard's writer.add_scalar() is incorrect so we dropped this attribute.\n",
      "Trainer is attempting to log a value of \"              precision    recall  f1-score   support\n",
      "\n",
      "         LOC       0.76      0.81      0.78      7311\n",
      "         PER       0.72      0.71      0.71     14102\n",
      "        TIME       0.65      0.60      0.62      4755\n",
      "\n",
      "   micro avg       0.72      0.72      0.72     26168\n",
      "   macro avg       0.71      0.71      0.71     26168\n",
      "weighted avg       0.72      0.72      0.72     26168\n",
      "\" of type <class 'str'> for key \"eval/classification_report\" as a scalar. This invocation of Tensorboard's writer.add_scalar() is incorrect so we dropped this attribute.\n",
      "Trainer is attempting to log a value of \"              precision    recall  f1-score   support\n",
      "\n",
      "         LOC       0.77      0.80      0.78      7311\n",
      "         PER       0.73      0.70      0.71     14102\n",
      "        TIME       0.64      0.63      0.64      4755\n",
      "\n",
      "   micro avg       0.72      0.72      0.72     26168\n",
      "   macro avg       0.71      0.71      0.71     26168\n",
      "weighted avg       0.72      0.72      0.72     26168\n",
      "\" of type <class 'str'> for key \"eval/classification_report\" as a scalar. This invocation of Tensorboard's writer.add_scalar() is incorrect so we dropped this attribute.\n"
     ]
    },
    {
     "name": "stderr",
     "output_type": "stream",
     "text": [
      "Trainer is attempting to log a value of \"              precision    recall  f1-score   support\n",
      "\n",
      "         LOC       0.76      0.80      0.78      7311\n",
      "         PER       0.73      0.70      0.71     14102\n",
      "        TIME       0.64      0.59      0.61      4755\n",
      "\n",
      "   micro avg       0.72      0.71      0.71     26168\n",
      "   macro avg       0.71      0.70      0.70     26168\n",
      "weighted avg       0.72      0.71      0.71     26168\n",
      "\" of type <class 'str'> for key \"eval/classification_report\" as a scalar. This invocation of Tensorboard's writer.add_scalar() is incorrect so we dropped this attribute.\n",
      "Trainer is attempting to log a value of \"              precision    recall  f1-score   support\n",
      "\n",
      "         LOC       0.75      0.81      0.78      7311\n",
      "         PER       0.74      0.71      0.72     14102\n",
      "        TIME       0.64      0.61      0.63      4755\n",
      "\n",
      "   micro avg       0.73      0.72      0.72     26168\n",
      "   macro avg       0.71      0.71      0.71     26168\n",
      "weighted avg       0.72      0.72      0.72     26168\n",
      "\" of type <class 'str'> for key \"eval/classification_report\" as a scalar. This invocation of Tensorboard's writer.add_scalar() is incorrect so we dropped this attribute.\n"
     ]
    },
    {
     "data": {
      "text/plain": [
       "TrainOutput(global_step=8000, training_loss=0.07176743483543396, metrics={'train_runtime': 7496.1126, 'train_samples_per_second': 22.22, 'train_steps_per_second': 2.777, 'total_flos': 1.6723748388864e+16, 'train_loss': 0.07176743483543396, 'epoch': 5.76})"
      ]
     },
     "execution_count": 17,
     "metadata": {},
     "output_type": "execute_result"
    }
   ],
   "source": [
    "trainer.train(resume_from_checkpoint=False)\n"
   ]
  },
  {
   "cell_type": "code",
   "execution_count": 18,
   "metadata": {},
   "outputs": [],
   "source": [
    "trainer.model.config.id2label = id2label\n",
    "trainer.model.config.label2id = label2id"
   ]
  },
  {
   "cell_type": "code",
   "execution_count": 19,
   "metadata": {},
   "outputs": [],
   "source": [
    "trainer.save_model('/ivi/ilps/personal/vprovat/KB/models/BERTje-NER-v4')"
   ]
  },
  {
   "cell_type": "code",
   "execution_count": null,
   "metadata": {},
   "outputs": [],
   "source": []
  }
 ],
 "metadata": {
  "kernelspec": {
   "display_name": "tabi",
   "language": "python",
   "name": "tabi"
  },
  "language_info": {
   "codemirror_mode": {
    "name": "ipython",
    "version": 3
   },
   "file_extension": ".py",
   "mimetype": "text/x-python",
   "name": "python",
   "nbconvert_exporter": "python",
   "pygments_lexer": "ipython3",
   "version": "3.7.5"
  }
 },
 "nbformat": 4,
 "nbformat_minor": 4
}
